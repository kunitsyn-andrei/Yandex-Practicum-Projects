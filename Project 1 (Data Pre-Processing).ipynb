{
 "cells": [
  {
   "cell_type": "markdown",
   "id": "eb1141f4",
   "metadata": {},
   "source": [
    "<div style=\"border:solid steelblue 3px; padding: 20px; border-radius: 10px\">\n",
    "\n",
    "**Привет, Андрей!** 👋\n",
    "\n",
    "Меня зовут Алексей Манелюк, я буду проверять твой проект. В Яндекс Практикуме принято общаться на \"ты\" 😉, но если некомфортно - скажи и перейдем на \"Вы\".\n",
    "\n",
    "Моя цель - не указать на ошибки, а поделиться опытом и помочь в освоении анализа данных.\n",
    "\n",
    "В тетрадке ты увидишь мои комментарии, пожалуйста, не удаляй, не перемещай и не изменяй их. У комментариев могут быть приписки **V2**, **V3**, **V...**, которые соответствуют каждой версии проверки. \n",
    "    \n",
    "Я буду использовать цветовую разметку:\n",
    "<p>\n",
    "<div class=\"alert-danger\" style=\"padding: 20px; border-radius: 10px\">\n",
    "<b>Комментарий ревьюера ❌</b>\n",
    "\n",
    "Так выделены критические замечания. Без их отработки я не смогу принять проект. </div>\n",
    "\n",
    "<div class=\"alert-warning\" style=\"padding: 20px; border-radius: 10px\">\n",
    "<b>  Комментарий ревьюера ⚠️</b>\n",
    "\n",
    "Так выделены небольшие замечания или полезные советы. Постарайся учесть их.</div>\n",
    "<p>\n",
    "<div class=\"alert-success\" style=\"padding: 20px; border-radius: 10px\">\n",
    "<b>Комментарий ревьюера ✔️</b>\n",
    "\n",
    "Так выделены правильные решения.</div>\n",
    "\n",
    "Предлагаю работать в диалоге: если что-то дорабатываешь или отвечаешь на мой комментарий - пиши об этом. Мне будет удобней, если ты выделишь свои комментарии:\n",
    "<p>\n",
    "<div class=\"alert-info\" style=\"padding: 20px; border-radius: 10px\">\n",
    "<b>Комментарий студента 💎</b>\n",
    "\n",
    "Здесь исправил.</div>\n",
    "\n",
    "Все это поможет мне быстрее принять твой проект.</div>"
   ]
  },
  {
   "cell_type": "markdown",
   "id": "c0387630",
   "metadata": {},
   "source": [
    "<div class=\"alert-info\" style=\"padding: 20px; border-radius: 10px\">\n",
    "<b>Комментарий студента 💎</b>\n",
    "\n",
    "Написать свой комментарий можно, скопировав этот блок в ячейку Markdown.</div>"
   ]
  },
  {
   "cell_type": "markdown",
   "id": "386f2ae7",
   "metadata": {
    "deletable": false,
    "editable": false,
    "id": "386f2ae7"
   },
   "source": [
    "# Исследование надежности заемщиков\n"
   ]
  },
  {
   "cell_type": "markdown",
   "id": "ffe86f65",
   "metadata": {
    "deletable": false,
    "editable": false,
    "id": "ffe86f65"
   },
   "source": [
    "Во второй части проекта вы выполните шаги 3 и 4. Их вручную проверит ревьюер.\n",
    "Чтобы вам не пришлось писать код заново для шагов 1 и 2, мы добавили авторские решения в ячейки с кодом. \n",
    "\n"
   ]
  },
  {
   "cell_type": "markdown",
   "id": "4029f40e",
   "metadata": {},
   "source": [
    "<div class=\"alert-warning\" style=\"padding: 20px; border-radius: 10px\">\n",
    "<b>Комментарий ревьюера ⚠️</b>\n",
    "\n",
    "Несмотря на то, что первая часть проекта проверяется автоматизрованно, дам по ней пару советов - они пригодятся тебе в следующих проектах. \n",
    "\n",
    "**Их отработка сейчас необязательна**.\n",
    "\n",
    "📌 После названия, обязательно нужно добавлять бриф, цели исследования, описание данных и план работы.</div>"
   ]
  },
  {
   "cell_type": "markdown",
   "id": "26613308",
   "metadata": {
    "deletable": false,
    "editable": false,
    "id": "26613308"
   },
   "source": [
    "## Откройте таблицу и изучите общую информацию о данных"
   ]
  },
  {
   "cell_type": "markdown",
   "id": "3c9f838e",
   "metadata": {
    "deletable": false,
    "editable": false,
    "id": "3c9f838e"
   },
   "source": [
    "**Задание 1. Импортируйте библиотеку pandas. Считайте данные из csv-файла в датафрейм и сохраните в переменную `data`. Путь к файлу:**\n",
    "\n",
    "`/datasets/data.csv`"
   ]
  },
  {
   "cell_type": "code",
   "execution_count": 1,
   "id": "77a68a90",
   "metadata": {
    "deletable": false,
    "id": "77a68a90"
   },
   "outputs": [],
   "source": [
    "import pandas as pd\n",
    "\n",
    "try:\n",
    "    data = pd.read_csv('/datasets/data.csv')\n",
    "except:\n",
    "    data = pd.read_csv('https://code.s3.yandex.net/datasets/data.csv')"
   ]
  },
  {
   "cell_type": "markdown",
   "id": "45365635",
   "metadata": {
    "deletable": false,
    "editable": false,
    "id": "45365635"
   },
   "source": [
    "**Задание 2. Выведите первые 20 строчек датафрейма `data` на экран.**"
   ]
  },
  {
   "cell_type": "code",
   "execution_count": 2,
   "id": "b0451a9a",
   "metadata": {
    "deletable": false,
    "id": "b0451a9a",
    "outputId": "1a8f3ef2-d323-4ec2-ddf7-89670b5944c4"
   },
   "outputs": [
    {
     "data": {
      "text/html": [
       "<div>\n",
       "<style scoped>\n",
       "    .dataframe tbody tr th:only-of-type {\n",
       "        vertical-align: middle;\n",
       "    }\n",
       "\n",
       "    .dataframe tbody tr th {\n",
       "        vertical-align: top;\n",
       "    }\n",
       "\n",
       "    .dataframe thead th {\n",
       "        text-align: right;\n",
       "    }\n",
       "</style>\n",
       "<table border=\"1\" class=\"dataframe\">\n",
       "  <thead>\n",
       "    <tr style=\"text-align: right;\">\n",
       "      <th></th>\n",
       "      <th>children</th>\n",
       "      <th>days_employed</th>\n",
       "      <th>dob_years</th>\n",
       "      <th>education</th>\n",
       "      <th>education_id</th>\n",
       "      <th>family_status</th>\n",
       "      <th>family_status_id</th>\n",
       "      <th>gender</th>\n",
       "      <th>income_type</th>\n",
       "      <th>debt</th>\n",
       "      <th>total_income</th>\n",
       "      <th>purpose</th>\n",
       "    </tr>\n",
       "  </thead>\n",
       "  <tbody>\n",
       "    <tr>\n",
       "      <th>0</th>\n",
       "      <td>1</td>\n",
       "      <td>-8437.673028</td>\n",
       "      <td>42</td>\n",
       "      <td>высшее</td>\n",
       "      <td>0</td>\n",
       "      <td>женат / замужем</td>\n",
       "      <td>0</td>\n",
       "      <td>F</td>\n",
       "      <td>сотрудник</td>\n",
       "      <td>0</td>\n",
       "      <td>253875.639453</td>\n",
       "      <td>покупка жилья</td>\n",
       "    </tr>\n",
       "    <tr>\n",
       "      <th>1</th>\n",
       "      <td>1</td>\n",
       "      <td>-4024.803754</td>\n",
       "      <td>36</td>\n",
       "      <td>среднее</td>\n",
       "      <td>1</td>\n",
       "      <td>женат / замужем</td>\n",
       "      <td>0</td>\n",
       "      <td>F</td>\n",
       "      <td>сотрудник</td>\n",
       "      <td>0</td>\n",
       "      <td>112080.014102</td>\n",
       "      <td>приобретение автомобиля</td>\n",
       "    </tr>\n",
       "    <tr>\n",
       "      <th>2</th>\n",
       "      <td>0</td>\n",
       "      <td>-5623.422610</td>\n",
       "      <td>33</td>\n",
       "      <td>Среднее</td>\n",
       "      <td>1</td>\n",
       "      <td>женат / замужем</td>\n",
       "      <td>0</td>\n",
       "      <td>M</td>\n",
       "      <td>сотрудник</td>\n",
       "      <td>0</td>\n",
       "      <td>145885.952297</td>\n",
       "      <td>покупка жилья</td>\n",
       "    </tr>\n",
       "    <tr>\n",
       "      <th>3</th>\n",
       "      <td>3</td>\n",
       "      <td>-4124.747207</td>\n",
       "      <td>32</td>\n",
       "      <td>среднее</td>\n",
       "      <td>1</td>\n",
       "      <td>женат / замужем</td>\n",
       "      <td>0</td>\n",
       "      <td>M</td>\n",
       "      <td>сотрудник</td>\n",
       "      <td>0</td>\n",
       "      <td>267628.550329</td>\n",
       "      <td>дополнительное образование</td>\n",
       "    </tr>\n",
       "    <tr>\n",
       "      <th>4</th>\n",
       "      <td>0</td>\n",
       "      <td>340266.072047</td>\n",
       "      <td>53</td>\n",
       "      <td>среднее</td>\n",
       "      <td>1</td>\n",
       "      <td>гражданский брак</td>\n",
       "      <td>1</td>\n",
       "      <td>F</td>\n",
       "      <td>пенсионер</td>\n",
       "      <td>0</td>\n",
       "      <td>158616.077870</td>\n",
       "      <td>сыграть свадьбу</td>\n",
       "    </tr>\n",
       "    <tr>\n",
       "      <th>5</th>\n",
       "      <td>0</td>\n",
       "      <td>-926.185831</td>\n",
       "      <td>27</td>\n",
       "      <td>высшее</td>\n",
       "      <td>0</td>\n",
       "      <td>гражданский брак</td>\n",
       "      <td>1</td>\n",
       "      <td>M</td>\n",
       "      <td>компаньон</td>\n",
       "      <td>0</td>\n",
       "      <td>255763.565419</td>\n",
       "      <td>покупка жилья</td>\n",
       "    </tr>\n",
       "    <tr>\n",
       "      <th>6</th>\n",
       "      <td>0</td>\n",
       "      <td>-2879.202052</td>\n",
       "      <td>43</td>\n",
       "      <td>высшее</td>\n",
       "      <td>0</td>\n",
       "      <td>женат / замужем</td>\n",
       "      <td>0</td>\n",
       "      <td>F</td>\n",
       "      <td>компаньон</td>\n",
       "      <td>0</td>\n",
       "      <td>240525.971920</td>\n",
       "      <td>операции с жильем</td>\n",
       "    </tr>\n",
       "    <tr>\n",
       "      <th>7</th>\n",
       "      <td>0</td>\n",
       "      <td>-152.779569</td>\n",
       "      <td>50</td>\n",
       "      <td>СРЕДНЕЕ</td>\n",
       "      <td>1</td>\n",
       "      <td>женат / замужем</td>\n",
       "      <td>0</td>\n",
       "      <td>M</td>\n",
       "      <td>сотрудник</td>\n",
       "      <td>0</td>\n",
       "      <td>135823.934197</td>\n",
       "      <td>образование</td>\n",
       "    </tr>\n",
       "    <tr>\n",
       "      <th>8</th>\n",
       "      <td>2</td>\n",
       "      <td>-6929.865299</td>\n",
       "      <td>35</td>\n",
       "      <td>ВЫСШЕЕ</td>\n",
       "      <td>0</td>\n",
       "      <td>гражданский брак</td>\n",
       "      <td>1</td>\n",
       "      <td>F</td>\n",
       "      <td>сотрудник</td>\n",
       "      <td>0</td>\n",
       "      <td>95856.832424</td>\n",
       "      <td>на проведение свадьбы</td>\n",
       "    </tr>\n",
       "    <tr>\n",
       "      <th>9</th>\n",
       "      <td>0</td>\n",
       "      <td>-2188.756445</td>\n",
       "      <td>41</td>\n",
       "      <td>среднее</td>\n",
       "      <td>1</td>\n",
       "      <td>женат / замужем</td>\n",
       "      <td>0</td>\n",
       "      <td>M</td>\n",
       "      <td>сотрудник</td>\n",
       "      <td>0</td>\n",
       "      <td>144425.938277</td>\n",
       "      <td>покупка жилья для семьи</td>\n",
       "    </tr>\n",
       "    <tr>\n",
       "      <th>10</th>\n",
       "      <td>2</td>\n",
       "      <td>-4171.483647</td>\n",
       "      <td>36</td>\n",
       "      <td>высшее</td>\n",
       "      <td>0</td>\n",
       "      <td>женат / замужем</td>\n",
       "      <td>0</td>\n",
       "      <td>M</td>\n",
       "      <td>компаньон</td>\n",
       "      <td>0</td>\n",
       "      <td>113943.491460</td>\n",
       "      <td>покупка недвижимости</td>\n",
       "    </tr>\n",
       "    <tr>\n",
       "      <th>11</th>\n",
       "      <td>0</td>\n",
       "      <td>-792.701887</td>\n",
       "      <td>40</td>\n",
       "      <td>среднее</td>\n",
       "      <td>1</td>\n",
       "      <td>женат / замужем</td>\n",
       "      <td>0</td>\n",
       "      <td>F</td>\n",
       "      <td>сотрудник</td>\n",
       "      <td>0</td>\n",
       "      <td>77069.234271</td>\n",
       "      <td>покупка коммерческой недвижимости</td>\n",
       "    </tr>\n",
       "    <tr>\n",
       "      <th>12</th>\n",
       "      <td>0</td>\n",
       "      <td>NaN</td>\n",
       "      <td>65</td>\n",
       "      <td>среднее</td>\n",
       "      <td>1</td>\n",
       "      <td>гражданский брак</td>\n",
       "      <td>1</td>\n",
       "      <td>M</td>\n",
       "      <td>пенсионер</td>\n",
       "      <td>0</td>\n",
       "      <td>NaN</td>\n",
       "      <td>сыграть свадьбу</td>\n",
       "    </tr>\n",
       "    <tr>\n",
       "      <th>13</th>\n",
       "      <td>0</td>\n",
       "      <td>-1846.641941</td>\n",
       "      <td>54</td>\n",
       "      <td>неоконченное высшее</td>\n",
       "      <td>2</td>\n",
       "      <td>женат / замужем</td>\n",
       "      <td>0</td>\n",
       "      <td>F</td>\n",
       "      <td>сотрудник</td>\n",
       "      <td>0</td>\n",
       "      <td>130458.228857</td>\n",
       "      <td>приобретение автомобиля</td>\n",
       "    </tr>\n",
       "    <tr>\n",
       "      <th>14</th>\n",
       "      <td>0</td>\n",
       "      <td>-1844.956182</td>\n",
       "      <td>56</td>\n",
       "      <td>высшее</td>\n",
       "      <td>0</td>\n",
       "      <td>гражданский брак</td>\n",
       "      <td>1</td>\n",
       "      <td>F</td>\n",
       "      <td>компаньон</td>\n",
       "      <td>1</td>\n",
       "      <td>165127.911772</td>\n",
       "      <td>покупка жилой недвижимости</td>\n",
       "    </tr>\n",
       "    <tr>\n",
       "      <th>15</th>\n",
       "      <td>1</td>\n",
       "      <td>-972.364419</td>\n",
       "      <td>26</td>\n",
       "      <td>среднее</td>\n",
       "      <td>1</td>\n",
       "      <td>женат / замужем</td>\n",
       "      <td>0</td>\n",
       "      <td>F</td>\n",
       "      <td>сотрудник</td>\n",
       "      <td>0</td>\n",
       "      <td>116820.904450</td>\n",
       "      <td>строительство собственной недвижимости</td>\n",
       "    </tr>\n",
       "    <tr>\n",
       "      <th>16</th>\n",
       "      <td>0</td>\n",
       "      <td>-1719.934226</td>\n",
       "      <td>35</td>\n",
       "      <td>среднее</td>\n",
       "      <td>1</td>\n",
       "      <td>женат / замужем</td>\n",
       "      <td>0</td>\n",
       "      <td>F</td>\n",
       "      <td>сотрудник</td>\n",
       "      <td>0</td>\n",
       "      <td>289202.704229</td>\n",
       "      <td>недвижимость</td>\n",
       "    </tr>\n",
       "    <tr>\n",
       "      <th>17</th>\n",
       "      <td>0</td>\n",
       "      <td>-2369.999720</td>\n",
       "      <td>33</td>\n",
       "      <td>высшее</td>\n",
       "      <td>0</td>\n",
       "      <td>гражданский брак</td>\n",
       "      <td>1</td>\n",
       "      <td>M</td>\n",
       "      <td>сотрудник</td>\n",
       "      <td>0</td>\n",
       "      <td>90410.586745</td>\n",
       "      <td>строительство недвижимости</td>\n",
       "    </tr>\n",
       "    <tr>\n",
       "      <th>18</th>\n",
       "      <td>0</td>\n",
       "      <td>400281.136913</td>\n",
       "      <td>53</td>\n",
       "      <td>среднее</td>\n",
       "      <td>1</td>\n",
       "      <td>вдовец / вдова</td>\n",
       "      <td>2</td>\n",
       "      <td>F</td>\n",
       "      <td>пенсионер</td>\n",
       "      <td>0</td>\n",
       "      <td>56823.777243</td>\n",
       "      <td>на покупку подержанного автомобиля</td>\n",
       "    </tr>\n",
       "    <tr>\n",
       "      <th>19</th>\n",
       "      <td>0</td>\n",
       "      <td>-10038.818549</td>\n",
       "      <td>48</td>\n",
       "      <td>СРЕДНЕЕ</td>\n",
       "      <td>1</td>\n",
       "      <td>в разводе</td>\n",
       "      <td>3</td>\n",
       "      <td>F</td>\n",
       "      <td>сотрудник</td>\n",
       "      <td>0</td>\n",
       "      <td>242831.107982</td>\n",
       "      <td>на покупку своего автомобиля</td>\n",
       "    </tr>\n",
       "  </tbody>\n",
       "</table>\n",
       "</div>"
      ],
      "text/plain": [
       "    children  days_employed  dob_years            education  education_id  \\\n",
       "0          1   -8437.673028         42               высшее             0   \n",
       "1          1   -4024.803754         36              среднее             1   \n",
       "2          0   -5623.422610         33              Среднее             1   \n",
       "3          3   -4124.747207         32              среднее             1   \n",
       "4          0  340266.072047         53              среднее             1   \n",
       "5          0    -926.185831         27               высшее             0   \n",
       "6          0   -2879.202052         43               высшее             0   \n",
       "7          0    -152.779569         50              СРЕДНЕЕ             1   \n",
       "8          2   -6929.865299         35               ВЫСШЕЕ             0   \n",
       "9          0   -2188.756445         41              среднее             1   \n",
       "10         2   -4171.483647         36               высшее             0   \n",
       "11         0    -792.701887         40              среднее             1   \n",
       "12         0            NaN         65              среднее             1   \n",
       "13         0   -1846.641941         54  неоконченное высшее             2   \n",
       "14         0   -1844.956182         56               высшее             0   \n",
       "15         1    -972.364419         26              среднее             1   \n",
       "16         0   -1719.934226         35              среднее             1   \n",
       "17         0   -2369.999720         33               высшее             0   \n",
       "18         0  400281.136913         53              среднее             1   \n",
       "19         0  -10038.818549         48              СРЕДНЕЕ             1   \n",
       "\n",
       "       family_status  family_status_id gender income_type  debt  \\\n",
       "0    женат / замужем                 0      F   сотрудник     0   \n",
       "1    женат / замужем                 0      F   сотрудник     0   \n",
       "2    женат / замужем                 0      M   сотрудник     0   \n",
       "3    женат / замужем                 0      M   сотрудник     0   \n",
       "4   гражданский брак                 1      F   пенсионер     0   \n",
       "5   гражданский брак                 1      M   компаньон     0   \n",
       "6    женат / замужем                 0      F   компаньон     0   \n",
       "7    женат / замужем                 0      M   сотрудник     0   \n",
       "8   гражданский брак                 1      F   сотрудник     0   \n",
       "9    женат / замужем                 0      M   сотрудник     0   \n",
       "10   женат / замужем                 0      M   компаньон     0   \n",
       "11   женат / замужем                 0      F   сотрудник     0   \n",
       "12  гражданский брак                 1      M   пенсионер     0   \n",
       "13   женат / замужем                 0      F   сотрудник     0   \n",
       "14  гражданский брак                 1      F   компаньон     1   \n",
       "15   женат / замужем                 0      F   сотрудник     0   \n",
       "16   женат / замужем                 0      F   сотрудник     0   \n",
       "17  гражданский брак                 1      M   сотрудник     0   \n",
       "18    вдовец / вдова                 2      F   пенсионер     0   \n",
       "19         в разводе                 3      F   сотрудник     0   \n",
       "\n",
       "     total_income                                 purpose  \n",
       "0   253875.639453                           покупка жилья  \n",
       "1   112080.014102                 приобретение автомобиля  \n",
       "2   145885.952297                           покупка жилья  \n",
       "3   267628.550329              дополнительное образование  \n",
       "4   158616.077870                         сыграть свадьбу  \n",
       "5   255763.565419                           покупка жилья  \n",
       "6   240525.971920                       операции с жильем  \n",
       "7   135823.934197                             образование  \n",
       "8    95856.832424                   на проведение свадьбы  \n",
       "9   144425.938277                 покупка жилья для семьи  \n",
       "10  113943.491460                    покупка недвижимости  \n",
       "11   77069.234271       покупка коммерческой недвижимости  \n",
       "12            NaN                         сыграть свадьбу  \n",
       "13  130458.228857                 приобретение автомобиля  \n",
       "14  165127.911772              покупка жилой недвижимости  \n",
       "15  116820.904450  строительство собственной недвижимости  \n",
       "16  289202.704229                            недвижимость  \n",
       "17   90410.586745              строительство недвижимости  \n",
       "18   56823.777243      на покупку подержанного автомобиля  \n",
       "19  242831.107982            на покупку своего автомобиля  "
      ]
     },
     "execution_count": 2,
     "metadata": {},
     "output_type": "execute_result"
    }
   ],
   "source": [
    "data.head(20)"
   ]
  },
  {
   "cell_type": "markdown",
   "id": "0ed8f27f",
   "metadata": {
    "deletable": false,
    "editable": false,
    "id": "0ed8f27f"
   },
   "source": [
    "**Задание 3. Выведите основную информацию о датафрейме с помощью метода `info()`.**"
   ]
  },
  {
   "cell_type": "code",
   "execution_count": 3,
   "id": "ab3f863b",
   "metadata": {
    "deletable": false,
    "id": "ab3f863b",
    "outputId": "15376089-8dad-46c9-b520-c05248d43158"
   },
   "outputs": [
    {
     "name": "stdout",
     "output_type": "stream",
     "text": [
      "<class 'pandas.core.frame.DataFrame'>\n",
      "RangeIndex: 21525 entries, 0 to 21524\n",
      "Data columns (total 12 columns):\n",
      " #   Column            Non-Null Count  Dtype  \n",
      "---  ------            --------------  -----  \n",
      " 0   children          21525 non-null  int64  \n",
      " 1   days_employed     19351 non-null  float64\n",
      " 2   dob_years         21525 non-null  int64  \n",
      " 3   education         21525 non-null  object \n",
      " 4   education_id      21525 non-null  int64  \n",
      " 5   family_status     21525 non-null  object \n",
      " 6   family_status_id  21525 non-null  int64  \n",
      " 7   gender            21525 non-null  object \n",
      " 8   income_type       21525 non-null  object \n",
      " 9   debt              21525 non-null  int64  \n",
      " 10  total_income      19351 non-null  float64\n",
      " 11  purpose           21525 non-null  object \n",
      "dtypes: float64(2), int64(5), object(5)\n",
      "memory usage: 2.0+ MB\n"
     ]
    }
   ],
   "source": [
    "data.info()"
   ]
  },
  {
   "cell_type": "markdown",
   "id": "5f8fb27f",
   "metadata": {},
   "source": [
    "<div class=\"alert-warning\" style=\"padding: 20px; border-radius: 10px\">\n",
    "<b>Комментарий ревьюера ⚠️</b>\n",
    "\n",
    "📌 Каждый раздел работы стоит завершать кратким выводом, о том что было сделано и какие результаты получены.\n",
    "\n",
    "Как правильно оформить проект ты можешь прочитать в материалах курса:\n",
    "\n",
    "`Полезные инструкции для учёбы - Оформление проекта - Рекомендации по выполнению проектов`\n",
    "</div>"
   ]
  },
  {
   "cell_type": "markdown",
   "id": "60e3e22d",
   "metadata": {
    "deletable": false,
    "editable": false,
    "id": "60e3e22d"
   },
   "source": [
    "## Предобработка данных"
   ]
  },
  {
   "cell_type": "markdown",
   "id": "03dc170c",
   "metadata": {
    "deletable": false,
    "editable": false,
    "id": "03dc170c"
   },
   "source": [
    "### Удаление пропусков"
   ]
  },
  {
   "cell_type": "markdown",
   "id": "a4f54eef",
   "metadata": {
    "deletable": false,
    "editable": false,
    "id": "a4f54eef"
   },
   "source": [
    "**Задание 4. Выведите количество пропущенных значений для каждого столбца. Используйте комбинацию двух методов.**"
   ]
  },
  {
   "cell_type": "code",
   "execution_count": 4,
   "id": "2dc372b2",
   "metadata": {
    "deletable": false,
    "id": "2dc372b2",
    "outputId": "81f4d817-781c-465c-ed15-91ce4446810d"
   },
   "outputs": [
    {
     "data": {
      "text/plain": [
       "children               0\n",
       "days_employed       2174\n",
       "dob_years              0\n",
       "education              0\n",
       "education_id           0\n",
       "family_status          0\n",
       "family_status_id       0\n",
       "gender                 0\n",
       "income_type            0\n",
       "debt                   0\n",
       "total_income        2174\n",
       "purpose                0\n",
       "dtype: int64"
      ]
     },
     "execution_count": 4,
     "metadata": {},
     "output_type": "execute_result"
    }
   ],
   "source": [
    "data.isna().sum()"
   ]
  },
  {
   "cell_type": "markdown",
   "id": "14f011b1",
   "metadata": {
    "deletable": false,
    "editable": false,
    "id": "14f011b1"
   },
   "source": [
    "**Задание 5. В двух столбцах есть пропущенные значения. Один из них — `days_employed`. Пропуски в этом столбце вы обработаете на следующем этапе. Другой столбец с пропущенными значениями — `total_income` — хранит данные о доходах. На сумму дохода сильнее всего влияет тип занятости, поэтому заполнить пропуски в этом столбце нужно медианным значением по каждому типу из столбца `income_type`. Например, у человека с типом занятости `сотрудник` пропуск в столбце `total_income` должен быть заполнен медианным доходом среди всех записей с тем же типом.**"
   ]
  },
  {
   "cell_type": "code",
   "execution_count": 5,
   "id": "bdabfb6e",
   "metadata": {
    "deletable": false,
    "id": "bdabfb6e"
   },
   "outputs": [],
   "source": [
    "for t in data['income_type'].unique():\n",
    "    data.loc[(data['income_type'] == t) & (data['total_income'].isna()), 'total_income'] = \\\n",
    "    data.loc[(data['income_type'] == t), 'total_income'].median()"
   ]
  },
  {
   "cell_type": "markdown",
   "id": "5be34059",
   "metadata": {
    "deletable": false,
    "editable": false,
    "id": "5be34059"
   },
   "source": [
    "### Обработка аномальных значений"
   ]
  },
  {
   "cell_type": "markdown",
   "id": "a87606cb",
   "metadata": {
    "deletable": false,
    "editable": false,
    "id": "a87606cb"
   },
   "source": [
    "**Задание 6. В данных могут встречаться артефакты (аномалии) — значения, которые не отражают действительность и появились по какой-то ошибке. таким артефактом будет отрицательное количество дней трудового стажа в столбце `days_employed`. Для реальных данных это нормально. Обработайте значения в этом столбце: замените все отрицательные значения положительными с помощью метода `abs()`.**"
   ]
  },
  {
   "cell_type": "code",
   "execution_count": 6,
   "id": "020c46cc",
   "metadata": {
    "deletable": false,
    "id": "020c46cc"
   },
   "outputs": [],
   "source": [
    "data['days_employed'] = data['days_employed'].abs()"
   ]
  },
  {
   "cell_type": "markdown",
   "id": "45538a3a",
   "metadata": {
    "deletable": false,
    "editable": false,
    "id": "45538a3a"
   },
   "source": [
    "**Задание 7. Для каждого типа занятости выведите медианное значение трудового стажа `days_employed` в днях.**"
   ]
  },
  {
   "cell_type": "code",
   "execution_count": 7,
   "id": "cd3e6328",
   "metadata": {
    "deletable": false,
    "id": "cd3e6328",
    "outputId": "801ef80e-522b-4668-f34e-565af7432bcf"
   },
   "outputs": [
    {
     "data": {
      "text/plain": [
       "income_type\n",
       "безработный        366413.652744\n",
       "в декрете            3296.759962\n",
       "госслужащий          2689.368353\n",
       "компаньон            1547.382223\n",
       "пенсионер          365213.306266\n",
       "предприниматель       520.848083\n",
       "сотрудник            1574.202821\n",
       "студент               578.751554\n",
       "Name: days_employed, dtype: float64"
      ]
     },
     "execution_count": 7,
     "metadata": {},
     "output_type": "execute_result"
    }
   ],
   "source": [
    "data.groupby('income_type')['days_employed'].agg('median')"
   ]
  },
  {
   "cell_type": "markdown",
   "id": "90c5f058",
   "metadata": {
    "deletable": false,
    "editable": false,
    "id": "90c5f058"
   },
   "source": [
    "У двух типов (безработные и пенсионеры) получатся аномально большие значения. Исправить такие значения сложно, поэтому оставьте их как есть."
   ]
  },
  {
   "cell_type": "markdown",
   "id": "9652e50d",
   "metadata": {
    "deletable": false,
    "editable": false,
    "id": "9652e50d"
   },
   "source": [
    "**Задание 8. Выведите перечень уникальных значений столбца `children`.**"
   ]
  },
  {
   "cell_type": "code",
   "execution_count": 8,
   "id": "dbb37b8e",
   "metadata": {
    "deletable": false,
    "id": "dbb37b8e",
    "outputId": "6975b15c-7f95-4697-d16d-a0c79b657b03"
   },
   "outputs": [
    {
     "data": {
      "text/plain": [
       "array([ 1,  0,  3,  2, -1,  4, 20,  5])"
      ]
     },
     "execution_count": 8,
     "metadata": {},
     "output_type": "execute_result"
    }
   ],
   "source": [
    "data['children'].unique()"
   ]
  },
  {
   "cell_type": "markdown",
   "id": "2b8b0715",
   "metadata": {
    "deletable": false,
    "editable": false,
    "id": "2b8b0715"
   },
   "source": [
    "**Задание 9. В столбце `children` есть два аномальных значения. Удалите строки, в которых встречаются такие аномальные значения из датафрейма `data`.**"
   ]
  },
  {
   "cell_type": "code",
   "execution_count": 9,
   "id": "20009df8",
   "metadata": {
    "deletable": false,
    "id": "20009df8"
   },
   "outputs": [],
   "source": [
    "data = data[(data['children'] != -1) & (data['children'] != 20)]"
   ]
  },
  {
   "cell_type": "markdown",
   "id": "8c6ac9f1",
   "metadata": {
    "deletable": false,
    "editable": false,
    "id": "8c6ac9f1"
   },
   "source": [
    "**Задание 10. Ещё раз выведите перечень уникальных значений столбца `children`, чтобы убедиться, что артефакты удалены.**"
   ]
  },
  {
   "cell_type": "code",
   "execution_count": 10,
   "id": "07337b81",
   "metadata": {
    "deletable": false,
    "id": "07337b81",
    "outputId": "b2097101-d49d-44d9-901b-32a65c9463d1"
   },
   "outputs": [
    {
     "data": {
      "text/plain": [
       "array([1, 0, 3, 2, 4, 5])"
      ]
     },
     "execution_count": 10,
     "metadata": {},
     "output_type": "execute_result"
    }
   ],
   "source": [
    "data['children'].unique()"
   ]
  },
  {
   "cell_type": "markdown",
   "id": "ee3f52d4",
   "metadata": {
    "deletable": false,
    "editable": false,
    "id": "ee3f52d4"
   },
   "source": [
    "### Удаление пропусков (продолжение)"
   ]
  },
  {
   "cell_type": "markdown",
   "id": "a700b0e4",
   "metadata": {
    "deletable": false,
    "editable": false,
    "id": "a700b0e4"
   },
   "source": [
    "**Задание 11. Заполните пропуски в столбце `days_employed` медианными значениями по каждого типа занятости `income_type`.**"
   ]
  },
  {
   "cell_type": "code",
   "execution_count": 11,
   "id": "61946b83",
   "metadata": {
    "deletable": false,
    "id": "61946b83"
   },
   "outputs": [],
   "source": [
    "for x in data['income_type'].unique():\n",
    "    data.loc[(data['income_type'] == x) & (data['days_employed'].isna()), 'days_employed'] = \\\n",
    "    data.loc[(data['income_type'] == x), 'days_employed'].median()"
   ]
  },
  {
   "cell_type": "markdown",
   "id": "550dcd9b",
   "metadata": {
    "deletable": false,
    "editable": false,
    "id": "550dcd9b"
   },
   "source": [
    "**Задание 12. Убедитесь, что все пропуски заполнены. Проверьте себя и ещё раз выведите количество пропущенных значений для каждого столбца с помощью двух методов.**"
   ]
  },
  {
   "cell_type": "code",
   "execution_count": 12,
   "id": "937c7014",
   "metadata": {
    "deletable": false,
    "id": "937c7014",
    "outputId": "8da1e4e1-358e-4e87-98c9-f261bce0a7b2"
   },
   "outputs": [
    {
     "data": {
      "text/plain": [
       "children            0\n",
       "days_employed       0\n",
       "dob_years           0\n",
       "education           0\n",
       "education_id        0\n",
       "family_status       0\n",
       "family_status_id    0\n",
       "gender              0\n",
       "income_type         0\n",
       "debt                0\n",
       "total_income        0\n",
       "purpose             0\n",
       "dtype: int64"
      ]
     },
     "execution_count": 12,
     "metadata": {},
     "output_type": "execute_result"
    }
   ],
   "source": [
    "data.isna().sum()"
   ]
  },
  {
   "cell_type": "markdown",
   "id": "d522e295",
   "metadata": {
    "deletable": false,
    "editable": false,
    "id": "d522e295"
   },
   "source": [
    "### Изменение типов данных"
   ]
  },
  {
   "cell_type": "markdown",
   "id": "c229c581",
   "metadata": {
    "deletable": false,
    "editable": false,
    "id": "c229c581"
   },
   "source": [
    "**Задание 13. Замените вещественный тип данных в столбце `total_income` на целочисленный с помощью метода `astype()`.**"
   ]
  },
  {
   "cell_type": "code",
   "execution_count": 13,
   "id": "31036462",
   "metadata": {
    "deletable": false,
    "id": "31036462"
   },
   "outputs": [],
   "source": [
    "data['total_income'] = data['total_income'].astype(int)"
   ]
  },
  {
   "cell_type": "markdown",
   "id": "b8e3d1d9",
   "metadata": {
    "deletable": false,
    "editable": false,
    "id": "b8e3d1d9"
   },
   "source": [
    "### Обработка дубликатов"
   ]
  },
  {
   "cell_type": "markdown",
   "id": "9be53c49",
   "metadata": {
    "deletable": false,
    "editable": false,
    "id": "9be53c49"
   },
   "source": [
    "**Задание 14. Обработайте неявные дубликаты в столбце `education`. В этом столбце есть одни и те же значения, но записанные по-разному: с использованием заглавных и строчных букв. Приведите их к нижнему регистру.**"
   ]
  },
  {
   "cell_type": "code",
   "execution_count": 14,
   "id": "d89e73e1",
   "metadata": {
    "deletable": false,
    "id": "d89e73e1"
   },
   "outputs": [],
   "source": [
    "data['education'] = data['education'].str.lower()"
   ]
  },
  {
   "cell_type": "markdown",
   "id": "01d4500e",
   "metadata": {
    "deletable": false,
    "editable": false,
    "id": "01d4500e"
   },
   "source": [
    "**Задание 15. Выведите на экран количество строк-дубликатов в данных. Если такие строки присутствуют, удалите их.**"
   ]
  },
  {
   "cell_type": "code",
   "execution_count": 15,
   "id": "e10efb23",
   "metadata": {
    "deletable": false,
    "id": "e10efb23",
    "outputId": "9684deba-1934-42d1-99e1-cda61740f822"
   },
   "outputs": [
    {
     "data": {
      "text/plain": [
       "71"
      ]
     },
     "execution_count": 15,
     "metadata": {},
     "output_type": "execute_result"
    }
   ],
   "source": [
    "data.duplicated().sum()"
   ]
  },
  {
   "cell_type": "code",
   "execution_count": 16,
   "id": "df853f20",
   "metadata": {
    "deletable": false,
    "id": "df853f20"
   },
   "outputs": [],
   "source": [
    "data = data.drop_duplicates()"
   ]
  },
  {
   "cell_type": "markdown",
   "id": "627be38f",
   "metadata": {
    "deletable": false,
    "editable": false,
    "id": "627be38f"
   },
   "source": [
    "### Категоризация данных"
   ]
  },
  {
   "cell_type": "markdown",
   "id": "4684c3e0",
   "metadata": {
    "deletable": false,
    "editable": false,
    "id": "4684c3e0"
   },
   "source": [
    "**Задание 16. На основании диапазонов, указанных ниже, создайте в датафрейме `data` столбец `total_income_category` с категориями:**\n",
    "\n",
    "- 0–30000 — `'E'`;\n",
    "- 30001–50000 — `'D'`;\n",
    "- 50001–200000 — `'C'`;\n",
    "- 200001–1000000 — `'B'`;\n",
    "- 1000001 и выше — `'A'`.\n",
    "\n",
    "\n",
    "**Например, кредитополучателю с доходом 25000 нужно назначить категорию `'E'`, а клиенту, получающему 235000, — `'B'`. Используйте собственную функцию с именем `categorize_income()` и метод `apply()`.**"
   ]
  },
  {
   "cell_type": "code",
   "execution_count": 17,
   "id": "78965238",
   "metadata": {
    "deletable": false,
    "id": "78965238"
   },
   "outputs": [],
   "source": [
    "def categorize_income(income):\n",
    "    try:\n",
    "        if 0 <= income <= 30000:\n",
    "            return 'E'\n",
    "        elif 30001 <= income <= 50000:\n",
    "            return 'D'\n",
    "        elif 50001 <= income <= 200000:\n",
    "            return 'C'\n",
    "        elif 200001 <= income <= 1000000:\n",
    "            return 'B'\n",
    "        elif income >= 1000001:\n",
    "            return 'A'\n",
    "    except:\n",
    "        pass"
   ]
  },
  {
   "cell_type": "code",
   "execution_count": 18,
   "id": "0980ada1",
   "metadata": {
    "deletable": false,
    "id": "0980ada1"
   },
   "outputs": [],
   "source": [
    "data['total_income_category'] = data['total_income'].apply(categorize_income)"
   ]
  },
  {
   "cell_type": "markdown",
   "id": "9917bba0",
   "metadata": {
    "deletable": false,
    "editable": false,
    "id": "9917bba0"
   },
   "source": [
    "**Задание 17. Выведите на экран перечень уникальных целей взятия кредита из столбца `purpose`.**"
   ]
  },
  {
   "cell_type": "code",
   "execution_count": 19,
   "id": "ee07b65e",
   "metadata": {
    "deletable": false,
    "id": "ee07b65e",
    "outputId": "673c12d9-7d7e-4ae0-9812-c622c89dd244"
   },
   "outputs": [
    {
     "data": {
      "text/plain": [
       "array(['покупка жилья', 'приобретение автомобиля',\n",
       "       'дополнительное образование', 'сыграть свадьбу',\n",
       "       'операции с жильем', 'образование', 'на проведение свадьбы',\n",
       "       'покупка жилья для семьи', 'покупка недвижимости',\n",
       "       'покупка коммерческой недвижимости', 'покупка жилой недвижимости',\n",
       "       'строительство собственной недвижимости', 'недвижимость',\n",
       "       'строительство недвижимости', 'на покупку подержанного автомобиля',\n",
       "       'на покупку своего автомобиля',\n",
       "       'операции с коммерческой недвижимостью',\n",
       "       'строительство жилой недвижимости', 'жилье',\n",
       "       'операции со своей недвижимостью', 'автомобили',\n",
       "       'заняться образованием', 'сделка с подержанным автомобилем',\n",
       "       'получение образования', 'автомобиль', 'свадьба',\n",
       "       'получение дополнительного образования', 'покупка своего жилья',\n",
       "       'операции с недвижимостью', 'получение высшего образования',\n",
       "       'свой автомобиль', 'сделка с автомобилем',\n",
       "       'профильное образование', 'высшее образование',\n",
       "       'покупка жилья для сдачи', 'на покупку автомобиля', 'ремонт жилью',\n",
       "       'заняться высшим образованием'], dtype=object)"
      ]
     },
     "execution_count": 19,
     "metadata": {},
     "output_type": "execute_result"
    }
   ],
   "source": [
    "data['purpose'].unique()"
   ]
  },
  {
   "cell_type": "markdown",
   "id": "52b79d56",
   "metadata": {
    "deletable": false,
    "editable": false,
    "id": "52b79d56"
   },
   "source": [
    "**Задание 18. Создайте функцию, которая на основании данных из столбца `purpose` сформирует новый столбец `purpose_category`, в который войдут следующие категории:**\n",
    "\n",
    "- `'операции с автомобилем'`,\n",
    "- `'операции с недвижимостью'`,\n",
    "- `'проведение свадьбы'`,\n",
    "- `'получение образования'`.\n",
    "\n",
    "**Например, если в столбце `purpose` находится подстрока `'на покупку автомобиля'`, то в столбце `purpose_category` должна появиться строка `'операции с автомобилем'`.**\n",
    "\n",
    "**Используйте собственную функцию с именем `categorize_purpose()` и метод `apply()`. Изучите данные в столбце `purpose` и определите, какие подстроки помогут вам правильно определить категорию.**"
   ]
  },
  {
   "cell_type": "code",
   "execution_count": 20,
   "id": "be41da5d",
   "metadata": {
    "deletable": false,
    "id": "be41da5d"
   },
   "outputs": [],
   "source": [
    "def categorize_purpose(row):\n",
    "    try:\n",
    "        if 'автом' in row:\n",
    "            return 'операции с автомобилем'\n",
    "        elif 'жил' in row or 'недвиж' in row:\n",
    "            return 'операции с недвижимостью'\n",
    "        elif 'свад' in row:\n",
    "            return 'проведение свадьбы'\n",
    "        elif 'образов' in row:\n",
    "            return 'получение образования'\n",
    "    except:\n",
    "        return 'нет категории'"
   ]
  },
  {
   "cell_type": "code",
   "execution_count": 21,
   "id": "94c4a19a",
   "metadata": {
    "deletable": false,
    "id": "94c4a19a"
   },
   "outputs": [],
   "source": [
    "data['purpose_category'] = data['purpose'].apply(categorize_purpose)"
   ]
  },
  {
   "cell_type": "markdown",
   "id": "3d596c34",
   "metadata": {
    "deletable": false,
    "editable": false,
    "id": "3d596c34"
   },
   "source": [
    "### Шаг 3. Исследуйте данные и ответьте на вопросы"
   ]
  },
  {
   "cell_type": "markdown",
   "id": "648db036",
   "metadata": {
    "deletable": false,
    "editable": false,
    "id": "648db036"
   },
   "source": [
    "#### 3.1 Есть ли зависимость между количеством детей и возвратом кредита в срок?"
   ]
  },
  {
   "cell_type": "code",
   "execution_count": 22,
   "id": "7fcff25e",
   "metadata": {
    "deletable": false,
    "id": "7fcff25e"
   },
   "outputs": [
    {
     "data": {
      "text/html": [
       "<div>\n",
       "<style scoped>\n",
       "    .dataframe tbody tr th:only-of-type {\n",
       "        vertical-align: middle;\n",
       "    }\n",
       "\n",
       "    .dataframe tbody tr th {\n",
       "        vertical-align: top;\n",
       "    }\n",
       "\n",
       "    .dataframe thead th {\n",
       "        text-align: right;\n",
       "    }\n",
       "</style>\n",
       "<table border=\"1\" class=\"dataframe\">\n",
       "  <thead>\n",
       "    <tr style=\"text-align: right;\">\n",
       "      <th></th>\n",
       "      <th>total</th>\n",
       "      <th>debt</th>\n",
       "      <th>default_chance</th>\n",
       "    </tr>\n",
       "    <tr>\n",
       "      <th>children</th>\n",
       "      <th></th>\n",
       "      <th></th>\n",
       "      <th></th>\n",
       "    </tr>\n",
       "  </thead>\n",
       "  <tbody>\n",
       "    <tr>\n",
       "      <th>0</th>\n",
       "      <td>14091</td>\n",
       "      <td>1063</td>\n",
       "      <td>7.5%</td>\n",
       "    </tr>\n",
       "    <tr>\n",
       "      <th>1</th>\n",
       "      <td>4808</td>\n",
       "      <td>444</td>\n",
       "      <td>9.2%</td>\n",
       "    </tr>\n",
       "    <tr>\n",
       "      <th>2</th>\n",
       "      <td>2052</td>\n",
       "      <td>194</td>\n",
       "      <td>9.5%</td>\n",
       "    </tr>\n",
       "    <tr>\n",
       "      <th>3</th>\n",
       "      <td>330</td>\n",
       "      <td>27</td>\n",
       "      <td>8.2%</td>\n",
       "    </tr>\n",
       "    <tr>\n",
       "      <th>4</th>\n",
       "      <td>41</td>\n",
       "      <td>4</td>\n",
       "      <td>9.8%</td>\n",
       "    </tr>\n",
       "    <tr>\n",
       "      <th>5</th>\n",
       "      <td>9</td>\n",
       "      <td>0</td>\n",
       "      <td>0.0%</td>\n",
       "    </tr>\n",
       "  </tbody>\n",
       "</table>\n",
       "</div>"
      ],
      "text/plain": [
       "          total  debt default_chance\n",
       "children                            \n",
       "0         14091  1063           7.5%\n",
       "1          4808   444           9.2%\n",
       "2          2052   194           9.5%\n",
       "3           330    27           8.2%\n",
       "4            41     4           9.8%\n",
       "5             9     0           0.0%"
      ]
     },
     "metadata": {},
     "output_type": "display_data"
    },
    {
     "name": "stdout",
     "output_type": "stream",
     "text": [
      "Наличие ребенка повышает вероятность дефолта по кредиту на 22.49 %\n"
     ]
    }
   ],
   "source": [
    "data_children = data.pivot_table(index = [ 'children'], values = 'debt', aggfunc = {'count','sum'}) # строим сводную таблицу\n",
    "data_children.columns = ['total', 'debt'] #переименовываем столбцы\n",
    "data_children['default_chance'] = data_children['debt']/data_children['total'] # добавляем столбец с оценкой шанса на дефолт\n",
    "data_children['default_chance'] = data_children['default_chance'].map('{:.1%}'.format) # переводим значения в этом столбце в процентный формат\n",
    "display(data_children)\n",
    "\n",
    "#Рассчитаем соотношение между шансами на просрочку у тех, кто имееет имеет хотя бы одного ребенка к шансам на просрочку у тех, у кого нет детей\n",
    "\n",
    "absolute_no_children = (data[data['children'] == 0]['debt'].sum())/(data[data['children'] == 0]['debt'].count())\n",
    "absolute_children = (data[data['children'] != 0]['debt'].sum())/(data[data['children'] != 0]['debt'].count())\n",
    "children_difference = absolute_children/absolute_no_children\n",
    "children_difference_percent = (float(\"{:.2f}\".format(((children_difference - 1)*100)))) # Не знаю, как более грамотно перевести в процентный формат с двумя знаками после запятой\n",
    "print('Наличие ребенка повышает вероятность дефолта по кредиту на', children_difference_percent, '%')\n"
   ]
  },
  {
   "cell_type": "markdown",
   "id": "65f09d55",
   "metadata": {},
   "source": [
    "<div class=\"alert-warning\" style=\"padding: 20px; border-radius: 10px\">\n",
    "<b>Комментарий ревьюера ⚠️</b>\n",
    "    \n",
    "Это правильная сводная таблица для сравнения категорий. 👌\n",
    "\n",
    "📌 Аналогичную сводную таблицу можно вывести, передав весь список агрегирующих функций: 👇</div>"
   ]
  },
  {
   "cell_type": "code",
   "execution_count": 23,
   "id": "59f23017",
   "metadata": {},
   "outputs": [
    {
     "data": {
      "text/html": [
       "<div>\n",
       "<style scoped>\n",
       "    .dataframe tbody tr th:only-of-type {\n",
       "        vertical-align: middle;\n",
       "    }\n",
       "\n",
       "    .dataframe tbody tr th {\n",
       "        vertical-align: top;\n",
       "    }\n",
       "\n",
       "    .dataframe thead tr th {\n",
       "        text-align: left;\n",
       "    }\n",
       "\n",
       "    .dataframe thead tr:last-of-type th {\n",
       "        text-align: right;\n",
       "    }\n",
       "</style>\n",
       "<table border=\"1\" class=\"dataframe\">\n",
       "  <thead>\n",
       "    <tr>\n",
       "      <th></th>\n",
       "      <th>count</th>\n",
       "      <th>sum</th>\n",
       "      <th>mean</th>\n",
       "    </tr>\n",
       "    <tr>\n",
       "      <th></th>\n",
       "      <th>debt</th>\n",
       "      <th>debt</th>\n",
       "      <th>debt</th>\n",
       "    </tr>\n",
       "    <tr>\n",
       "      <th>children</th>\n",
       "      <th></th>\n",
       "      <th></th>\n",
       "      <th></th>\n",
       "    </tr>\n",
       "  </thead>\n",
       "  <tbody>\n",
       "    <tr>\n",
       "      <th>0</th>\n",
       "      <td>14091</td>\n",
       "      <td>1063</td>\n",
       "      <td>0.075438</td>\n",
       "    </tr>\n",
       "    <tr>\n",
       "      <th>1</th>\n",
       "      <td>4808</td>\n",
       "      <td>444</td>\n",
       "      <td>0.092346</td>\n",
       "    </tr>\n",
       "    <tr>\n",
       "      <th>2</th>\n",
       "      <td>2052</td>\n",
       "      <td>194</td>\n",
       "      <td>0.094542</td>\n",
       "    </tr>\n",
       "    <tr>\n",
       "      <th>3</th>\n",
       "      <td>330</td>\n",
       "      <td>27</td>\n",
       "      <td>0.081818</td>\n",
       "    </tr>\n",
       "    <tr>\n",
       "      <th>4</th>\n",
       "      <td>41</td>\n",
       "      <td>4</td>\n",
       "      <td>0.097561</td>\n",
       "    </tr>\n",
       "    <tr>\n",
       "      <th>5</th>\n",
       "      <td>9</td>\n",
       "      <td>0</td>\n",
       "      <td>0.000000</td>\n",
       "    </tr>\n",
       "  </tbody>\n",
       "</table>\n",
       "</div>"
      ],
      "text/plain": [
       "          count   sum      mean\n",
       "           debt  debt      debt\n",
       "children                       \n",
       "0         14091  1063  0.075438\n",
       "1          4808   444  0.092346\n",
       "2          2052   194  0.094542\n",
       "3           330    27  0.081818\n",
       "4            41     4  0.097561\n",
       "5             9     0  0.000000"
      ]
     },
     "execution_count": 23,
     "metadata": {},
     "output_type": "execute_result"
    }
   ],
   "source": [
    "# Код ревьюера\n",
    "data.pivot_table(index = 'children', values = 'debt', aggfunc = ['count', 'sum', 'mean'])"
   ]
  },
  {
   "cell_type": "markdown",
   "id": "b101927f",
   "metadata": {},
   "source": [
    "<div class=\"alert-info\" style=\"padding: 20px; border-radius: 10px\">\n",
    "<b>Комментарий студента 💎</b>\n",
    "\n",
    "Зависимость между группами с 0, 1, 2 детьми описал в общем выводе.</div>"
   ]
  },
  {
   "cell_type": "markdown",
   "id": "2eb9088e",
   "metadata": {
    "deletable": false,
    "id": "2eb9088e"
   },
   "source": [
    "**Вывод:** По приведенной таблице видна зависимость вероятности просрочки по кредиту от количества детей. Сам факт наличия ребенка повышает вероятность дефолта на 22.49 процента. Если сравнивать заемщиков с детьми, разница в количестве детей практически не влияет на вероятность дефолта по кредиту."
   ]
  },
  {
   "cell_type": "markdown",
   "id": "d76812c0",
   "metadata": {},
   "source": [
    "<div class=\"alert-success\" style=\"border-radius: 10px; padding: 10px\">\n",
    "<b>Комментарий ревьюера V3 ✔️</b>\n",
    "\n",
    "Я бы сказал, что если сравнить только самые многочисленные выборки с 0, 1 и 2 детьми, можно сказать, что чем больше у заемщика детей, тем выше риск допустить просрочку.\n",
    "\n",
    "Даже незначительная разница в проценте должников будет важна для заказчика.</div>"
   ]
  },
  {
   "cell_type": "markdown",
   "id": "2d223d3e",
   "metadata": {},
   "source": [
    "<div class=\"alert-warning\" style=\"padding: 20px; border-radius: 10px\">\n",
    "<b>Комментарий ревьюера ⚠️</b>\n",
    "\n",
    "Обрати внимание на то, что выборки несбалансированны. Поэтому выявлять зависимость стоит, сравнивая самые большие, сопоставимые по размеру категории заемщиков. Какую зависимость можно выявить, сравнив категории с 0, 1 и 2 детьми?</div>"
   ]
  },
  {
   "cell_type": "markdown",
   "id": "74c9b3a7",
   "metadata": {
    "deletable": false,
    "editable": false,
    "id": "74c9b3a7"
   },
   "source": [
    "#### 3.2 Есть ли зависимость между семейным положением и возвратом кредита в срок?"
   ]
  },
  {
   "cell_type": "code",
   "execution_count": 24,
   "id": "8098ab3b",
   "metadata": {
    "deletable": false,
    "id": "8098ab3b"
   },
   "outputs": [
    {
     "data": {
      "text/html": [
       "<div>\n",
       "<style scoped>\n",
       "    .dataframe tbody tr th:only-of-type {\n",
       "        vertical-align: middle;\n",
       "    }\n",
       "\n",
       "    .dataframe tbody tr th {\n",
       "        vertical-align: top;\n",
       "    }\n",
       "\n",
       "    .dataframe thead th {\n",
       "        text-align: right;\n",
       "    }\n",
       "</style>\n",
       "<table border=\"1\" class=\"dataframe\">\n",
       "  <thead>\n",
       "    <tr style=\"text-align: right;\">\n",
       "      <th></th>\n",
       "      <th>no_debt</th>\n",
       "      <th>debt</th>\n",
       "      <th>total</th>\n",
       "      <th>default_chance</th>\n",
       "    </tr>\n",
       "    <tr>\n",
       "      <th>family_status</th>\n",
       "      <th></th>\n",
       "      <th></th>\n",
       "      <th></th>\n",
       "      <th></th>\n",
       "    </tr>\n",
       "  </thead>\n",
       "  <tbody>\n",
       "    <tr>\n",
       "      <th>Не женат / не замужем</th>\n",
       "      <td>2523</td>\n",
       "      <td>273</td>\n",
       "      <td>2796</td>\n",
       "      <td>9.8%</td>\n",
       "    </tr>\n",
       "    <tr>\n",
       "      <th>в разводе</th>\n",
       "      <td>1105</td>\n",
       "      <td>84</td>\n",
       "      <td>1189</td>\n",
       "      <td>7.1%</td>\n",
       "    </tr>\n",
       "    <tr>\n",
       "      <th>вдовец / вдова</th>\n",
       "      <td>888</td>\n",
       "      <td>63</td>\n",
       "      <td>951</td>\n",
       "      <td>6.6%</td>\n",
       "    </tr>\n",
       "    <tr>\n",
       "      <th>гражданский брак</th>\n",
       "      <td>3749</td>\n",
       "      <td>385</td>\n",
       "      <td>4134</td>\n",
       "      <td>9.3%</td>\n",
       "    </tr>\n",
       "    <tr>\n",
       "      <th>женат / замужем</th>\n",
       "      <td>11334</td>\n",
       "      <td>927</td>\n",
       "      <td>12261</td>\n",
       "      <td>7.6%</td>\n",
       "    </tr>\n",
       "  </tbody>\n",
       "</table>\n",
       "</div>"
      ],
      "text/plain": [
       "                       no_debt  debt  total default_chance\n",
       "family_status                                             \n",
       "Не женат / не замужем     2523   273   2796           9.8%\n",
       "в разводе                 1105    84   1189           7.1%\n",
       "вдовец / вдова             888    63    951           6.6%\n",
       "гражданский брак          3749   385   4134           9.3%\n",
       "женат / замужем          11334   927  12261           7.6%"
      ]
     },
     "metadata": {},
     "output_type": "display_data"
    },
    {
     "name": "stdout",
     "output_type": "stream",
     "text": [
      "Вероятность дефолта по кредиту для неженатых и проживающих в гражданском браке заемщиков по сравнению с остальными группами выше на 27.32 %\n"
     ]
    }
   ],
   "source": [
    "data_family = data.pivot_table(index='family_status', columns='debt', values='children', aggfunc='count')\n",
    "data_family.columns = ['no_debt', 'debt']\n",
    "data_family['total'] = data_family['debt'] + data_family['no_debt']\n",
    "data_family['default_chance'] = data_family['debt'] / data_family['total']\n",
    "data_family['default_chance'] = data_family['default_chance'].map('{:.1%}'.format)\n",
    "display(data_family)\n",
    "\n",
    "#Сгруппируем тех, кто не женат, и тех, кто находится в гражданском браке, в одну категорию. \n",
    "#Посчитаем разницу в вероятности дефолта для этой группы по отношению к остальным значениям выборки.\n",
    "\n",
    "not_married = data[data['family_status'] != 'в разводе']    # ошибаюсь в синтаксисе, когда фильтрую с несолькими условиями, поэтому фильтрую последовательно\n",
    "not_married = not_married[not_married['family_status'] != 'вдовец / вдова']\n",
    "not_married = not_married[not_married['family_status'] != 'женат / замужем']\n",
    "other_status = data[data['family_status'] != 'Не женат / не замужем']\n",
    "other_status = other_status[other_status['family_status'] != 'гражданский брак']\n",
    "\n",
    "not_married_default_chance = (not_married[not_married['debt'] == 1]).count()/not_married.count()\n",
    "other_status_default_chance = (other_status[other_status['debt'] == 1]).count()/other_status.count()\n",
    "percentage = not_married_default_chance['family_status']/other_status_default_chance['family_status']\n",
    "percentage = (float(\"{:.2f}\".format(((percentage - 1)*100)))) # Форматирую аналогично предыдущей задаче\n",
    "print('Вероятность дефолта по кредиту для неженатых и проживающих в гражданском браке заемщиков по сравнению с остальными группами выше на', percentage, '%')\n"
   ]
  },
  {
   "cell_type": "markdown",
   "id": "c389ca63",
   "metadata": {
    "deletable": false,
    "id": "c389ca63"
   },
   "source": [
    "**Вывод:** По таблице видно, что две выдающиеся категории - не женатые /не замужем и гражданский брак. Сгруппировав эти две категории, выясним, что вероятность дефолта для этих двух категорий выше, чем у остальных на 27.32 процента.\n",
    "Самой зажиточной категорией являются вдовцы/вдовы - вероятность неуплаты по кредиту ниже всех - всего  6.6% процента."
   ]
  },
  {
   "cell_type": "markdown",
   "id": "2ecc1f62",
   "metadata": {},
   "source": [
    "<div class=\"alert-success\" style=\"padding: 20px; border-radius: 10px\">\n",
    "<b>Комментарий ревьюера ✔️</b>\n",
    "\n",
    "Верно, если обобщить, можно сказать, что состоящие или состоявшие в браке заемщики реже допускают просрочки.</div>"
   ]
  },
  {
   "cell_type": "markdown",
   "id": "9529de68",
   "metadata": {
    "deletable": false,
    "editable": false,
    "id": "9529de68"
   },
   "source": [
    "#### 3.3 Есть ли зависимость между уровнем дохода и возвратом кредита в срок?"
   ]
  },
  {
   "cell_type": "code",
   "execution_count": 25,
   "id": "8787f44a",
   "metadata": {
    "deletable": false,
    "id": "8787f44a",
    "scrolled": true
   },
   "outputs": [
    {
     "data": {
      "text/html": [
       "<div>\n",
       "<style scoped>\n",
       "    .dataframe tbody tr th:only-of-type {\n",
       "        vertical-align: middle;\n",
       "    }\n",
       "\n",
       "    .dataframe tbody tr th {\n",
       "        vertical-align: top;\n",
       "    }\n",
       "\n",
       "    .dataframe thead th {\n",
       "        text-align: right;\n",
       "    }\n",
       "</style>\n",
       "<table border=\"1\" class=\"dataframe\">\n",
       "  <thead>\n",
       "    <tr style=\"text-align: right;\">\n",
       "      <th></th>\n",
       "      <th>no_debt</th>\n",
       "      <th>debt</th>\n",
       "      <th>total</th>\n",
       "      <th>default_chance</th>\n",
       "    </tr>\n",
       "    <tr>\n",
       "      <th>total_income_category</th>\n",
       "      <th></th>\n",
       "      <th></th>\n",
       "      <th></th>\n",
       "      <th></th>\n",
       "    </tr>\n",
       "  </thead>\n",
       "  <tbody>\n",
       "    <tr>\n",
       "      <th>A</th>\n",
       "      <td>23</td>\n",
       "      <td>2</td>\n",
       "      <td>25</td>\n",
       "      <td>8.0%</td>\n",
       "    </tr>\n",
       "    <tr>\n",
       "      <th>B</th>\n",
       "      <td>4660</td>\n",
       "      <td>354</td>\n",
       "      <td>5014</td>\n",
       "      <td>7.1%</td>\n",
       "    </tr>\n",
       "    <tr>\n",
       "      <th>C</th>\n",
       "      <td>14568</td>\n",
       "      <td>1353</td>\n",
       "      <td>15921</td>\n",
       "      <td>8.5%</td>\n",
       "    </tr>\n",
       "    <tr>\n",
       "      <th>D</th>\n",
       "      <td>328</td>\n",
       "      <td>21</td>\n",
       "      <td>349</td>\n",
       "      <td>6.0%</td>\n",
       "    </tr>\n",
       "    <tr>\n",
       "      <th>E</th>\n",
       "      <td>20</td>\n",
       "      <td>2</td>\n",
       "      <td>22</td>\n",
       "      <td>9.1%</td>\n",
       "    </tr>\n",
       "  </tbody>\n",
       "</table>\n",
       "</div>"
      ],
      "text/plain": [
       "                       no_debt  debt  total default_chance\n",
       "total_income_category                                     \n",
       "A                           23     2     25           8.0%\n",
       "B                         4660   354   5014           7.1%\n",
       "C                        14568  1353  15921           8.5%\n",
       "D                          328    21    349           6.0%\n",
       "E                           20     2     22           9.1%"
      ]
     },
     "metadata": {},
     "output_type": "display_data"
    },
    {
     "name": "stdout",
     "output_type": "stream",
     "text": [
      "\n",
      "super_income_category\n",
      "A      222\n",
      "A1    2575\n",
      "A2    3592\n",
      "B     7226\n",
      "C     5451\n",
      "D     1894\n",
      "E      371\n",
      "Name: super_income_category, dtype: int64\n"
     ]
    },
    {
     "data": {
      "text/html": [
       "<div>\n",
       "<style scoped>\n",
       "    .dataframe tbody tr th:only-of-type {\n",
       "        vertical-align: middle;\n",
       "    }\n",
       "\n",
       "    .dataframe tbody tr th {\n",
       "        vertical-align: top;\n",
       "    }\n",
       "\n",
       "    .dataframe thead th {\n",
       "        text-align: right;\n",
       "    }\n",
       "</style>\n",
       "<table border=\"1\" class=\"dataframe\">\n",
       "  <thead>\n",
       "    <tr style=\"text-align: right;\">\n",
       "      <th></th>\n",
       "      <th>no_debt</th>\n",
       "      <th>debt</th>\n",
       "      <th>total</th>\n",
       "      <th>default_chance</th>\n",
       "    </tr>\n",
       "    <tr>\n",
       "      <th>super_income_category</th>\n",
       "      <th></th>\n",
       "      <th></th>\n",
       "      <th></th>\n",
       "      <th></th>\n",
       "    </tr>\n",
       "  </thead>\n",
       "  <tbody>\n",
       "    <tr>\n",
       "      <th>A</th>\n",
       "      <td>208</td>\n",
       "      <td>14</td>\n",
       "      <td>222</td>\n",
       "      <td>6.3%</td>\n",
       "    </tr>\n",
       "    <tr>\n",
       "      <th>A1</th>\n",
       "      <td>2395</td>\n",
       "      <td>180</td>\n",
       "      <td>2575</td>\n",
       "      <td>7.0%</td>\n",
       "    </tr>\n",
       "    <tr>\n",
       "      <th>A2</th>\n",
       "      <td>3310</td>\n",
       "      <td>282</td>\n",
       "      <td>3592</td>\n",
       "      <td>7.9%</td>\n",
       "    </tr>\n",
       "    <tr>\n",
       "      <th>B</th>\n",
       "      <td>6612</td>\n",
       "      <td>614</td>\n",
       "      <td>7226</td>\n",
       "      <td>8.5%</td>\n",
       "    </tr>\n",
       "    <tr>\n",
       "      <th>C</th>\n",
       "      <td>4983</td>\n",
       "      <td>468</td>\n",
       "      <td>5451</td>\n",
       "      <td>8.6%</td>\n",
       "    </tr>\n",
       "    <tr>\n",
       "      <th>D</th>\n",
       "      <td>1743</td>\n",
       "      <td>151</td>\n",
       "      <td>1894</td>\n",
       "      <td>8.0%</td>\n",
       "    </tr>\n",
       "    <tr>\n",
       "      <th>E</th>\n",
       "      <td>348</td>\n",
       "      <td>23</td>\n",
       "      <td>371</td>\n",
       "      <td>6.2%</td>\n",
       "    </tr>\n",
       "  </tbody>\n",
       "</table>\n",
       "</div>"
      ],
      "text/plain": [
       "                       no_debt  debt  total default_chance\n",
       "super_income_category                                     \n",
       "A                          208    14    222           6.3%\n",
       "A1                        2395   180   2575           7.0%\n",
       "A2                        3310   282   3592           7.9%\n",
       "B                         6612   614   7226           8.5%\n",
       "C                         4983   468   5451           8.6%\n",
       "D                         1743   151   1894           8.0%\n",
       "E                          348    23    371           6.2%"
      ]
     },
     "metadata": {},
     "output_type": "display_data"
    }
   ],
   "source": [
    "data_income = data.pivot_table(index='total_income_category', columns='debt', values='children', aggfunc='count')\n",
    "data_income.columns = ['no_debt', 'debt']\n",
    "data_income ['total'] = (data_income['debt'] + data_income['no_debt'])\n",
    "data_income['default_chance'] = data_income['debt'] / data_income ['total']\n",
    "data_income['default_chance'] = data_income['default_chance'].map('{:.1%}'.format)\n",
    "\n",
    "display(data_income)\n",
    "\n",
    "# Промежуточный вывод - данное распределение на категории нерепрезентативно. Большинство заемщиков попадают в категории С и В \n",
    "# с доходом от 50 до 200 тысяч рублей и от 200 тысяч до 1 миллтона рублей соответственно\n",
    "# Для более подробного анализа необходимо ввести больше деления по группам\n",
    "\n",
    "def super_categorize_income(income):\n",
    "    try:\n",
    "        if 0 <= income <= 50000:\n",
    "            return 'E'\n",
    "        elif 50001 <= income <= 80000:\n",
    "            return 'D'\n",
    "        elif 80001 <= income <= 125000:\n",
    "            return 'C'\n",
    "        elif 125001 <= income <= 180000:\n",
    "            return 'B'\n",
    "        elif 180001 <= income <= 250000:\n",
    "            return 'A2'\n",
    "        elif 250001 <= income <= 500000:\n",
    "            return 'A1'\n",
    "        elif 500001 <= income:\n",
    "            return 'A'\n",
    "    except:\n",
    "        pass\n",
    "    \n",
    "    \n",
    "data['super_income_category'] = data['total_income'].apply(super_categorize_income)\n",
    "print()\n",
    "#Проверим сколько человек в каждой группе\n",
    "print(data.groupby('super_income_category')['super_income_category'].count())\n",
    "#и построим новую сводную таблицу\n",
    "\n",
    "data_income_sorted = data.pivot_table(index='super_income_category', columns='debt', values='children', aggfunc='count')\n",
    "data_income_sorted.columns = ['no_debt', 'debt']\n",
    "data_income_sorted ['total'] = (data_income_sorted['debt'] + data_income_sorted['no_debt'])\n",
    "data_income_sorted['default_chance'] = data_income_sorted['debt'] / data_income_sorted ['total']\n",
    "data_income_sorted['default_chance'] = data_income_sorted['default_chance'].map('{:.1%}'.format)\n",
    "\n",
    "display(data_income_sorted)\n",
    "\n",
    "\n",
    "    "
   ]
  },
  {
   "cell_type": "markdown",
   "id": "6dd14b57",
   "metadata": {
    "deletable": false,
    "id": "6dd14b57"
   },
   "source": [
    "**Вывод:** После применения нового метода сортировки очевидна тенденция к уменьшению шансов дефолта по мере роста дохода заемщика."
   ]
  },
  {
   "cell_type": "markdown",
   "id": "bcb5daa4",
   "metadata": {},
   "source": [
    "<div class=\"alert-success\" style=\"padding: 20px; border-radius: 10px\">\n",
    "<b>Комментарий ревьюера ✔️</b>\n",
    "\n",
    "Здорово, что ты провел дополнительную категоризацию заемщиков.\n",
    "    \n",
    "Все верно. Если сравнить самые большие выборки B и C из первой таблицы, такая зависимость видна.</div>"
   ]
  },
  {
   "cell_type": "markdown",
   "id": "1dcc9b12",
   "metadata": {
    "deletable": false,
    "editable": false,
    "id": "1dcc9b12"
   },
   "source": [
    "#### 3.4 Как разные цели кредита влияют на его возврат в срок?"
   ]
  },
  {
   "cell_type": "code",
   "execution_count": 26,
   "id": "c602bc8b",
   "metadata": {
    "deletable": false,
    "id": "c602bc8b"
   },
   "outputs": [
    {
     "data": {
      "text/html": [
       "<div>\n",
       "<style scoped>\n",
       "    .dataframe tbody tr th:only-of-type {\n",
       "        vertical-align: middle;\n",
       "    }\n",
       "\n",
       "    .dataframe tbody tr th {\n",
       "        vertical-align: top;\n",
       "    }\n",
       "\n",
       "    .dataframe thead th {\n",
       "        text-align: right;\n",
       "    }\n",
       "</style>\n",
       "<table border=\"1\" class=\"dataframe\">\n",
       "  <thead>\n",
       "    <tr style=\"text-align: right;\">\n",
       "      <th></th>\n",
       "      <th>no_debt</th>\n",
       "      <th>debt</th>\n",
       "      <th>total</th>\n",
       "      <th>default_chance</th>\n",
       "    </tr>\n",
       "    <tr>\n",
       "      <th>purpose_category</th>\n",
       "      <th></th>\n",
       "      <th></th>\n",
       "      <th></th>\n",
       "      <th></th>\n",
       "    </tr>\n",
       "  </thead>\n",
       "  <tbody>\n",
       "    <tr>\n",
       "      <th>операции с автомобилем</th>\n",
       "      <td>3879</td>\n",
       "      <td>400</td>\n",
       "      <td>4279</td>\n",
       "      <td>9.3%</td>\n",
       "    </tr>\n",
       "    <tr>\n",
       "      <th>операции с недвижимостью</th>\n",
       "      <td>9971</td>\n",
       "      <td>780</td>\n",
       "      <td>10751</td>\n",
       "      <td>7.3%</td>\n",
       "    </tr>\n",
       "    <tr>\n",
       "      <th>получение образования</th>\n",
       "      <td>3619</td>\n",
       "      <td>369</td>\n",
       "      <td>3988</td>\n",
       "      <td>9.3%</td>\n",
       "    </tr>\n",
       "    <tr>\n",
       "      <th>проведение свадьбы</th>\n",
       "      <td>2130</td>\n",
       "      <td>183</td>\n",
       "      <td>2313</td>\n",
       "      <td>7.9%</td>\n",
       "    </tr>\n",
       "  </tbody>\n",
       "</table>\n",
       "</div>"
      ],
      "text/plain": [
       "                          no_debt  debt  total default_chance\n",
       "purpose_category                                             \n",
       "операции с автомобилем       3879   400   4279           9.3%\n",
       "операции с недвижимостью     9971   780  10751           7.3%\n",
       "получение образования        3619   369   3988           9.3%\n",
       "проведение свадьбы           2130   183   2313           7.9%"
      ]
     },
     "metadata": {},
     "output_type": "display_data"
    }
   ],
   "source": [
    "data_goal = data.pivot_table(index='purpose_category', columns='debt', values='children', aggfunc='count')\n",
    "data_goal.columns = ['no_debt', 'debt']\n",
    "data_goal['total'] = (data_goal['debt'] + data_goal['no_debt'])\n",
    "data_goal['default_chance'] = data_goal['debt'] / data_goal['total']\n",
    "data_goal['default_chance'] = data_goal['default_chance'].map('{:.1%}'.format)\n",
    "display(data_goal)"
   ]
  },
  {
   "cell_type": "markdown",
   "id": "cf05ed63",
   "metadata": {
    "deletable": false,
    "id": "cf05ed63"
   },
   "source": [
    "**Вывод:** Самые рискованные категории по целям кредита - на операции с автомобилем и на образование. Меньше всего просрочек - на кредиты на операции с недвижимостью."
   ]
  },
  {
   "cell_type": "markdown",
   "id": "08a343cb",
   "metadata": {},
   "source": [
    "<div class=\"alert-success\" style=\"padding: 20px; border-radius: 10px\">\n",
    "<b>Комментарий ревьюера ✔️</b>\n",
    "\n",
    "Всё правильно. 👌</div>"
   ]
  },
  {
   "cell_type": "markdown",
   "id": "46c1f10b",
   "metadata": {
    "deletable": false,
    "editable": false,
    "id": "46c1f10b"
   },
   "source": [
    "#### 3.5 Приведите возможные причины появления пропусков в исходных данных."
   ]
  },
  {
   "cell_type": "markdown",
   "id": "3697d2a9",
   "metadata": {
    "deletable": false,
    "id": "3697d2a9"
   },
   "source": [
    "*Ответ:* Человеческий фактор, технический сбой, повреждения носителя, ограничение доступа, неправильная организация хранения данных и другие"
   ]
  },
  {
   "cell_type": "markdown",
   "id": "8930f717",
   "metadata": {},
   "source": [
    "<div class=\"alert-success\" style=\"padding: 20px; border-radius: 10px\">\n",
    "<b>Комментарий ревьюера ✔️</b>\n",
    "\n",
    "Предположения о возникновении пропусков правильные. </div>"
   ]
  },
  {
   "cell_type": "markdown",
   "id": "3137d257",
   "metadata": {
    "deletable": false,
    "editable": false,
    "id": "3137d257"
   },
   "source": [
    "#### 3.6 Объясните, почему заполнить пропуски медианным значением — лучшее решение для количественных переменных."
   ]
  },
  {
   "cell_type": "markdown",
   "id": "cf40012a",
   "metadata": {
    "deletable": false,
    "id": "cf40012a"
   },
   "source": [
    "*Ответ:* Медианные значения меньше всего искажают результат исследования, т.к. наименее подвержены влиянию экстремальных значений в датасете."
   ]
  },
  {
   "cell_type": "markdown",
   "id": "1c3f927c",
   "metadata": {},
   "source": [
    "<div class=\"alert-success\" style=\"padding: 20px; border-radius: 10px\">\n",
    "<b>Комментарий ревьюера ✔️</b>\n",
    "\n",
    "Совершенно верно, медиана менее чувствительна к выбросам.</div>"
   ]
  },
  {
   "cell_type": "markdown",
   "id": "57bc304e",
   "metadata": {
    "deletable": false,
    "editable": false,
    "id": "57bc304e"
   },
   "source": [
    "### Шаг 4: общий вывод."
   ]
  },
  {
   "cell_type": "markdown",
   "id": "1ab75d1c",
   "metadata": {
    "deletable": false,
    "id": "1ab75d1c"
   },
   "source": [
    "**Состояние датасета**\n",
    "\n",
    "Исследование выявило несколько ошибок в данных.\n",
    "\n",
    "Во-первых, сразу заметны экстремальные значения трудового стажа у безработных и пенсионеров. Учитывая особенности данных категорий, вероятно, целесообразно было либо изменить сбор данных таким образом, чтобы исключить ошибки, либо полностью отказаться от сбора данных в данной категории (т.к. трудовой стаж не является критическим показателем при принятии решения о выдаче кредита ни для пенсионеров, ни для безработных).\n",
    "\n",
    "Во-вторых, считаю целесообразным категоризировать цель получения кредита на первоначальном этапе сбора данных. Предпочтительно, чтобы сам заемщик выбирал из предложенных категорий цели кредита на этапе подачи заявки, а не вписывал цель от руки. Предлагаю следующий набор категорий: \"операции с авто\", операции с недвижимостью\", \"получение образования\", \"проведение свадьбы\", \"другое\".\n",
    "\n",
    "В-третьих, не считаю сообразным заполнять пропуска в позициях \"days_employed\" и \"total_income\", как того требует задание 5.\n",
    "Скорее всего, пропуски обусловлены тем, что у этих людей нет работы и трудового стажа. Соответственно, заполнив эти позиции медианой, как предписано в задании, мы сильно исказим данные.\n",
    "Можно предположить, что наличие пропусков в данных позициях как-то связано с экстремальными значениями трудового стажа у песнионеров и безработных, однако, это требует дополнительного исследования, которое не предусмотрено заданиями данного проекта.\n",
    "\n",
    "Категоризация доходов заемщиков (как требуется в задании) недостаточно репрезентативно разделяет их на группы. Для более глубокой оценки данного фактора, необходимо разделение на большее количество групп (см. задание 3.3)\n",
    "\n",
    "**Выявленные закономерности**\n",
    "\n",
    "Наличие у потенциального заемщика ребенка повышает шансы дефолта по кредиту более чем на 22 процента (если сравнивать с заемщиками с детьми).\n",
    "Самая многочисленная группа заемщиков - заемщики без детей, далее размеры групп уменьшаются по мере роста количества детей.\n",
    "Группы с 3 и более детей не достаточно репрезентативны в виду своей малочисленности.\n",
    "Если сравнивать группы с 0, 1, 2 детьми риск дефолта растет с увеличением числа детей.\n",
    "\n",
    "Вероятность дефолта по кредиту для неженатых и проживающих в гражданском браке заемщиков по сравнению с остальными группами выше на 27.32 %, иначе говоря состоящие или состоявшие в браке заемщики реже допускают просрочки.\n",
    "\n",
    "Уровень дохода заемщика прямо пропорционален его надежности. Чем выше доход - тем надежнее является заемщик.\n",
    "\n",
    "Если оценивать по цели кредита - меньше всего рисков невозврата у тех, кто берет заем на операции с недвижимостью. Далее - в порядке возрастания риска - кредит на проведение свадьбы. Наконец, наибольший риск невозврата у кредитов на операции с авто и на получение образования.\n",
    "\n"
   ]
  },
  {
   "cell_type": "markdown",
   "id": "a2573d75",
   "metadata": {},
   "source": [
    "<div class=\"alert-success\" style=\"border-radius: 10px; padding: 10px\">\n",
    "<b>Комментарий ревьюера V3 ✔️</b>\n",
    "\n",
    "Теперь у тебя получился очень подробный общий вывод, отражающий все основные результаты исследования. 👌</div>"
   ]
  },
  {
   "cell_type": "markdown",
   "id": "3b0b0cf3",
   "metadata": {},
   "source": [
    "<div class=\"alert-info\" style=\"padding: 20px; border-radius: 10px\">\n",
    "<b>Комментарий студента 💎</b>\n",
    "\n",
    "Написал новый вывод с учетом комментариев. Версия в браузере не сохранилась, сейчас попробовал сделать оффлайн, надеюсь в этот раз все будет ок.</div>"
   ]
  },
  {
   "cell_type": "markdown",
   "id": "3bb1f1d6",
   "metadata": {},
   "source": [
    "<div class=\"alert-danger\" style=\"padding: 20px; border-radius: 10px\">\n",
    "<b>Комментарий ревьюера ❌</b>\n",
    "\n",
    "Общий вывод в целом верный, однако стоит его расширить. Нужно отразить в нем основные результаты по всем шагам работы. Начать с абзаца с описанием входных данных и что сделали на этапе предобработки. \n",
    "\n",
    "Далее описать все выявленные зависимости просрочки от различных факторов в общем виде. \n",
    "\n",
    "Закончить вывод можно рекомендациями банку по улучшению сбора данных.\n",
    "\n",
    "Зачастую, заказчик читает только общий вывод, поэтому он должен быть максимально информативным.\n",
    "\n",
    "</div>"
   ]
  },
  {
   "cell_type": "markdown",
   "id": "5f67973f",
   "metadata": {},
   "source": [
    "<div style=\"border:solid steelblue 3px; padding: 20px; border-radius: 10px\">\n",
    "    \n",
    "<b>Общий комментарий ревьюера:</b>\n",
    "\n",
    "Я вижу, что ты потратил много времени и усилий, чтобы выполнить этот проект на высоком уровне. Но нужно кое-что исправить, чтобы я его принял.\n",
    "    \n",
    "У меня только одно критическое замечание - касательно общего вывода. Его нужно раскрыть поподробнее.\n",
    "    \n",
    "Также, посмотри желтые комментарии во второй части работы.\n",
    "    \n",
    "Буду ждать твой доработанный проект. ⌛️</div>"
   ]
  },
  {
   "cell_type": "markdown",
   "id": "f1a94986",
   "metadata": {},
   "source": [
    "<div style=\"border:solid steelblue 3px; padding: 20px; border-radius: 10px\">\n",
    "    \n",
    "<b>Общий комментарий ревьюера V2</b>\n",
    "\n",
    "К сожалению, не увидел реакции на свои комментарии. Возможно что-то пошло не так и твои правки не сохранились.\n",
    "    \n",
    "</div>"
   ]
  },
  {
   "cell_type": "markdown",
   "id": "feffcaaf",
   "metadata": {},
   "source": [
    "<div style=\"border:solid steelblue 3px; padding: 20px; border-radius: 10px\">\n",
    "    \n",
    "<b>Общий комментарий ревьюера V3</b>\n",
    "\n",
    "Спасибо, что доработал проект! Критических замечаний больше нет, получилась очень хорошая работа.\n",
    "    \n",
    "Успехов в дальнейшем обучении! 🏆\n",
    "    \n",
    "</div>"
   ]
  },
  {
   "cell_type": "code",
   "execution_count": null,
   "id": "cd9edc9a",
   "metadata": {},
   "outputs": [],
   "source": []
  }
 ],
 "metadata": {
  "ExecuteTimeLog": [
   {
    "duration": 55,
    "start_time": "2023-02-04T17:37:08.581Z"
   },
   {
    "duration": 609,
    "start_time": "2023-02-04T17:37:19.254Z"
   },
   {
    "duration": 23,
    "start_time": "2023-02-04T17:37:19.866Z"
   },
   {
    "duration": 30,
    "start_time": "2023-02-04T17:37:19.891Z"
   },
   {
    "duration": 15,
    "start_time": "2023-02-04T17:37:19.923Z"
   },
   {
    "duration": 51,
    "start_time": "2023-02-04T17:37:19.941Z"
   },
   {
    "duration": 8,
    "start_time": "2023-02-04T17:37:19.996Z"
   },
   {
    "duration": 36,
    "start_time": "2023-02-04T17:37:20.005Z"
   },
   {
    "duration": 5,
    "start_time": "2023-02-04T17:37:20.044Z"
   },
   {
    "duration": 15,
    "start_time": "2023-02-04T17:37:20.051Z"
   },
   {
    "duration": 10,
    "start_time": "2023-02-04T17:37:20.068Z"
   },
   {
    "duration": 59,
    "start_time": "2023-02-04T17:37:20.080Z"
   },
   {
    "duration": 14,
    "start_time": "2023-02-04T17:37:20.141Z"
   },
   {
    "duration": 7,
    "start_time": "2023-02-04T17:37:20.157Z"
   },
   {
    "duration": 73,
    "start_time": "2023-02-04T17:37:20.168Z"
   },
   {
    "duration": 155,
    "start_time": "2023-02-04T17:37:20.243Z"
   },
   {
    "duration": 24,
    "start_time": "2023-02-04T17:37:20.399Z"
   },
   {
    "duration": 8,
    "start_time": "2023-02-04T17:37:20.425Z"
   },
   {
    "duration": 19,
    "start_time": "2023-02-04T17:37:20.435Z"
   },
   {
    "duration": 8,
    "start_time": "2023-02-04T17:37:20.455Z"
   },
   {
    "duration": 20,
    "start_time": "2023-02-04T17:37:20.465Z"
   },
   {
    "duration": 48,
    "start_time": "2023-02-04T17:37:20.488Z"
   },
   {
    "duration": 21,
    "start_time": "2023-02-04T17:37:20.538Z"
   },
   {
    "duration": 10,
    "start_time": "2023-02-04T17:37:20.560Z"
   },
   {
    "duration": 10,
    "start_time": "2023-02-04T17:37:20.573Z"
   },
   {
    "duration": 30,
    "start_time": "2023-02-04T17:37:20.586Z"
   },
   {
    "duration": 25,
    "start_time": "2023-02-04T17:48:38.855Z"
   },
   {
    "duration": 49,
    "start_time": "2023-02-05T07:49:59.453Z"
   },
   {
    "duration": 6,
    "start_time": "2023-02-05T07:50:09.718Z"
   },
   {
    "duration": 586,
    "start_time": "2023-02-05T07:50:11.897Z"
   },
   {
    "duration": 31,
    "start_time": "2023-02-05T07:50:12.486Z"
   },
   {
    "duration": 18,
    "start_time": "2023-02-05T07:50:12.519Z"
   },
   {
    "duration": 46,
    "start_time": "2023-02-05T07:50:12.540Z"
   },
   {
    "duration": 46,
    "start_time": "2023-02-05T07:50:12.587Z"
   },
   {
    "duration": 7,
    "start_time": "2023-02-05T07:50:12.636Z"
   },
   {
    "duration": 47,
    "start_time": "2023-02-05T07:50:12.645Z"
   },
   {
    "duration": 10,
    "start_time": "2023-02-05T07:50:12.694Z"
   },
   {
    "duration": 19,
    "start_time": "2023-02-05T07:50:12.707Z"
   },
   {
    "duration": 47,
    "start_time": "2023-02-05T07:50:12.729Z"
   },
   {
    "duration": 32,
    "start_time": "2023-02-05T07:50:12.777Z"
   },
   {
    "duration": 8,
    "start_time": "2023-02-05T07:50:12.811Z"
   },
   {
    "duration": 4,
    "start_time": "2023-02-05T07:50:12.820Z"
   },
   {
    "duration": 21,
    "start_time": "2023-02-05T07:50:12.826Z"
   },
   {
    "duration": 42,
    "start_time": "2023-02-05T07:50:12.849Z"
   },
   {
    "duration": 16,
    "start_time": "2023-02-05T07:50:12.892Z"
   },
   {
    "duration": 4,
    "start_time": "2023-02-05T07:50:12.909Z"
   },
   {
    "duration": 11,
    "start_time": "2023-02-05T07:50:12.914Z"
   },
   {
    "duration": 5,
    "start_time": "2023-02-05T07:50:12.926Z"
   },
   {
    "duration": 31,
    "start_time": "2023-02-05T07:50:12.937Z"
   },
   {
    "duration": 11,
    "start_time": "2023-02-05T07:50:12.970Z"
   },
   {
    "duration": 18,
    "start_time": "2023-02-05T07:50:12.983Z"
   },
   {
    "duration": 2,
    "start_time": "2023-02-05T07:50:13.003Z"
   },
   {
    "duration": 10,
    "start_time": "2023-02-05T07:50:13.006Z"
   },
   {
    "duration": 5,
    "start_time": "2023-02-05T07:50:13.018Z"
   },
   {
    "duration": 23,
    "start_time": "2023-02-05T07:50:28.627Z"
   },
   {
    "duration": 5,
    "start_time": "2023-02-05T07:59:14.866Z"
   },
   {
    "duration": 18,
    "start_time": "2023-02-05T08:00:37.281Z"
   },
   {
    "duration": 48,
    "start_time": "2023-02-05T08:04:32.492Z"
   },
   {
    "duration": 18,
    "start_time": "2023-02-05T08:04:38.993Z"
   },
   {
    "duration": 790,
    "start_time": "2023-02-05T08:14:31.332Z"
   },
   {
    "duration": 42,
    "start_time": "2023-02-05T08:21:50.437Z"
   },
   {
    "duration": 115,
    "start_time": "2023-02-05T08:22:22.191Z"
   },
   {
    "duration": 24,
    "start_time": "2023-02-05T08:22:28.003Z"
   },
   {
    "duration": 29,
    "start_time": "2023-02-05T08:22:46.918Z"
   },
   {
    "duration": 4,
    "start_time": "2023-02-05T08:23:07.495Z"
   },
   {
    "duration": 35,
    "start_time": "2023-02-05T08:23:26.227Z"
   },
   {
    "duration": 32,
    "start_time": "2023-02-05T08:23:52.688Z"
   },
   {
    "duration": 592,
    "start_time": "2023-02-05T08:26:15.504Z"
   },
   {
    "duration": 18,
    "start_time": "2023-02-05T08:47:36.698Z"
   },
   {
    "duration": 19,
    "start_time": "2023-02-05T08:50:49.700Z"
   },
   {
    "duration": 18,
    "start_time": "2023-02-05T08:51:01.072Z"
   },
   {
    "duration": 4,
    "start_time": "2023-02-05T08:52:06.177Z"
   },
   {
    "duration": 4,
    "start_time": "2023-02-05T08:52:40.554Z"
   },
   {
    "duration": 48,
    "start_time": "2023-02-05T08:52:44.229Z"
   },
   {
    "duration": 16,
    "start_time": "2023-02-05T08:53:10.843Z"
   },
   {
    "duration": 20,
    "start_time": "2023-02-05T08:53:32.465Z"
   },
   {
    "duration": 24,
    "start_time": "2023-02-05T09:00:00.713Z"
   },
   {
    "duration": 30,
    "start_time": "2023-02-05T09:01:19.347Z"
   },
   {
    "duration": 26,
    "start_time": "2023-02-05T09:05:45.882Z"
   },
   {
    "duration": 29,
    "start_time": "2023-02-05T09:08:59.922Z"
   },
   {
    "duration": 30,
    "start_time": "2023-02-05T09:09:21.458Z"
   },
   {
    "duration": 32,
    "start_time": "2023-02-05T09:10:08.405Z"
   },
   {
    "duration": 50,
    "start_time": "2023-02-05T09:11:28.316Z"
   },
   {
    "duration": 35,
    "start_time": "2023-02-05T09:11:51.343Z"
   },
   {
    "duration": 36,
    "start_time": "2023-02-05T09:12:19.345Z"
   },
   {
    "duration": 50,
    "start_time": "2023-02-05T09:12:34.290Z"
   },
   {
    "duration": 47,
    "start_time": "2023-02-05T09:12:40.362Z"
   },
   {
    "duration": 32,
    "start_time": "2023-02-05T09:12:53.294Z"
   },
   {
    "duration": 33,
    "start_time": "2023-02-05T09:23:56.292Z"
   },
   {
    "duration": 33,
    "start_time": "2023-02-05T09:26:23.013Z"
   },
   {
    "duration": 33,
    "start_time": "2023-02-05T09:29:38.531Z"
   },
   {
    "duration": 36,
    "start_time": "2023-02-05T09:30:22.830Z"
   },
   {
    "duration": 395,
    "start_time": "2023-02-05T10:18:00.583Z"
   },
   {
    "duration": 20,
    "start_time": "2023-02-05T10:18:00.980Z"
   },
   {
    "duration": 13,
    "start_time": "2023-02-05T10:18:01.001Z"
   },
   {
    "duration": 51,
    "start_time": "2023-02-05T10:18:01.016Z"
   },
   {
    "duration": 51,
    "start_time": "2023-02-05T10:18:01.069Z"
   },
   {
    "duration": 3,
    "start_time": "2023-02-05T10:18:01.121Z"
   },
   {
    "duration": 22,
    "start_time": "2023-02-05T10:18:01.126Z"
   },
   {
    "duration": 26,
    "start_time": "2023-02-05T10:18:01.149Z"
   },
   {
    "duration": 24,
    "start_time": "2023-02-05T10:18:01.176Z"
   },
   {
    "duration": 24,
    "start_time": "2023-02-05T10:18:01.203Z"
   },
   {
    "duration": 62,
    "start_time": "2023-02-05T10:18:01.229Z"
   },
   {
    "duration": 12,
    "start_time": "2023-02-05T10:18:01.293Z"
   },
   {
    "duration": 27,
    "start_time": "2023-02-05T10:18:01.306Z"
   },
   {
    "duration": 26,
    "start_time": "2023-02-05T10:18:01.334Z"
   },
   {
    "duration": 60,
    "start_time": "2023-02-05T10:18:01.361Z"
   },
   {
    "duration": 37,
    "start_time": "2023-02-05T10:18:01.423Z"
   },
   {
    "duration": 3,
    "start_time": "2023-02-05T10:18:01.462Z"
   },
   {
    "duration": 37,
    "start_time": "2023-02-05T10:18:01.466Z"
   },
   {
    "duration": 28,
    "start_time": "2023-02-05T10:18:01.504Z"
   },
   {
    "duration": 34,
    "start_time": "2023-02-05T10:18:01.534Z"
   },
   {
    "duration": 50,
    "start_time": "2023-02-05T10:18:01.569Z"
   },
   {
    "duration": 39,
    "start_time": "2023-02-05T10:18:01.620Z"
   },
   {
    "duration": 48,
    "start_time": "2023-02-05T10:18:01.661Z"
   },
   {
    "duration": 0,
    "start_time": "2023-02-05T10:18:01.710Z"
   },
   {
    "duration": 0,
    "start_time": "2023-02-05T10:18:01.711Z"
   },
   {
    "duration": 58,
    "start_time": "2023-02-05T10:18:31.322Z"
   },
   {
    "duration": 15,
    "start_time": "2023-02-05T10:18:44.224Z"
   },
   {
    "duration": 20,
    "start_time": "2023-02-05T10:20:22.408Z"
   },
   {
    "duration": 18,
    "start_time": "2023-02-05T10:20:57.736Z"
   },
   {
    "duration": 19,
    "start_time": "2023-02-05T10:21:17.862Z"
   },
   {
    "duration": 27,
    "start_time": "2023-02-05T10:31:38.477Z"
   },
   {
    "duration": 35,
    "start_time": "2023-02-05T10:32:57.326Z"
   },
   {
    "duration": 29,
    "start_time": "2023-02-05T10:33:14.862Z"
   },
   {
    "duration": 28,
    "start_time": "2023-02-05T10:33:20.381Z"
   },
   {
    "duration": 27,
    "start_time": "2023-02-05T10:33:44.822Z"
   },
   {
    "duration": 36,
    "start_time": "2023-02-05T10:35:55.965Z"
   },
   {
    "duration": 27,
    "start_time": "2023-02-05T10:36:59.846Z"
   },
   {
    "duration": 28,
    "start_time": "2023-02-05T10:37:41.088Z"
   },
   {
    "duration": 243,
    "start_time": "2023-02-05T10:38:25.933Z"
   },
   {
    "duration": 47,
    "start_time": "2023-02-05T10:38:57.821Z"
   },
   {
    "duration": 27,
    "start_time": "2023-02-05T10:39:04.094Z"
   },
   {
    "duration": 806,
    "start_time": "2023-02-05T10:40:03.999Z"
   },
   {
    "duration": 20,
    "start_time": "2023-02-05T10:40:33.334Z"
   },
   {
    "duration": 29,
    "start_time": "2023-02-05T10:42:37.023Z"
   },
   {
    "duration": 4,
    "start_time": "2023-02-05T10:49:31.219Z"
   },
   {
    "duration": 31,
    "start_time": "2023-02-05T10:49:53.210Z"
   },
   {
    "duration": 34,
    "start_time": "2023-02-05T10:50:31.580Z"
   },
   {
    "duration": 24,
    "start_time": "2023-02-05T10:51:02.960Z"
   },
   {
    "duration": 31,
    "start_time": "2023-02-05T11:29:02.732Z"
   },
   {
    "duration": 37,
    "start_time": "2023-02-05T11:29:30.584Z"
   },
   {
    "duration": 38,
    "start_time": "2023-02-05T11:37:32.046Z"
   },
   {
    "duration": 39,
    "start_time": "2023-02-05T11:37:50.800Z"
   },
   {
    "duration": 39,
    "start_time": "2023-02-05T11:38:07.072Z"
   },
   {
    "duration": 67,
    "start_time": "2023-02-05T11:41:42.386Z"
   },
   {
    "duration": 49,
    "start_time": "2023-02-05T11:42:26.488Z"
   },
   {
    "duration": 50,
    "start_time": "2023-02-05T11:43:10.159Z"
   },
   {
    "duration": 51,
    "start_time": "2023-02-05T11:43:41.120Z"
   },
   {
    "duration": 26,
    "start_time": "2023-02-05T11:44:22.623Z"
   },
   {
    "duration": 49,
    "start_time": "2023-02-05T11:44:29.383Z"
   },
   {
    "duration": 47,
    "start_time": "2023-02-05T11:47:06.799Z"
   },
   {
    "duration": 47,
    "start_time": "2023-02-05T11:47:55.104Z"
   },
   {
    "duration": 61,
    "start_time": "2023-02-05T11:50:25.593Z"
   },
   {
    "duration": 49,
    "start_time": "2023-02-05T11:51:07.688Z"
   },
   {
    "duration": 57,
    "start_time": "2023-02-05T11:56:11.313Z"
   },
   {
    "duration": 22,
    "start_time": "2023-02-05T11:58:00.219Z"
   },
   {
    "duration": 19,
    "start_time": "2023-02-05T12:01:17.515Z"
   },
   {
    "duration": 23,
    "start_time": "2023-02-05T12:02:50.057Z"
   },
   {
    "duration": 68,
    "start_time": "2023-02-05T12:02:56.795Z"
   },
   {
    "duration": 17,
    "start_time": "2023-02-05T12:02:56.866Z"
   },
   {
    "duration": 15,
    "start_time": "2023-02-05T12:02:56.884Z"
   },
   {
    "duration": 9,
    "start_time": "2023-02-05T12:02:56.901Z"
   },
   {
    "duration": 50,
    "start_time": "2023-02-05T12:02:56.912Z"
   },
   {
    "duration": 3,
    "start_time": "2023-02-05T12:02:56.964Z"
   },
   {
    "duration": 10,
    "start_time": "2023-02-05T12:02:56.968Z"
   },
   {
    "duration": 3,
    "start_time": "2023-02-05T12:02:56.980Z"
   },
   {
    "duration": 6,
    "start_time": "2023-02-05T12:02:56.985Z"
   },
   {
    "duration": 4,
    "start_time": "2023-02-05T12:02:56.992Z"
   },
   {
    "duration": 55,
    "start_time": "2023-02-05T12:02:56.997Z"
   },
   {
    "duration": 8,
    "start_time": "2023-02-05T12:02:57.054Z"
   },
   {
    "duration": 3,
    "start_time": "2023-02-05T12:02:57.064Z"
   },
   {
    "duration": 12,
    "start_time": "2023-02-05T12:02:57.069Z"
   },
   {
    "duration": 17,
    "start_time": "2023-02-05T12:02:57.082Z"
   },
   {
    "duration": 38,
    "start_time": "2023-02-05T12:02:57.100Z"
   },
   {
    "duration": 3,
    "start_time": "2023-02-05T12:02:57.140Z"
   },
   {
    "duration": 12,
    "start_time": "2023-02-05T12:02:57.145Z"
   },
   {
    "duration": 8,
    "start_time": "2023-02-05T12:02:57.158Z"
   },
   {
    "duration": 3,
    "start_time": "2023-02-05T12:02:57.168Z"
   },
   {
    "duration": 14,
    "start_time": "2023-02-05T12:02:57.172Z"
   },
   {
    "duration": 28,
    "start_time": "2023-02-05T12:02:57.187Z"
   },
   {
    "duration": 48,
    "start_time": "2023-02-05T12:02:57.237Z"
   },
   {
    "duration": 18,
    "start_time": "2023-02-05T12:02:57.287Z"
   },
   {
    "duration": 2,
    "start_time": "2023-02-05T12:02:57.307Z"
   },
   {
    "duration": 21,
    "start_time": "2023-02-05T12:03:48.461Z"
   },
   {
    "duration": 17,
    "start_time": "2023-02-05T12:06:31.787Z"
   },
   {
    "duration": 21,
    "start_time": "2023-02-05T12:07:47.229Z"
   },
   {
    "duration": 30,
    "start_time": "2023-02-05T12:07:56.752Z"
   },
   {
    "duration": 25,
    "start_time": "2023-02-05T12:08:05.902Z"
   },
   {
    "duration": 25,
    "start_time": "2023-02-05T12:08:54.148Z"
   },
   {
    "duration": 58,
    "start_time": "2023-02-05T12:26:53.093Z"
   },
   {
    "duration": 31,
    "start_time": "2023-02-05T12:26:58.072Z"
   },
   {
    "duration": 32,
    "start_time": "2023-02-05T12:27:24.626Z"
   },
   {
    "duration": 30,
    "start_time": "2023-02-05T12:28:15.270Z"
   },
   {
    "duration": 59,
    "start_time": "2023-02-05T12:30:58.952Z"
   },
   {
    "duration": 85,
    "start_time": "2023-02-05T12:31:18.823Z"
   },
   {
    "duration": 45,
    "start_time": "2023-02-05T12:34:57.317Z"
   },
   {
    "duration": 18,
    "start_time": "2023-02-05T12:39:40.135Z"
   },
   {
    "duration": 18,
    "start_time": "2023-02-05T12:39:59.092Z"
   },
   {
    "duration": 25,
    "start_time": "2023-02-05T12:41:17.407Z"
   },
   {
    "duration": 22,
    "start_time": "2023-02-05T12:45:16.615Z"
   },
   {
    "duration": 28,
    "start_time": "2023-02-05T12:46:41.328Z"
   },
   {
    "duration": 30,
    "start_time": "2023-02-05T12:46:58.345Z"
   },
   {
    "duration": 22,
    "start_time": "2023-02-05T12:48:30.027Z"
   },
   {
    "duration": 455,
    "start_time": "2023-02-06T08:48:10.626Z"
   },
   {
    "duration": 22,
    "start_time": "2023-02-06T08:48:11.083Z"
   },
   {
    "duration": 14,
    "start_time": "2023-02-06T08:48:11.107Z"
   },
   {
    "duration": 10,
    "start_time": "2023-02-06T08:48:11.123Z"
   },
   {
    "duration": 34,
    "start_time": "2023-02-06T08:48:11.134Z"
   },
   {
    "duration": 3,
    "start_time": "2023-02-06T08:48:11.169Z"
   },
   {
    "duration": 9,
    "start_time": "2023-02-06T08:48:11.192Z"
   },
   {
    "duration": 15,
    "start_time": "2023-02-06T08:48:11.202Z"
   },
   {
    "duration": 7,
    "start_time": "2023-02-06T08:48:11.218Z"
   },
   {
    "duration": 3,
    "start_time": "2023-02-06T08:48:11.229Z"
   },
   {
    "duration": 31,
    "start_time": "2023-02-06T08:48:11.234Z"
   },
   {
    "duration": 8,
    "start_time": "2023-02-06T08:48:11.267Z"
   },
   {
    "duration": 3,
    "start_time": "2023-02-06T08:48:11.293Z"
   },
   {
    "duration": 15,
    "start_time": "2023-02-06T08:48:11.298Z"
   },
   {
    "duration": 18,
    "start_time": "2023-02-06T08:48:11.315Z"
   },
   {
    "duration": 17,
    "start_time": "2023-02-06T08:48:11.334Z"
   },
   {
    "duration": 4,
    "start_time": "2023-02-06T08:48:11.353Z"
   },
   {
    "duration": 13,
    "start_time": "2023-02-06T08:48:11.358Z"
   },
   {
    "duration": 24,
    "start_time": "2023-02-06T08:48:11.372Z"
   },
   {
    "duration": 8,
    "start_time": "2023-02-06T08:48:11.398Z"
   },
   {
    "duration": 11,
    "start_time": "2023-02-06T08:48:11.408Z"
   },
   {
    "duration": 32,
    "start_time": "2023-02-06T08:48:11.421Z"
   },
   {
    "duration": 68,
    "start_time": "2023-02-06T08:48:11.455Z"
   },
   {
    "duration": 51,
    "start_time": "2023-02-06T08:48:11.525Z"
   },
   {
    "duration": 22,
    "start_time": "2023-02-06T08:48:11.593Z"
   },
   {
    "duration": 26,
    "start_time": "2023-02-06T08:50:46.443Z"
   },
   {
    "duration": 5,
    "start_time": "2023-02-06T08:57:46.496Z"
   },
   {
    "duration": 9,
    "start_time": "2023-02-06T08:59:05.156Z"
   },
   {
    "duration": 11,
    "start_time": "2023-02-06T09:00:15.342Z"
   },
   {
    "duration": 12,
    "start_time": "2023-02-06T09:00:22.754Z"
   },
   {
    "duration": 11,
    "start_time": "2023-02-06T09:01:52.618Z"
   },
   {
    "duration": 9,
    "start_time": "2023-02-06T09:02:35.328Z"
   },
   {
    "duration": 503,
    "start_time": "2023-02-06T09:06:53.614Z"
   },
   {
    "duration": 34,
    "start_time": "2023-02-06T09:06:54.120Z"
   },
   {
    "duration": 22,
    "start_time": "2023-02-06T09:06:54.156Z"
   },
   {
    "duration": 64,
    "start_time": "2023-02-06T09:06:54.181Z"
   },
   {
    "duration": 46,
    "start_time": "2023-02-06T09:06:54.248Z"
   },
   {
    "duration": 4,
    "start_time": "2023-02-06T09:06:54.298Z"
   },
   {
    "duration": 29,
    "start_time": "2023-02-06T09:06:54.304Z"
   },
   {
    "duration": 32,
    "start_time": "2023-02-06T09:06:54.334Z"
   },
   {
    "duration": 29,
    "start_time": "2023-02-06T09:06:54.369Z"
   },
   {
    "duration": 8,
    "start_time": "2023-02-06T09:06:54.403Z"
   },
   {
    "duration": 43,
    "start_time": "2023-02-06T09:06:54.413Z"
   },
   {
    "duration": 9,
    "start_time": "2023-02-06T09:06:54.458Z"
   },
   {
    "duration": 3,
    "start_time": "2023-02-06T09:06:54.469Z"
   },
   {
    "duration": 31,
    "start_time": "2023-02-06T09:06:54.474Z"
   },
   {
    "duration": 22,
    "start_time": "2023-02-06T09:06:54.508Z"
   },
   {
    "duration": 16,
    "start_time": "2023-02-06T09:06:54.531Z"
   },
   {
    "duration": 3,
    "start_time": "2023-02-06T09:06:54.549Z"
   },
   {
    "duration": 11,
    "start_time": "2023-02-06T09:06:54.554Z"
   },
   {
    "duration": 8,
    "start_time": "2023-02-06T09:06:54.566Z"
   },
   {
    "duration": 31,
    "start_time": "2023-02-06T09:06:54.576Z"
   },
   {
    "duration": 11,
    "start_time": "2023-02-06T09:06:54.609Z"
   },
   {
    "duration": 31,
    "start_time": "2023-02-06T09:06:54.621Z"
   },
   {
    "duration": 26,
    "start_time": "2023-02-06T09:06:54.653Z"
   },
   {
    "duration": 74,
    "start_time": "2023-02-06T09:06:54.681Z"
   },
   {
    "duration": 77,
    "start_time": "2023-02-06T09:06:54.757Z"
   },
   {
    "duration": 19,
    "start_time": "2023-02-06T09:06:54.836Z"
   },
   {
    "duration": 480,
    "start_time": "2023-02-07T14:42:46.256Z"
   },
   {
    "duration": 27,
    "start_time": "2023-02-07T14:42:46.738Z"
   },
   {
    "duration": 21,
    "start_time": "2023-02-07T14:42:46.767Z"
   },
   {
    "duration": 9,
    "start_time": "2023-02-07T14:42:46.791Z"
   },
   {
    "duration": 56,
    "start_time": "2023-02-07T14:42:46.802Z"
   },
   {
    "duration": 3,
    "start_time": "2023-02-07T14:42:46.860Z"
   },
   {
    "duration": 14,
    "start_time": "2023-02-07T14:42:46.864Z"
   },
   {
    "duration": 4,
    "start_time": "2023-02-07T14:42:46.880Z"
   },
   {
    "duration": 7,
    "start_time": "2023-02-07T14:42:46.886Z"
   },
   {
    "duration": 4,
    "start_time": "2023-02-07T14:42:46.897Z"
   },
   {
    "duration": 59,
    "start_time": "2023-02-07T14:42:46.902Z"
   },
   {
    "duration": 9,
    "start_time": "2023-02-07T14:42:46.962Z"
   },
   {
    "duration": 8,
    "start_time": "2023-02-07T14:42:46.972Z"
   },
   {
    "duration": 17,
    "start_time": "2023-02-07T14:42:46.981Z"
   },
   {
    "duration": 46,
    "start_time": "2023-02-07T14:42:47.000Z"
   },
   {
    "duration": 25,
    "start_time": "2023-02-07T14:42:47.047Z"
   },
   {
    "duration": 4,
    "start_time": "2023-02-07T14:42:47.074Z"
   },
   {
    "duration": 21,
    "start_time": "2023-02-07T14:42:47.079Z"
   },
   {
    "duration": 7,
    "start_time": "2023-02-07T14:42:47.102Z"
   },
   {
    "duration": 17,
    "start_time": "2023-02-07T14:42:47.110Z"
   },
   {
    "duration": 10,
    "start_time": "2023-02-07T14:42:47.136Z"
   },
   {
    "duration": 38,
    "start_time": "2023-02-07T14:42:47.147Z"
   },
   {
    "duration": 27,
    "start_time": "2023-02-07T14:42:47.186Z"
   },
   {
    "duration": 78,
    "start_time": "2023-02-07T14:42:47.215Z"
   },
   {
    "duration": 80,
    "start_time": "2023-02-07T14:42:47.295Z"
   },
   {
    "duration": 22,
    "start_time": "2023-02-07T14:42:47.377Z"
   }
  ],
  "colab": {
   "provenance": []
  },
  "kernelspec": {
   "display_name": "Python 3 (ipykernel)",
   "language": "python",
   "name": "python3"
  },
  "language_info": {
   "codemirror_mode": {
    "name": "ipython",
    "version": 3
   },
   "file_extension": ".py",
   "mimetype": "text/x-python",
   "name": "python",
   "nbconvert_exporter": "python",
   "pygments_lexer": "ipython3",
   "version": "3.9.13"
  },
  "toc": {
   "base_numbering": 1,
   "nav_menu": {},
   "number_sections": true,
   "sideBar": true,
   "skip_h1_title": true,
   "title_cell": "Table of Contents",
   "title_sidebar": "Contents",
   "toc_cell": false,
   "toc_position": {},
   "toc_section_display": true,
   "toc_window_display": false
  }
 },
 "nbformat": 4,
 "nbformat_minor": 5
}
