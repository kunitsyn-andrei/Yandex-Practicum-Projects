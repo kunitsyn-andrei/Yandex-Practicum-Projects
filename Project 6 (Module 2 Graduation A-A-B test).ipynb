{
 "cells": [
  {
   "cell_type": "markdown",
   "metadata": {},
   "source": [
    "<div class=\"alert alert-block alert-success\">\n",
    "        \n",
    "### Комментарий от ревьюера v_1\n",
    "    \n",
    "Андрей, отличная работа, но следующие моменты надо исправить\n",
    "    \n",
    "1. Расчет доли пользователей, переходящих на следующий шаг воронки\n",
    "2. Формулировка гипотез\n",
    "3. Рассуждения об уровне значимости\n",
    "    \n",
    "Подробные комментарии по ходу работы\n",
    "    \n",
    "Желтые комментарии-рекомендации на твое усмотрение.\n",
    "    \n",
    "Если есть вопросы ко мне, можешь оставить их в отдельном комментарии\n",
    "</div>"
   ]
  },
  {
   "cell_type": "markdown",
   "metadata": {},
   "source": [
    "<div class=\"alert alert-block alert-success\">\n",
    " \n",
    "\n",
    "### Комментарий от ревьюера v_2\n",
    "    \n",
    "Андрей, привет!\n",
    "    \n",
    "Отлично, все критичные комментарии отработаны!\n",
    "    \n",
    "У тебя получился отличный проект, успеха в дальнейшем обучении!\n",
    "    \n",
    "Если есть желание поглубже познакомиться со статистикой, тервером и аб тестами (при этом глубоко не погружаясь в математические дебри) рекомендую посмотреть цикл лекций Глеба Михайлова (возможно он наставник у тебя)\n",
    "    \n",
    "https://www.youtube.com/playlist?list=PLQJ7ptkRY-xbHLLI66KdscKp_FJt0FsIi\n",
    "    \n",
    "И отличная статья про структуры данных в пандас\n",
    "    \n",
    "http://datalytics.ru/all/uglublennoe-izuchenie-pandas-struktury-dannyh/\n",
    "    \n",
    "\n",
    "</div>"
   ]
  },
  {
   "cell_type": "markdown",
   "metadata": {},
   "source": [
    "<font  size=6>Сборный проект 2\n",
    "    \n",
    "    \n",
    "    Анализ поведения пользователей приложения. \n",
    "    \n",
    "    Проведение А/А/В теста \n",
    "\n"
   ]
  },
  {
   "cell_type": "markdown",
   "metadata": {},
   "source": [
    "К анализу предоставлены записи о действиях пользователей мобильного приложения (логи).\n",
    "\n",
    "Данные содержат записи о типе действия, времени совершения действия, id пользователя.\n",
    "\n",
    "Пользователи также равномерно распределены на три группы с целью проведения теста на влияние изменения шрифтов в приложениии на пользовательское поведение.\n",
    "\n",
    "Наша задача - ознакомиться с данными, построить воронку продаж, оценить потери на каждом этапе, затем проанализировать результаты теста и сделать соответствующие выводы."
   ]
  },
  {
   "cell_type": "markdown",
   "metadata": {},
   "source": [
    "\n",
    "<div class=\"alert alert-block alert-success\">\n",
    "    \n",
    "\n",
    "### Комментарий от ревьюера v_1\n",
    "Отлично\n",
    "    \n",
    "Молодец, что в начале проекте знакомишь с ним, так работа приобретает структуру и лучше воспринимается.\n",
    "    \n",
    "А оглавление из плагина TOC можно перенести, установив галочку \"Add Notebook Toc Cell\"\n",
    "\n",
    "</div>"
   ]
  },
  {
   "cell_type": "markdown",
   "metadata": {},
   "source": [
    "### Обзор и подготовка данных"
   ]
  },
  {
   "cell_type": "code",
   "execution_count": 1,
   "metadata": {},
   "outputs": [],
   "source": [
    "import pandas as pd\n",
    "import numpy as np\n",
    "import matplotlib.pyplot as plt\n",
    "from scipy import stats as st\n",
    "import seaborn as sns\n",
    "from datetime import datetime, timedelta\n",
    "from IPython.display import display_html\n",
    "import math as mth\n",
    "import warnings\n",
    "warnings.simplefilter('ignore')"
   ]
  },
  {
   "cell_type": "code",
   "execution_count": 2,
   "metadata": {},
   "outputs": [],
   "source": [
    "pd.set_option('display.max_columns', 30)\n",
    "pd.set_option(\"display.float_format\", \"{:.2f}\".format)"
   ]
  },
  {
   "cell_type": "markdown",
   "metadata": {},
   "source": [
    "<div class=\"alert alert-block alert-success\">\n",
    "    \n",
    "### Комментарий от ревьюера v_1\n",
    "Отлично\n",
    "    \n",
    "Отлично, библиотеки и параметры в начале тетрадки\n",
    "</div>"
   ]
  },
  {
   "cell_type": "code",
   "execution_count": 3,
   "metadata": {},
   "outputs": [],
   "source": [
    "logs = pd.read_csv('/datasets/logs_exp.csv', sep='\\t')"
   ]
  },
  {
   "cell_type": "code",
   "execution_count": 4,
   "metadata": {},
   "outputs": [
    {
     "data": {
      "text/html": [
       "<div>\n",
       "<style scoped>\n",
       "    .dataframe tbody tr th:only-of-type {\n",
       "        vertical-align: middle;\n",
       "    }\n",
       "\n",
       "    .dataframe tbody tr th {\n",
       "        vertical-align: top;\n",
       "    }\n",
       "\n",
       "    .dataframe thead th {\n",
       "        text-align: right;\n",
       "    }\n",
       "</style>\n",
       "<table border=\"1\" class=\"dataframe\">\n",
       "  <thead>\n",
       "    <tr style=\"text-align: right;\">\n",
       "      <th></th>\n",
       "      <th>EventName</th>\n",
       "      <th>DeviceIDHash</th>\n",
       "      <th>EventTimestamp</th>\n",
       "      <th>ExpId</th>\n",
       "    </tr>\n",
       "  </thead>\n",
       "  <tbody>\n",
       "    <tr>\n",
       "      <th>0</th>\n",
       "      <td>MainScreenAppear</td>\n",
       "      <td>4575588528974610257</td>\n",
       "      <td>1564029816</td>\n",
       "      <td>246</td>\n",
       "    </tr>\n",
       "    <tr>\n",
       "      <th>1</th>\n",
       "      <td>MainScreenAppear</td>\n",
       "      <td>7416695313311560658</td>\n",
       "      <td>1564053102</td>\n",
       "      <td>246</td>\n",
       "    </tr>\n",
       "    <tr>\n",
       "      <th>2</th>\n",
       "      <td>PaymentScreenSuccessful</td>\n",
       "      <td>3518123091307005509</td>\n",
       "      <td>1564054127</td>\n",
       "      <td>248</td>\n",
       "    </tr>\n",
       "    <tr>\n",
       "      <th>3</th>\n",
       "      <td>CartScreenAppear</td>\n",
       "      <td>3518123091307005509</td>\n",
       "      <td>1564054127</td>\n",
       "      <td>248</td>\n",
       "    </tr>\n",
       "    <tr>\n",
       "      <th>4</th>\n",
       "      <td>PaymentScreenSuccessful</td>\n",
       "      <td>6217807653094995999</td>\n",
       "      <td>1564055322</td>\n",
       "      <td>248</td>\n",
       "    </tr>\n",
       "    <tr>\n",
       "      <th>...</th>\n",
       "      <td>...</td>\n",
       "      <td>...</td>\n",
       "      <td>...</td>\n",
       "      <td>...</td>\n",
       "    </tr>\n",
       "    <tr>\n",
       "      <th>244121</th>\n",
       "      <td>MainScreenAppear</td>\n",
       "      <td>4599628364049201812</td>\n",
       "      <td>1565212345</td>\n",
       "      <td>247</td>\n",
       "    </tr>\n",
       "    <tr>\n",
       "      <th>244122</th>\n",
       "      <td>MainScreenAppear</td>\n",
       "      <td>5849806612437486590</td>\n",
       "      <td>1565212439</td>\n",
       "      <td>246</td>\n",
       "    </tr>\n",
       "    <tr>\n",
       "      <th>244123</th>\n",
       "      <td>MainScreenAppear</td>\n",
       "      <td>5746969938801999050</td>\n",
       "      <td>1565212483</td>\n",
       "      <td>246</td>\n",
       "    </tr>\n",
       "    <tr>\n",
       "      <th>244124</th>\n",
       "      <td>MainScreenAppear</td>\n",
       "      <td>5746969938801999050</td>\n",
       "      <td>1565212498</td>\n",
       "      <td>246</td>\n",
       "    </tr>\n",
       "    <tr>\n",
       "      <th>244125</th>\n",
       "      <td>OffersScreenAppear</td>\n",
       "      <td>5746969938801999050</td>\n",
       "      <td>1565212517</td>\n",
       "      <td>246</td>\n",
       "    </tr>\n",
       "  </tbody>\n",
       "</table>\n",
       "<p>244126 rows × 4 columns</p>\n",
       "</div>"
      ],
      "text/plain": [
       "                      EventName         DeviceIDHash  EventTimestamp  ExpId\n",
       "0              MainScreenAppear  4575588528974610257      1564029816    246\n",
       "1              MainScreenAppear  7416695313311560658      1564053102    246\n",
       "2       PaymentScreenSuccessful  3518123091307005509      1564054127    248\n",
       "3              CartScreenAppear  3518123091307005509      1564054127    248\n",
       "4       PaymentScreenSuccessful  6217807653094995999      1564055322    248\n",
       "...                         ...                  ...             ...    ...\n",
       "244121         MainScreenAppear  4599628364049201812      1565212345    247\n",
       "244122         MainScreenAppear  5849806612437486590      1565212439    246\n",
       "244123         MainScreenAppear  5746969938801999050      1565212483    246\n",
       "244124         MainScreenAppear  5746969938801999050      1565212498    246\n",
       "244125       OffersScreenAppear  5746969938801999050      1565212517    246\n",
       "\n",
       "[244126 rows x 4 columns]"
      ]
     },
     "execution_count": 4,
     "metadata": {},
     "output_type": "execute_result"
    }
   ],
   "source": [
    "logs"
   ]
  },
  {
   "cell_type": "code",
   "execution_count": 5,
   "metadata": {},
   "outputs": [
    {
     "name": "stdout",
     "output_type": "stream",
     "text": [
      "<class 'pandas.core.frame.DataFrame'>\n",
      "RangeIndex: 244126 entries, 0 to 244125\n",
      "Data columns (total 4 columns):\n",
      " #   Column          Non-Null Count   Dtype \n",
      "---  ------          --------------   ----- \n",
      " 0   EventName       244126 non-null  object\n",
      " 1   DeviceIDHash    244126 non-null  int64 \n",
      " 2   EventTimestamp  244126 non-null  int64 \n",
      " 3   ExpId           244126 non-null  int64 \n",
      "dtypes: int64(3), object(1)\n",
      "memory usage: 7.5+ MB\n"
     ]
    }
   ],
   "source": [
    "logs.info()"
   ]
  },
  {
   "cell_type": "code",
   "execution_count": 6,
   "metadata": {},
   "outputs": [
    {
     "data": {
      "text/plain": [
       "MainScreenAppear           119205\n",
       "OffersScreenAppear          46825\n",
       "CartScreenAppear            42731\n",
       "PaymentScreenSuccessful     34313\n",
       "Tutorial                     1052\n",
       "Name: EventName, dtype: int64"
      ]
     },
     "execution_count": 6,
     "metadata": {},
     "output_type": "execute_result"
    }
   ],
   "source": [
    "logs['EventName'].value_counts()"
   ]
  },
  {
   "cell_type": "code",
   "execution_count": 7,
   "metadata": {},
   "outputs": [],
   "source": [
    "#logs.describe()"
   ]
  },
  {
   "cell_type": "markdown",
   "metadata": {},
   "source": [
    "Проверим на дубликаты и удалим их, при наличии"
   ]
  },
  {
   "cell_type": "code",
   "execution_count": 8,
   "metadata": {},
   "outputs": [
    {
     "data": {
      "text/plain": [
       "413"
      ]
     },
     "metadata": {},
     "output_type": "display_data"
    }
   ],
   "source": [
    "display(logs.duplicated().sum())"
   ]
  },
  {
   "cell_type": "code",
   "execution_count": 9,
   "metadata": {},
   "outputs": [],
   "source": [
    "logs.drop_duplicates(inplace = True)"
   ]
  },
  {
   "cell_type": "markdown",
   "metadata": {},
   "source": [
    "<div class=\"alert alert-block alert-warning\">\n",
    "    \n",
    "### Комментарий от ревьюера v_1\n",
    "Рекомендация\n",
    "\n",
    "При удалении дубликатов (и вообще при удалении строк из датафрейма) следует обновлять индексы\n",
    "</div>"
   ]
  },
  {
   "cell_type": "code",
   "execution_count": 10,
   "metadata": {},
   "outputs": [],
   "source": [
    "logs.columns=['event_name', 'user_id', 'timestamp', 'group_id']"
   ]
  },
  {
   "cell_type": "markdown",
   "metadata": {},
   "source": [
    "<div class=\"alert alert-block alert-success\">\n",
    "    \n",
    "\n",
    "### Комментарий от ревьюера v_1\n",
    "      \n",
    "Здесь все верно, но рекомендую переименовывать колонки явно, методом rename. Так обезопасишь себя от случайной ошибки\n",
    "    \n",
    "</div>"
   ]
  },
  {
   "cell_type": "code",
   "execution_count": 11,
   "metadata": {},
   "outputs": [
    {
     "data": {
      "text/html": [
       "<div>\n",
       "<style scoped>\n",
       "    .dataframe tbody tr th:only-of-type {\n",
       "        vertical-align: middle;\n",
       "    }\n",
       "\n",
       "    .dataframe tbody tr th {\n",
       "        vertical-align: top;\n",
       "    }\n",
       "\n",
       "    .dataframe thead th {\n",
       "        text-align: right;\n",
       "    }\n",
       "</style>\n",
       "<table border=\"1\" class=\"dataframe\">\n",
       "  <thead>\n",
       "    <tr style=\"text-align: right;\">\n",
       "      <th></th>\n",
       "      <th>event_name</th>\n",
       "      <th>user_id</th>\n",
       "      <th>timestamp</th>\n",
       "      <th>group_id</th>\n",
       "    </tr>\n",
       "  </thead>\n",
       "  <tbody>\n",
       "    <tr>\n",
       "      <th>0</th>\n",
       "      <td>MainScreenAppear</td>\n",
       "      <td>4575588528974610257</td>\n",
       "      <td>1564029816</td>\n",
       "      <td>246</td>\n",
       "    </tr>\n",
       "    <tr>\n",
       "      <th>1</th>\n",
       "      <td>MainScreenAppear</td>\n",
       "      <td>7416695313311560658</td>\n",
       "      <td>1564053102</td>\n",
       "      <td>246</td>\n",
       "    </tr>\n",
       "    <tr>\n",
       "      <th>2</th>\n",
       "      <td>PaymentScreenSuccessful</td>\n",
       "      <td>3518123091307005509</td>\n",
       "      <td>1564054127</td>\n",
       "      <td>248</td>\n",
       "    </tr>\n",
       "    <tr>\n",
       "      <th>3</th>\n",
       "      <td>CartScreenAppear</td>\n",
       "      <td>3518123091307005509</td>\n",
       "      <td>1564054127</td>\n",
       "      <td>248</td>\n",
       "    </tr>\n",
       "    <tr>\n",
       "      <th>4</th>\n",
       "      <td>PaymentScreenSuccessful</td>\n",
       "      <td>6217807653094995999</td>\n",
       "      <td>1564055322</td>\n",
       "      <td>248</td>\n",
       "    </tr>\n",
       "    <tr>\n",
       "      <th>...</th>\n",
       "      <td>...</td>\n",
       "      <td>...</td>\n",
       "      <td>...</td>\n",
       "      <td>...</td>\n",
       "    </tr>\n",
       "    <tr>\n",
       "      <th>244121</th>\n",
       "      <td>MainScreenAppear</td>\n",
       "      <td>4599628364049201812</td>\n",
       "      <td>1565212345</td>\n",
       "      <td>247</td>\n",
       "    </tr>\n",
       "    <tr>\n",
       "      <th>244122</th>\n",
       "      <td>MainScreenAppear</td>\n",
       "      <td>5849806612437486590</td>\n",
       "      <td>1565212439</td>\n",
       "      <td>246</td>\n",
       "    </tr>\n",
       "    <tr>\n",
       "      <th>244123</th>\n",
       "      <td>MainScreenAppear</td>\n",
       "      <td>5746969938801999050</td>\n",
       "      <td>1565212483</td>\n",
       "      <td>246</td>\n",
       "    </tr>\n",
       "    <tr>\n",
       "      <th>244124</th>\n",
       "      <td>MainScreenAppear</td>\n",
       "      <td>5746969938801999050</td>\n",
       "      <td>1565212498</td>\n",
       "      <td>246</td>\n",
       "    </tr>\n",
       "    <tr>\n",
       "      <th>244125</th>\n",
       "      <td>OffersScreenAppear</td>\n",
       "      <td>5746969938801999050</td>\n",
       "      <td>1565212517</td>\n",
       "      <td>246</td>\n",
       "    </tr>\n",
       "  </tbody>\n",
       "</table>\n",
       "<p>243713 rows × 4 columns</p>\n",
       "</div>"
      ],
      "text/plain": [
       "                     event_name              user_id   timestamp  group_id\n",
       "0              MainScreenAppear  4575588528974610257  1564029816       246\n",
       "1              MainScreenAppear  7416695313311560658  1564053102       246\n",
       "2       PaymentScreenSuccessful  3518123091307005509  1564054127       248\n",
       "3              CartScreenAppear  3518123091307005509  1564054127       248\n",
       "4       PaymentScreenSuccessful  6217807653094995999  1564055322       248\n",
       "...                         ...                  ...         ...       ...\n",
       "244121         MainScreenAppear  4599628364049201812  1565212345       247\n",
       "244122         MainScreenAppear  5849806612437486590  1565212439       246\n",
       "244123         MainScreenAppear  5746969938801999050  1565212483       246\n",
       "244124         MainScreenAppear  5746969938801999050  1565212498       246\n",
       "244125       OffersScreenAppear  5746969938801999050  1565212517       246\n",
       "\n",
       "[243713 rows x 4 columns]"
      ]
     },
     "execution_count": 11,
     "metadata": {},
     "output_type": "execute_result"
    }
   ],
   "source": [
    "logs"
   ]
  },
  {
   "cell_type": "markdown",
   "metadata": {},
   "source": [
    "Добавим необходимые столбцы с данными о дате и о времени"
   ]
  },
  {
   "cell_type": "code",
   "execution_count": 12,
   "metadata": {},
   "outputs": [
    {
     "data": {
      "text/html": [
       "<div>\n",
       "<style scoped>\n",
       "    .dataframe tbody tr th:only-of-type {\n",
       "        vertical-align: middle;\n",
       "    }\n",
       "\n",
       "    .dataframe tbody tr th {\n",
       "        vertical-align: top;\n",
       "    }\n",
       "\n",
       "    .dataframe thead th {\n",
       "        text-align: right;\n",
       "    }\n",
       "</style>\n",
       "<table border=\"1\" class=\"dataframe\">\n",
       "  <thead>\n",
       "    <tr style=\"text-align: right;\">\n",
       "      <th></th>\n",
       "      <th>event_name</th>\n",
       "      <th>user_id</th>\n",
       "      <th>timestamp</th>\n",
       "      <th>group_id</th>\n",
       "      <th>datetime</th>\n",
       "    </tr>\n",
       "  </thead>\n",
       "  <tbody>\n",
       "    <tr>\n",
       "      <th>0</th>\n",
       "      <td>MainScreenAppear</td>\n",
       "      <td>4575588528974610257</td>\n",
       "      <td>1564029816</td>\n",
       "      <td>246</td>\n",
       "      <td>2019-07-25 04:43:36</td>\n",
       "    </tr>\n",
       "    <tr>\n",
       "      <th>1</th>\n",
       "      <td>MainScreenAppear</td>\n",
       "      <td>7416695313311560658</td>\n",
       "      <td>1564053102</td>\n",
       "      <td>246</td>\n",
       "      <td>2019-07-25 11:11:42</td>\n",
       "    </tr>\n",
       "    <tr>\n",
       "      <th>2</th>\n",
       "      <td>PaymentScreenSuccessful</td>\n",
       "      <td>3518123091307005509</td>\n",
       "      <td>1564054127</td>\n",
       "      <td>248</td>\n",
       "      <td>2019-07-25 11:28:47</td>\n",
       "    </tr>\n",
       "    <tr>\n",
       "      <th>3</th>\n",
       "      <td>CartScreenAppear</td>\n",
       "      <td>3518123091307005509</td>\n",
       "      <td>1564054127</td>\n",
       "      <td>248</td>\n",
       "      <td>2019-07-25 11:28:47</td>\n",
       "    </tr>\n",
       "    <tr>\n",
       "      <th>4</th>\n",
       "      <td>PaymentScreenSuccessful</td>\n",
       "      <td>6217807653094995999</td>\n",
       "      <td>1564055322</td>\n",
       "      <td>248</td>\n",
       "      <td>2019-07-25 11:48:42</td>\n",
       "    </tr>\n",
       "    <tr>\n",
       "      <th>...</th>\n",
       "      <td>...</td>\n",
       "      <td>...</td>\n",
       "      <td>...</td>\n",
       "      <td>...</td>\n",
       "      <td>...</td>\n",
       "    </tr>\n",
       "    <tr>\n",
       "      <th>244121</th>\n",
       "      <td>MainScreenAppear</td>\n",
       "      <td>4599628364049201812</td>\n",
       "      <td>1565212345</td>\n",
       "      <td>247</td>\n",
       "      <td>2019-08-07 21:12:25</td>\n",
       "    </tr>\n",
       "    <tr>\n",
       "      <th>244122</th>\n",
       "      <td>MainScreenAppear</td>\n",
       "      <td>5849806612437486590</td>\n",
       "      <td>1565212439</td>\n",
       "      <td>246</td>\n",
       "      <td>2019-08-07 21:13:59</td>\n",
       "    </tr>\n",
       "    <tr>\n",
       "      <th>244123</th>\n",
       "      <td>MainScreenAppear</td>\n",
       "      <td>5746969938801999050</td>\n",
       "      <td>1565212483</td>\n",
       "      <td>246</td>\n",
       "      <td>2019-08-07 21:14:43</td>\n",
       "    </tr>\n",
       "    <tr>\n",
       "      <th>244124</th>\n",
       "      <td>MainScreenAppear</td>\n",
       "      <td>5746969938801999050</td>\n",
       "      <td>1565212498</td>\n",
       "      <td>246</td>\n",
       "      <td>2019-08-07 21:14:58</td>\n",
       "    </tr>\n",
       "    <tr>\n",
       "      <th>244125</th>\n",
       "      <td>OffersScreenAppear</td>\n",
       "      <td>5746969938801999050</td>\n",
       "      <td>1565212517</td>\n",
       "      <td>246</td>\n",
       "      <td>2019-08-07 21:15:17</td>\n",
       "    </tr>\n",
       "  </tbody>\n",
       "</table>\n",
       "<p>243713 rows × 5 columns</p>\n",
       "</div>"
      ],
      "text/plain": [
       "                     event_name              user_id   timestamp  group_id  \\\n",
       "0              MainScreenAppear  4575588528974610257  1564029816       246   \n",
       "1              MainScreenAppear  7416695313311560658  1564053102       246   \n",
       "2       PaymentScreenSuccessful  3518123091307005509  1564054127       248   \n",
       "3              CartScreenAppear  3518123091307005509  1564054127       248   \n",
       "4       PaymentScreenSuccessful  6217807653094995999  1564055322       248   \n",
       "...                         ...                  ...         ...       ...   \n",
       "244121         MainScreenAppear  4599628364049201812  1565212345       247   \n",
       "244122         MainScreenAppear  5849806612437486590  1565212439       246   \n",
       "244123         MainScreenAppear  5746969938801999050  1565212483       246   \n",
       "244124         MainScreenAppear  5746969938801999050  1565212498       246   \n",
       "244125       OffersScreenAppear  5746969938801999050  1565212517       246   \n",
       "\n",
       "                  datetime  \n",
       "0      2019-07-25 04:43:36  \n",
       "1      2019-07-25 11:11:42  \n",
       "2      2019-07-25 11:28:47  \n",
       "3      2019-07-25 11:28:47  \n",
       "4      2019-07-25 11:48:42  \n",
       "...                    ...  \n",
       "244121 2019-08-07 21:12:25  \n",
       "244122 2019-08-07 21:13:59  \n",
       "244123 2019-08-07 21:14:43  \n",
       "244124 2019-08-07 21:14:58  \n",
       "244125 2019-08-07 21:15:17  \n",
       "\n",
       "[243713 rows x 5 columns]"
      ]
     },
     "execution_count": 12,
     "metadata": {},
     "output_type": "execute_result"
    }
   ],
   "source": [
    "logs['datetime'] = pd.to_datetime(logs['timestamp'], unit='s')\n",
    "logs"
   ]
  },
  {
   "cell_type": "code",
   "execution_count": 13,
   "metadata": {},
   "outputs": [
    {
     "data": {
      "text/html": [
       "<div>\n",
       "<style scoped>\n",
       "    .dataframe tbody tr th:only-of-type {\n",
       "        vertical-align: middle;\n",
       "    }\n",
       "\n",
       "    .dataframe tbody tr th {\n",
       "        vertical-align: top;\n",
       "    }\n",
       "\n",
       "    .dataframe thead th {\n",
       "        text-align: right;\n",
       "    }\n",
       "</style>\n",
       "<table border=\"1\" class=\"dataframe\">\n",
       "  <thead>\n",
       "    <tr style=\"text-align: right;\">\n",
       "      <th></th>\n",
       "      <th>event_name</th>\n",
       "      <th>user_id</th>\n",
       "      <th>timestamp</th>\n",
       "      <th>group_id</th>\n",
       "      <th>datetime</th>\n",
       "      <th>date</th>\n",
       "    </tr>\n",
       "  </thead>\n",
       "  <tbody>\n",
       "    <tr>\n",
       "      <th>0</th>\n",
       "      <td>MainScreenAppear</td>\n",
       "      <td>4575588528974610257</td>\n",
       "      <td>1564029816</td>\n",
       "      <td>246</td>\n",
       "      <td>2019-07-25 04:43:36</td>\n",
       "      <td>2019-07-25</td>\n",
       "    </tr>\n",
       "    <tr>\n",
       "      <th>1</th>\n",
       "      <td>MainScreenAppear</td>\n",
       "      <td>7416695313311560658</td>\n",
       "      <td>1564053102</td>\n",
       "      <td>246</td>\n",
       "      <td>2019-07-25 11:11:42</td>\n",
       "      <td>2019-07-25</td>\n",
       "    </tr>\n",
       "    <tr>\n",
       "      <th>2</th>\n",
       "      <td>PaymentScreenSuccessful</td>\n",
       "      <td>3518123091307005509</td>\n",
       "      <td>1564054127</td>\n",
       "      <td>248</td>\n",
       "      <td>2019-07-25 11:28:47</td>\n",
       "      <td>2019-07-25</td>\n",
       "    </tr>\n",
       "    <tr>\n",
       "      <th>3</th>\n",
       "      <td>CartScreenAppear</td>\n",
       "      <td>3518123091307005509</td>\n",
       "      <td>1564054127</td>\n",
       "      <td>248</td>\n",
       "      <td>2019-07-25 11:28:47</td>\n",
       "      <td>2019-07-25</td>\n",
       "    </tr>\n",
       "    <tr>\n",
       "      <th>4</th>\n",
       "      <td>PaymentScreenSuccessful</td>\n",
       "      <td>6217807653094995999</td>\n",
       "      <td>1564055322</td>\n",
       "      <td>248</td>\n",
       "      <td>2019-07-25 11:48:42</td>\n",
       "      <td>2019-07-25</td>\n",
       "    </tr>\n",
       "    <tr>\n",
       "      <th>...</th>\n",
       "      <td>...</td>\n",
       "      <td>...</td>\n",
       "      <td>...</td>\n",
       "      <td>...</td>\n",
       "      <td>...</td>\n",
       "      <td>...</td>\n",
       "    </tr>\n",
       "    <tr>\n",
       "      <th>244121</th>\n",
       "      <td>MainScreenAppear</td>\n",
       "      <td>4599628364049201812</td>\n",
       "      <td>1565212345</td>\n",
       "      <td>247</td>\n",
       "      <td>2019-08-07 21:12:25</td>\n",
       "      <td>2019-08-07</td>\n",
       "    </tr>\n",
       "    <tr>\n",
       "      <th>244122</th>\n",
       "      <td>MainScreenAppear</td>\n",
       "      <td>5849806612437486590</td>\n",
       "      <td>1565212439</td>\n",
       "      <td>246</td>\n",
       "      <td>2019-08-07 21:13:59</td>\n",
       "      <td>2019-08-07</td>\n",
       "    </tr>\n",
       "    <tr>\n",
       "      <th>244123</th>\n",
       "      <td>MainScreenAppear</td>\n",
       "      <td>5746969938801999050</td>\n",
       "      <td>1565212483</td>\n",
       "      <td>246</td>\n",
       "      <td>2019-08-07 21:14:43</td>\n",
       "      <td>2019-08-07</td>\n",
       "    </tr>\n",
       "    <tr>\n",
       "      <th>244124</th>\n",
       "      <td>MainScreenAppear</td>\n",
       "      <td>5746969938801999050</td>\n",
       "      <td>1565212498</td>\n",
       "      <td>246</td>\n",
       "      <td>2019-08-07 21:14:58</td>\n",
       "      <td>2019-08-07</td>\n",
       "    </tr>\n",
       "    <tr>\n",
       "      <th>244125</th>\n",
       "      <td>OffersScreenAppear</td>\n",
       "      <td>5746969938801999050</td>\n",
       "      <td>1565212517</td>\n",
       "      <td>246</td>\n",
       "      <td>2019-08-07 21:15:17</td>\n",
       "      <td>2019-08-07</td>\n",
       "    </tr>\n",
       "  </tbody>\n",
       "</table>\n",
       "<p>243713 rows × 6 columns</p>\n",
       "</div>"
      ],
      "text/plain": [
       "                     event_name              user_id   timestamp  group_id  \\\n",
       "0              MainScreenAppear  4575588528974610257  1564029816       246   \n",
       "1              MainScreenAppear  7416695313311560658  1564053102       246   \n",
       "2       PaymentScreenSuccessful  3518123091307005509  1564054127       248   \n",
       "3              CartScreenAppear  3518123091307005509  1564054127       248   \n",
       "4       PaymentScreenSuccessful  6217807653094995999  1564055322       248   \n",
       "...                         ...                  ...         ...       ...   \n",
       "244121         MainScreenAppear  4599628364049201812  1565212345       247   \n",
       "244122         MainScreenAppear  5849806612437486590  1565212439       246   \n",
       "244123         MainScreenAppear  5746969938801999050  1565212483       246   \n",
       "244124         MainScreenAppear  5746969938801999050  1565212498       246   \n",
       "244125       OffersScreenAppear  5746969938801999050  1565212517       246   \n",
       "\n",
       "                  datetime        date  \n",
       "0      2019-07-25 04:43:36  2019-07-25  \n",
       "1      2019-07-25 11:11:42  2019-07-25  \n",
       "2      2019-07-25 11:28:47  2019-07-25  \n",
       "3      2019-07-25 11:28:47  2019-07-25  \n",
       "4      2019-07-25 11:48:42  2019-07-25  \n",
       "...                    ...         ...  \n",
       "244121 2019-08-07 21:12:25  2019-08-07  \n",
       "244122 2019-08-07 21:13:59  2019-08-07  \n",
       "244123 2019-08-07 21:14:43  2019-08-07  \n",
       "244124 2019-08-07 21:14:58  2019-08-07  \n",
       "244125 2019-08-07 21:15:17  2019-08-07  \n",
       "\n",
       "[243713 rows x 6 columns]"
      ]
     },
     "execution_count": 13,
     "metadata": {},
     "output_type": "execute_result"
    }
   ],
   "source": [
    "logs['date'] = logs['datetime'].dt.date\n",
    "logs"
   ]
  },
  {
   "cell_type": "code",
   "execution_count": 14,
   "metadata": {},
   "outputs": [
    {
     "data": {
      "text/html": [
       "<div>\n",
       "<style scoped>\n",
       "    .dataframe tbody tr th:only-of-type {\n",
       "        vertical-align: middle;\n",
       "    }\n",
       "\n",
       "    .dataframe tbody tr th {\n",
       "        vertical-align: top;\n",
       "    }\n",
       "\n",
       "    .dataframe thead th {\n",
       "        text-align: right;\n",
       "    }\n",
       "</style>\n",
       "<table border=\"1\" class=\"dataframe\">\n",
       "  <thead>\n",
       "    <tr style=\"text-align: right;\">\n",
       "      <th></th>\n",
       "      <th>user_id</th>\n",
       "      <th>group_id</th>\n",
       "    </tr>\n",
       "  </thead>\n",
       "  <tbody>\n",
       "  </tbody>\n",
       "</table>\n",
       "</div>"
      ],
      "text/plain": [
       "Empty DataFrame\n",
       "Columns: [user_id, group_id]\n",
       "Index: []"
      ]
     },
     "execution_count": 14,
     "metadata": {},
     "output_type": "execute_result"
    }
   ],
   "source": [
    "logs.groupby('user_id')['group_id'].nunique().reset_index().query('group_id > 1')"
   ]
  },
  {
   "cell_type": "markdown",
   "metadata": {},
   "source": [
    "<div class=\"alert alert-block alert-success\">\n",
    "\n",
    "    \n",
    "### Комментарий от ревьюера v_1\n",
    "\n",
    "👍🏻\n",
    "    \n",
    "</div>"
   ]
  },
  {
   "cell_type": "markdown",
   "metadata": {},
   "source": [
    "Нет пользователей, попадающих более, чем в одну группу"
   ]
  },
  {
   "cell_type": "code",
   "execution_count": 15,
   "metadata": {},
   "outputs": [
    {
     "data": {
      "text/plain": [
       "248    85582\n",
       "246    80181\n",
       "247    77950\n",
       "Name: group_id, dtype: int64"
      ]
     },
     "execution_count": 15,
     "metadata": {},
     "output_type": "execute_result"
    }
   ],
   "source": [
    "logs['group_id'].value_counts()"
   ]
  },
  {
   "cell_type": "markdown",
   "metadata": {},
   "source": [
    "Переименуем группы"
   ]
  },
  {
   "cell_type": "code",
   "execution_count": 16,
   "metadata": {},
   "outputs": [
    {
     "data": {
      "text/html": [
       "<div>\n",
       "<style scoped>\n",
       "    .dataframe tbody tr th:only-of-type {\n",
       "        vertical-align: middle;\n",
       "    }\n",
       "\n",
       "    .dataframe tbody tr th {\n",
       "        vertical-align: top;\n",
       "    }\n",
       "\n",
       "    .dataframe thead th {\n",
       "        text-align: right;\n",
       "    }\n",
       "</style>\n",
       "<table border=\"1\" class=\"dataframe\">\n",
       "  <thead>\n",
       "    <tr style=\"text-align: right;\">\n",
       "      <th></th>\n",
       "      <th>event_name</th>\n",
       "      <th>user_id</th>\n",
       "      <th>timestamp</th>\n",
       "      <th>group_id</th>\n",
       "      <th>datetime</th>\n",
       "      <th>date</th>\n",
       "    </tr>\n",
       "  </thead>\n",
       "  <tbody>\n",
       "    <tr>\n",
       "      <th>0</th>\n",
       "      <td>MainScreenAppear</td>\n",
       "      <td>4575588528974610257</td>\n",
       "      <td>1564029816</td>\n",
       "      <td>A</td>\n",
       "      <td>2019-07-25 04:43:36</td>\n",
       "      <td>2019-07-25</td>\n",
       "    </tr>\n",
       "    <tr>\n",
       "      <th>1</th>\n",
       "      <td>MainScreenAppear</td>\n",
       "      <td>7416695313311560658</td>\n",
       "      <td>1564053102</td>\n",
       "      <td>A</td>\n",
       "      <td>2019-07-25 11:11:42</td>\n",
       "      <td>2019-07-25</td>\n",
       "    </tr>\n",
       "    <tr>\n",
       "      <th>2</th>\n",
       "      <td>PaymentScreenSuccessful</td>\n",
       "      <td>3518123091307005509</td>\n",
       "      <td>1564054127</td>\n",
       "      <td>B</td>\n",
       "      <td>2019-07-25 11:28:47</td>\n",
       "      <td>2019-07-25</td>\n",
       "    </tr>\n",
       "    <tr>\n",
       "      <th>3</th>\n",
       "      <td>CartScreenAppear</td>\n",
       "      <td>3518123091307005509</td>\n",
       "      <td>1564054127</td>\n",
       "      <td>B</td>\n",
       "      <td>2019-07-25 11:28:47</td>\n",
       "      <td>2019-07-25</td>\n",
       "    </tr>\n",
       "    <tr>\n",
       "      <th>4</th>\n",
       "      <td>PaymentScreenSuccessful</td>\n",
       "      <td>6217807653094995999</td>\n",
       "      <td>1564055322</td>\n",
       "      <td>B</td>\n",
       "      <td>2019-07-25 11:48:42</td>\n",
       "      <td>2019-07-25</td>\n",
       "    </tr>\n",
       "    <tr>\n",
       "      <th>...</th>\n",
       "      <td>...</td>\n",
       "      <td>...</td>\n",
       "      <td>...</td>\n",
       "      <td>...</td>\n",
       "      <td>...</td>\n",
       "      <td>...</td>\n",
       "    </tr>\n",
       "    <tr>\n",
       "      <th>244121</th>\n",
       "      <td>MainScreenAppear</td>\n",
       "      <td>4599628364049201812</td>\n",
       "      <td>1565212345</td>\n",
       "      <td>AA</td>\n",
       "      <td>2019-08-07 21:12:25</td>\n",
       "      <td>2019-08-07</td>\n",
       "    </tr>\n",
       "    <tr>\n",
       "      <th>244122</th>\n",
       "      <td>MainScreenAppear</td>\n",
       "      <td>5849806612437486590</td>\n",
       "      <td>1565212439</td>\n",
       "      <td>A</td>\n",
       "      <td>2019-08-07 21:13:59</td>\n",
       "      <td>2019-08-07</td>\n",
       "    </tr>\n",
       "    <tr>\n",
       "      <th>244123</th>\n",
       "      <td>MainScreenAppear</td>\n",
       "      <td>5746969938801999050</td>\n",
       "      <td>1565212483</td>\n",
       "      <td>A</td>\n",
       "      <td>2019-08-07 21:14:43</td>\n",
       "      <td>2019-08-07</td>\n",
       "    </tr>\n",
       "    <tr>\n",
       "      <th>244124</th>\n",
       "      <td>MainScreenAppear</td>\n",
       "      <td>5746969938801999050</td>\n",
       "      <td>1565212498</td>\n",
       "      <td>A</td>\n",
       "      <td>2019-08-07 21:14:58</td>\n",
       "      <td>2019-08-07</td>\n",
       "    </tr>\n",
       "    <tr>\n",
       "      <th>244125</th>\n",
       "      <td>OffersScreenAppear</td>\n",
       "      <td>5746969938801999050</td>\n",
       "      <td>1565212517</td>\n",
       "      <td>A</td>\n",
       "      <td>2019-08-07 21:15:17</td>\n",
       "      <td>2019-08-07</td>\n",
       "    </tr>\n",
       "  </tbody>\n",
       "</table>\n",
       "<p>243713 rows × 6 columns</p>\n",
       "</div>"
      ],
      "text/plain": [
       "                     event_name              user_id   timestamp group_id  \\\n",
       "0              MainScreenAppear  4575588528974610257  1564029816        A   \n",
       "1              MainScreenAppear  7416695313311560658  1564053102        A   \n",
       "2       PaymentScreenSuccessful  3518123091307005509  1564054127        B   \n",
       "3              CartScreenAppear  3518123091307005509  1564054127        B   \n",
       "4       PaymentScreenSuccessful  6217807653094995999  1564055322        B   \n",
       "...                         ...                  ...         ...      ...   \n",
       "244121         MainScreenAppear  4599628364049201812  1565212345       AA   \n",
       "244122         MainScreenAppear  5849806612437486590  1565212439        A   \n",
       "244123         MainScreenAppear  5746969938801999050  1565212483        A   \n",
       "244124         MainScreenAppear  5746969938801999050  1565212498        A   \n",
       "244125       OffersScreenAppear  5746969938801999050  1565212517        A   \n",
       "\n",
       "                  datetime        date  \n",
       "0      2019-07-25 04:43:36  2019-07-25  \n",
       "1      2019-07-25 11:11:42  2019-07-25  \n",
       "2      2019-07-25 11:28:47  2019-07-25  \n",
       "3      2019-07-25 11:28:47  2019-07-25  \n",
       "4      2019-07-25 11:48:42  2019-07-25  \n",
       "...                    ...         ...  \n",
       "244121 2019-08-07 21:12:25  2019-08-07  \n",
       "244122 2019-08-07 21:13:59  2019-08-07  \n",
       "244123 2019-08-07 21:14:43  2019-08-07  \n",
       "244124 2019-08-07 21:14:58  2019-08-07  \n",
       "244125 2019-08-07 21:15:17  2019-08-07  \n",
       "\n",
       "[243713 rows x 6 columns]"
      ]
     },
     "execution_count": 16,
     "metadata": {},
     "output_type": "execute_result"
    }
   ],
   "source": [
    "def define_group(group):\n",
    "    if group==246:\n",
    "        return 'A'\n",
    "    elif group==247:\n",
    "        return 'AA'\n",
    "    elif group==248:\n",
    "        return 'B'\n",
    "\n",
    "logs['group_id'] = logs['group_id'].apply(define_group)\n",
    "logs"
   ]
  },
  {
   "cell_type": "code",
   "execution_count": 17,
   "metadata": {},
   "outputs": [
    {
     "data": {
      "text/plain": [
       "B     85582\n",
       "A     80181\n",
       "AA    77950\n",
       "Name: group_id, dtype: int64"
      ]
     },
     "execution_count": 17,
     "metadata": {},
     "output_type": "execute_result"
    }
   ],
   "source": [
    "logs['group_id'].value_counts()"
   ]
  },
  {
   "cell_type": "code",
   "execution_count": 18,
   "metadata": {},
   "outputs": [
    {
     "name": "stdout",
     "output_type": "stream",
     "text": [
      "<class 'pandas.core.frame.DataFrame'>\n",
      "Int64Index: 243713 entries, 0 to 244125\n",
      "Data columns (total 6 columns):\n",
      " #   Column      Non-Null Count   Dtype         \n",
      "---  ------      --------------   -----         \n",
      " 0   event_name  243713 non-null  object        \n",
      " 1   user_id     243713 non-null  int64         \n",
      " 2   timestamp   243713 non-null  int64         \n",
      " 3   group_id    243713 non-null  object        \n",
      " 4   datetime    243713 non-null  datetime64[ns]\n",
      " 5   date        243713 non-null  object        \n",
      "dtypes: datetime64[ns](1), int64(2), object(3)\n",
      "memory usage: 13.0+ MB\n"
     ]
    }
   ],
   "source": [
    "logs.info()"
   ]
  },
  {
   "cell_type": "code",
   "execution_count": 19,
   "metadata": {},
   "outputs": [
    {
     "name": "stdout",
     "output_type": "stream",
     "text": [
      "<class 'pandas.core.frame.DataFrame'>\n",
      "Int64Index: 243713 entries, 0 to 244125\n",
      "Data columns (total 6 columns):\n",
      " #   Column      Non-Null Count   Dtype         \n",
      "---  ------      --------------   -----         \n",
      " 0   event_name  243713 non-null  object        \n",
      " 1   user_id     243713 non-null  int64         \n",
      " 2   timestamp   243713 non-null  int64         \n",
      " 3   group_id    243713 non-null  object        \n",
      " 4   datetime    243713 non-null  datetime64[ns]\n",
      " 5   date        243713 non-null  datetime64[ns]\n",
      "dtypes: datetime64[ns](2), int64(2), object(2)\n",
      "memory usage: 13.0+ MB\n"
     ]
    }
   ],
   "source": [
    "logs['date'] = logs['date'].astype('datetime64')\n",
    "logs.info()"
   ]
  },
  {
   "cell_type": "code",
   "execution_count": 20,
   "metadata": {},
   "outputs": [
    {
     "data": {
      "text/html": [
       "<div>\n",
       "<style scoped>\n",
       "    .dataframe tbody tr th:only-of-type {\n",
       "        vertical-align: middle;\n",
       "    }\n",
       "\n",
       "    .dataframe tbody tr th {\n",
       "        vertical-align: top;\n",
       "    }\n",
       "\n",
       "    .dataframe thead th {\n",
       "        text-align: right;\n",
       "    }\n",
       "</style>\n",
       "<table border=\"1\" class=\"dataframe\">\n",
       "  <thead>\n",
       "    <tr style=\"text-align: right;\">\n",
       "      <th></th>\n",
       "      <th>event_name</th>\n",
       "      <th>user_id</th>\n",
       "      <th>timestamp</th>\n",
       "      <th>group_id</th>\n",
       "      <th>datetime</th>\n",
       "      <th>date</th>\n",
       "    </tr>\n",
       "  </thead>\n",
       "  <tbody>\n",
       "    <tr>\n",
       "      <th>0</th>\n",
       "      <td>MainScreenAppear</td>\n",
       "      <td>4575588528974610257</td>\n",
       "      <td>1564029816</td>\n",
       "      <td>A</td>\n",
       "      <td>2019-07-25 04:43:36</td>\n",
       "      <td>2019-07-25</td>\n",
       "    </tr>\n",
       "    <tr>\n",
       "      <th>1</th>\n",
       "      <td>MainScreenAppear</td>\n",
       "      <td>7416695313311560658</td>\n",
       "      <td>1564053102</td>\n",
       "      <td>A</td>\n",
       "      <td>2019-07-25 11:11:42</td>\n",
       "      <td>2019-07-25</td>\n",
       "    </tr>\n",
       "    <tr>\n",
       "      <th>2</th>\n",
       "      <td>PaymentScreenSuccessful</td>\n",
       "      <td>3518123091307005509</td>\n",
       "      <td>1564054127</td>\n",
       "      <td>B</td>\n",
       "      <td>2019-07-25 11:28:47</td>\n",
       "      <td>2019-07-25</td>\n",
       "    </tr>\n",
       "    <tr>\n",
       "      <th>3</th>\n",
       "      <td>CartScreenAppear</td>\n",
       "      <td>3518123091307005509</td>\n",
       "      <td>1564054127</td>\n",
       "      <td>B</td>\n",
       "      <td>2019-07-25 11:28:47</td>\n",
       "      <td>2019-07-25</td>\n",
       "    </tr>\n",
       "    <tr>\n",
       "      <th>4</th>\n",
       "      <td>PaymentScreenSuccessful</td>\n",
       "      <td>6217807653094995999</td>\n",
       "      <td>1564055322</td>\n",
       "      <td>B</td>\n",
       "      <td>2019-07-25 11:48:42</td>\n",
       "      <td>2019-07-25</td>\n",
       "    </tr>\n",
       "    <tr>\n",
       "      <th>...</th>\n",
       "      <td>...</td>\n",
       "      <td>...</td>\n",
       "      <td>...</td>\n",
       "      <td>...</td>\n",
       "      <td>...</td>\n",
       "      <td>...</td>\n",
       "    </tr>\n",
       "    <tr>\n",
       "      <th>244121</th>\n",
       "      <td>MainScreenAppear</td>\n",
       "      <td>4599628364049201812</td>\n",
       "      <td>1565212345</td>\n",
       "      <td>AA</td>\n",
       "      <td>2019-08-07 21:12:25</td>\n",
       "      <td>2019-08-07</td>\n",
       "    </tr>\n",
       "    <tr>\n",
       "      <th>244122</th>\n",
       "      <td>MainScreenAppear</td>\n",
       "      <td>5849806612437486590</td>\n",
       "      <td>1565212439</td>\n",
       "      <td>A</td>\n",
       "      <td>2019-08-07 21:13:59</td>\n",
       "      <td>2019-08-07</td>\n",
       "    </tr>\n",
       "    <tr>\n",
       "      <th>244123</th>\n",
       "      <td>MainScreenAppear</td>\n",
       "      <td>5746969938801999050</td>\n",
       "      <td>1565212483</td>\n",
       "      <td>A</td>\n",
       "      <td>2019-08-07 21:14:43</td>\n",
       "      <td>2019-08-07</td>\n",
       "    </tr>\n",
       "    <tr>\n",
       "      <th>244124</th>\n",
       "      <td>MainScreenAppear</td>\n",
       "      <td>5746969938801999050</td>\n",
       "      <td>1565212498</td>\n",
       "      <td>A</td>\n",
       "      <td>2019-08-07 21:14:58</td>\n",
       "      <td>2019-08-07</td>\n",
       "    </tr>\n",
       "    <tr>\n",
       "      <th>244125</th>\n",
       "      <td>OffersScreenAppear</td>\n",
       "      <td>5746969938801999050</td>\n",
       "      <td>1565212517</td>\n",
       "      <td>A</td>\n",
       "      <td>2019-08-07 21:15:17</td>\n",
       "      <td>2019-08-07</td>\n",
       "    </tr>\n",
       "  </tbody>\n",
       "</table>\n",
       "<p>243713 rows × 6 columns</p>\n",
       "</div>"
      ],
      "text/plain": [
       "                     event_name              user_id   timestamp group_id  \\\n",
       "0              MainScreenAppear  4575588528974610257  1564029816        A   \n",
       "1              MainScreenAppear  7416695313311560658  1564053102        A   \n",
       "2       PaymentScreenSuccessful  3518123091307005509  1564054127        B   \n",
       "3              CartScreenAppear  3518123091307005509  1564054127        B   \n",
       "4       PaymentScreenSuccessful  6217807653094995999  1564055322        B   \n",
       "...                         ...                  ...         ...      ...   \n",
       "244121         MainScreenAppear  4599628364049201812  1565212345       AA   \n",
       "244122         MainScreenAppear  5849806612437486590  1565212439        A   \n",
       "244123         MainScreenAppear  5746969938801999050  1565212483        A   \n",
       "244124         MainScreenAppear  5746969938801999050  1565212498        A   \n",
       "244125       OffersScreenAppear  5746969938801999050  1565212517        A   \n",
       "\n",
       "                  datetime       date  \n",
       "0      2019-07-25 04:43:36 2019-07-25  \n",
       "1      2019-07-25 11:11:42 2019-07-25  \n",
       "2      2019-07-25 11:28:47 2019-07-25  \n",
       "3      2019-07-25 11:28:47 2019-07-25  \n",
       "4      2019-07-25 11:48:42 2019-07-25  \n",
       "...                    ...        ...  \n",
       "244121 2019-08-07 21:12:25 2019-08-07  \n",
       "244122 2019-08-07 21:13:59 2019-08-07  \n",
       "244123 2019-08-07 21:14:43 2019-08-07  \n",
       "244124 2019-08-07 21:14:58 2019-08-07  \n",
       "244125 2019-08-07 21:15:17 2019-08-07  \n",
       "\n",
       "[243713 rows x 6 columns]"
      ]
     },
     "execution_count": 20,
     "metadata": {},
     "output_type": "execute_result"
    }
   ],
   "source": [
    "logs"
   ]
  },
  {
   "cell_type": "markdown",
   "metadata": {},
   "source": [
    "Данные готовы к анализу"
   ]
  },
  {
   "cell_type": "markdown",
   "metadata": {},
   "source": [
    "<div class=\"alert alert-block alert-success\">\n",
    "    \n",
    "\n",
    "### Комментарий от ревьюера v_1\n",
    "Отлично\n",
    "\n",
    "С подготовкой все ОК, но рекомендую завернуть базовые проверки в функцию и использовать ее и в следующих проектах, и в целом при дальнейшей работы с данными\n",
    " \n",
    "</div>"
   ]
  },
  {
   "cell_type": "markdown",
   "metadata": {},
   "source": [
    "### Анализ данных"
   ]
  },
  {
   "cell_type": "markdown",
   "metadata": {},
   "source": [
    "#### Анализ пользователей"
   ]
  },
  {
   "cell_type": "markdown",
   "metadata": {},
   "source": [
    "После удаления дубликатов в логе 243713 событий - это видно из вывода предыдущей таблицы."
   ]
  },
  {
   "cell_type": "markdown",
   "metadata": {},
   "source": [
    "Определим общее количесвто пользователей и распеределение пользователей по группам."
   ]
  },
  {
   "cell_type": "code",
   "execution_count": 21,
   "metadata": {},
   "outputs": [
    {
     "data": {
      "text/plain": [
       "7551"
      ]
     },
     "execution_count": 21,
     "metadata": {},
     "output_type": "execute_result"
    }
   ],
   "source": [
    "logs['user_id'].nunique()"
   ]
  },
  {
   "cell_type": "code",
   "execution_count": 22,
   "metadata": {},
   "outputs": [
    {
     "data": {
      "text/plain": [
       "group_id\n",
       "A     2489\n",
       "AA    2520\n",
       "B     2542\n",
       "Name: user_id, dtype: int64"
      ]
     },
     "execution_count": 22,
     "metadata": {},
     "output_type": "execute_result"
    }
   ],
   "source": [
    "logs.groupby('group_id')['user_id'].nunique()"
   ]
  },
  {
   "cell_type": "markdown",
   "metadata": {},
   "source": [
    "Всего 7551 пользователь, которые равномерно распределены по группам"
   ]
  },
  {
   "cell_type": "markdown",
   "metadata": {},
   "source": [
    "Определим, сколько в среднем событий приходится на одного пользователя. Посчитаем среднее значение и медиану по количеству событий."
   ]
  },
  {
   "cell_type": "code",
   "execution_count": 23,
   "metadata": {},
   "outputs": [
    {
     "data": {
      "text/plain": [
       "32.27559263673685"
      ]
     },
     "metadata": {},
     "output_type": "display_data"
    },
    {
     "data": {
      "text/plain": [
       "20.0"
      ]
     },
     "metadata": {},
     "output_type": "display_data"
    }
   ],
   "source": [
    "display(logs.groupby('user_id')['event_name'].count().mean())\n",
    "display(logs.groupby('user_id')['event_name'].count().median())"
   ]
  },
  {
   "cell_type": "code",
   "execution_count": 24,
   "metadata": {},
   "outputs": [
    {
     "data": {
      "image/png": "[encoded data removed]",
      "text/plain": [
       "<Figure size 864x144 with 1 Axes>"
      ]
     },
     "metadata": {
      "needs_background": "light"
     },
     "output_type": "display_data"
    }
   ],
   "source": [
    "plt.figure(figsize=(12, 2))\n",
    "sns.boxplot(logs.groupby('user_id')['event_name'].count(),  showfliers=False )\n",
    "plt.title('Разброс значений количества событий на одного пользователя')\n",
    "plt.show()"
   ]
  },
  {
   "cell_type": "code",
   "execution_count": 25,
   "metadata": {},
   "outputs": [
    {
     "data": {
      "text/plain": [
       "count   7551.00\n",
       "mean      32.28\n",
       "std       65.15\n",
       "min        1.00\n",
       "25%        9.00\n",
       "50%       20.00\n",
       "75%       37.00\n",
       "max     2307.00\n",
       "Name: event_name, dtype: float64"
      ]
     },
     "execution_count": 25,
     "metadata": {},
     "output_type": "execute_result"
    }
   ],
   "source": [
    "logs.groupby('user_id')['event_name'].count().describe()"
   ]
  },
  {
   "cell_type": "markdown",
   "metadata": {},
   "source": [
    "Мы выяснили, что на среднего пользователя в логах приходится примерно от 10 до 40 записей, хотя есть и значительные выбросы - например на одного из пользователей приходится 2307 событый."
   ]
  },
  {
   "cell_type": "markdown",
   "metadata": {},
   "source": [
    "<div class=\"alert alert-block alert-success\">\n",
    "    \n",
    "\n",
    "### Комментарий от ревьюера v_1\n",
    "Отлично\n",
    "    \n",
    "Отличный шаг, здорово, что используешь визуализации 👍\n",
    "    \n",
    "При таком распределении медиана лучше его характеризует\n",
    "</div>"
   ]
  },
  {
   "cell_type": "markdown",
   "metadata": {},
   "source": [
    "#### Анализ событый по времени"
   ]
  },
  {
   "cell_type": "markdown",
   "metadata": {},
   "source": [
    "Определим временные рамки событий, записанных в логах"
   ]
  },
  {
   "cell_type": "code",
   "execution_count": 26,
   "metadata": {},
   "outputs": [
    {
     "data": {
      "text/plain": [
       "Timestamp('2019-07-25 04:43:36')"
      ]
     },
     "metadata": {},
     "output_type": "display_data"
    },
    {
     "data": {
      "text/plain": [
       "Timestamp('2019-08-07 21:15:17')"
      ]
     },
     "metadata": {},
     "output_type": "display_data"
    }
   ],
   "source": [
    "display(logs['datetime'].min())\n",
    "display(logs['datetime'].max())"
   ]
  },
  {
   "cell_type": "markdown",
   "metadata": {},
   "source": [
    "Логи содержат события за две недели. Построим гистограмму для распределения событий по дня, разложив события по 14 корзинам (по числу дней)."
   ]
  },
  {
   "cell_type": "code",
   "execution_count": 27,
   "metadata": {},
   "outputs": [
    {
     "data": {
      "image/png": "[encoded data removed]",
      "text/plain": [
       "<Figure size 1296x360 with 1 Axes>"
      ]
     },
     "metadata": {
      "needs_background": "light"
     },
     "output_type": "display_data"
    }
   ],
   "source": [
    "logs['datetime'].hist(bins=14, figsize=(18,5))\n",
    "plt.title('Распределение событий по дням')\n",
    "plt.show()"
   ]
  },
  {
   "cell_type": "markdown",
   "metadata": {},
   "source": [
    "<div class=\"alert alert-block alert-warning\">\n",
    "    \n",
    "### Комментарий от ревьюера v_1\n",
    "Рекомендация\n",
    "    \n",
    "На этой гистаграмме тоже стоит детальнее посмотреть на данные, как ты делаешь ниже\n",
    "</div>"
   ]
  },
  {
   "cell_type": "markdown",
   "metadata": {},
   "source": [
    "<div class=\"alert alert-block alert-info\">\n",
    "\n",
    "### Комментарий студента:\n",
    "Добавлю гистограмму с разбивкой по часам на весь период. Число корзин ставлю 168х2 = 336.\n",
    "</div>\n"
   ]
  },
  {
   "cell_type": "markdown",
   "metadata": {},
   "source": [
    "<div class=\"alert alert-block alert-success\">\n",
    "\n",
    "    \n",
    "### Комментарий от ревьюера v_2\n",
    "\n",
    "👍🏻\n",
    "    \n",
    "</div>"
   ]
  },
  {
   "cell_type": "code",
   "execution_count": 28,
   "metadata": {},
   "outputs": [
    {
     "data": {
      "image/png": "[encoded data removed]",
      "text/plain": [
       "<Figure size 1296x360 with 1 Axes>"
      ]
     },
     "metadata": {
      "needs_background": "light"
     },
     "output_type": "display_data"
    }
   ],
   "source": [
    "logs['datetime'].hist(bins=336, figsize=(18,5))\n",
    "plt.title('Распределение событий по дням')\n",
    "plt.show()"
   ]
  },
  {
   "cell_type": "code",
   "execution_count": 29,
   "metadata": {},
   "outputs": [],
   "source": [
    "logs = logs.loc[logs['date'] > '2019-07-31']"
   ]
  },
  {
   "cell_type": "markdown",
   "metadata": {},
   "source": [
    "Посмотрим на распределение оставшегося промежутка. Построим гистограмму из 168 корзин, по количеству часов в 7 сутках."
   ]
  },
  {
   "cell_type": "code",
   "execution_count": 30,
   "metadata": {},
   "outputs": [
    {
     "data": {
      "image/png": "[encoded data removed]",
      "text/plain": [
       "<Figure size 1296x360 with 1 Axes>"
      ]
     },
     "metadata": {
      "needs_background": "light"
     },
     "output_type": "display_data"
    }
   ],
   "source": [
    "logs['datetime'].hist(bins=168, figsize=(18,5))\n",
    "plt.title('Распределение событий во времени')\n",
    "plt.show()"
   ]
  },
  {
   "cell_type": "markdown",
   "metadata": {},
   "source": [
    "На гистограмме заметны естественные периоды активности пользователей, которые совпадают с соответствующим временем суток.\n",
    "\n",
    "Проверим отсеянные данные."
   ]
  },
  {
   "cell_type": "code",
   "execution_count": 31,
   "metadata": {},
   "outputs": [
    {
     "data": {
      "text/plain": [
       "'Количество записей о пользователях после фильтрации'"
      ]
     },
     "metadata": {},
     "output_type": "display_data"
    },
    {
     "data": {
      "text/plain": [
       "7534"
      ]
     },
     "metadata": {},
     "output_type": "display_data"
    },
    {
     "data": {
      "text/plain": [
       "'Событий после фильтрации'"
      ]
     },
     "metadata": {},
     "output_type": "display_data"
    },
    {
     "data": {
      "text/plain": [
       "240887"
      ]
     },
     "metadata": {},
     "output_type": "display_data"
    },
    {
     "data": {
      "text/plain": [
       "'Доля отфильтрованных пользователей'"
      ]
     },
     "metadata": {},
     "output_type": "display_data"
    },
    {
     "data": {
      "text/plain": [
       "0.0022513574361011646"
      ]
     },
     "metadata": {},
     "output_type": "display_data"
    },
    {
     "data": {
      "text/plain": [
       "'Доля отфильтрованных событий'"
      ]
     },
     "metadata": {},
     "output_type": "display_data"
    },
    {
     "data": {
      "text/plain": [
       "0.01159560630741896"
      ]
     },
     "metadata": {},
     "output_type": "display_data"
    }
   ],
   "source": [
    "#Ставлю вручную количество событий и пользователей из логов, так как уже перезаписал переменную\n",
    "display (\"Количество записей о пользователях после фильтрации\", logs['user_id'].nunique(),\n",
    "         \"Событий после фильтрации\", logs['event_name'].count())\n",
    "display(\"Доля отфильтрованных пользователей\", 1 - (logs['user_id'].nunique()/7551),\n",
    "       \"Доля отфильтрованных событий\", 1 - (logs['event_name'].count()/243713))"
   ]
  },
  {
   "cell_type": "markdown",
   "metadata": {},
   "source": [
    "Отсеяно 17 пользователей, и 2826 событий, что составляет меньше одного процента от всех пользователей и 1.16% от количества событий."
   ]
  },
  {
   "cell_type": "markdown",
   "metadata": {},
   "source": [
    "<div class=\"alert alert-block alert-success\">\n",
    "    \n",
    "\n",
    "### Комментарий от ревьюера v_1\n",
    "Отлично\n",
    "    \n",
    "Здорово, что считаешь потери по пользователям и событиям в относительных показателях\n",
    "    \n",
    "А для форматирования удобно использовать f-строки\n",
    "    \n",
    "https://www.youtube.com/watch?v=QlkQNWQUCLc&list=PLQAt0m1f9OHvv2wxPGSCWjgy1qER_FvB6&index=14\n",
    "</div>"
   ]
  },
  {
   "cell_type": "markdown",
   "metadata": {},
   "source": [
    "Проверим, остались ли после фильтрации пользователи всех групп, как сказано в задании."
   ]
  },
  {
   "cell_type": "code",
   "execution_count": 32,
   "metadata": {},
   "outputs": [
    {
     "data": {
      "text/plain": [
       "group_id\n",
       "A     2484\n",
       "AA    2513\n",
       "B     2537\n",
       "Name: user_id, dtype: int64"
      ]
     },
     "execution_count": 32,
     "metadata": {},
     "output_type": "execute_result"
    }
   ],
   "source": [
    "logs.groupby('group_id')['user_id'].nunique()"
   ]
  },
  {
   "cell_type": "markdown",
   "metadata": {},
   "source": [
    "Все в порядке, как и ожидалось. Удаление 17 пользователей никак не повлияло на распределение пользователей по группам."
   ]
  },
  {
   "cell_type": "markdown",
   "metadata": {},
   "source": [
    "<div class=\"alert alert-block alert-success\">\n",
    "\n",
    "    \n",
    "### Комментарий от ревьюера v_1\n",
    "\n",
    "👍🏻\n",
    "     \n",
    "</div>"
   ]
  },
  {
   "cell_type": "markdown",
   "metadata": {},
   "source": [
    "### Анализ воронки событий"
   ]
  },
  {
   "cell_type": "markdown",
   "metadata": {},
   "source": [
    "#### Количественный анализ событий и пользователей"
   ]
  },
  {
   "cell_type": "code",
   "execution_count": 33,
   "metadata": {},
   "outputs": [
    {
     "data": {
      "text/plain": [
       "MainScreenAppear           117328\n",
       "OffersScreenAppear          46333\n",
       "CartScreenAppear            42303\n",
       "PaymentScreenSuccessful     33918\n",
       "Tutorial                     1005\n",
       "Name: event_name, dtype: int64"
      ]
     },
     "execution_count": 33,
     "metadata": {},
     "output_type": "execute_result"
    }
   ],
   "source": [
    "logs['event_name'].value_counts()"
   ]
  },
  {
   "cell_type": "code",
   "execution_count": 34,
   "metadata": {},
   "outputs": [
    {
     "data": {
      "text/plain": [
       "event_name\n",
       "MainScreenAppear           117328\n",
       "OffersScreenAppear          46333\n",
       "CartScreenAppear            42303\n",
       "PaymentScreenSuccessful     33918\n",
       "Tutorial                     1005\n",
       "Name: user_id, dtype: int64"
      ]
     },
     "execution_count": 34,
     "metadata": {},
     "output_type": "execute_result"
    }
   ],
   "source": [
    "events_count = logs.groupby('event_name')['user_id'].count().sort_values(ascending = False)\n",
    "events_count"
   ]
  },
  {
   "cell_type": "markdown",
   "metadata": {},
   "source": [
    "<div class=\"alert alert-block alert-warning\">\n",
    "    \n",
    "### Комментарий от ревьюера v_1\n",
    "Рекомендация\n",
    "    \n",
    "Не стоит дублировать информацию\n",
    "</div>"
   ]
  },
  {
   "cell_type": "code",
   "execution_count": 35,
   "metadata": {},
   "outputs": [
    {
     "data": {
      "text/html": [
       "<div>\n",
       "<style scoped>\n",
       "    .dataframe tbody tr th:only-of-type {\n",
       "        vertical-align: middle;\n",
       "    }\n",
       "\n",
       "    .dataframe tbody tr th {\n",
       "        vertical-align: top;\n",
       "    }\n",
       "\n",
       "    .dataframe thead th {\n",
       "        text-align: right;\n",
       "    }\n",
       "</style>\n",
       "<table border=\"1\" class=\"dataframe\">\n",
       "  <thead>\n",
       "    <tr style=\"text-align: right;\">\n",
       "      <th></th>\n",
       "      <th>event_name</th>\n",
       "      <th>events</th>\n",
       "      <th>users</th>\n",
       "      <th>percentage</th>\n",
       "    </tr>\n",
       "  </thead>\n",
       "  <tbody>\n",
       "    <tr>\n",
       "      <th>0</th>\n",
       "      <td>MainScreenAppear</td>\n",
       "      <td>117328</td>\n",
       "      <td>7419</td>\n",
       "      <td>98.50</td>\n",
       "    </tr>\n",
       "    <tr>\n",
       "      <th>1</th>\n",
       "      <td>OffersScreenAppear</td>\n",
       "      <td>46333</td>\n",
       "      <td>4593</td>\n",
       "      <td>61.00</td>\n",
       "    </tr>\n",
       "    <tr>\n",
       "      <th>2</th>\n",
       "      <td>CartScreenAppear</td>\n",
       "      <td>42303</td>\n",
       "      <td>3734</td>\n",
       "      <td>49.60</td>\n",
       "    </tr>\n",
       "    <tr>\n",
       "      <th>3</th>\n",
       "      <td>PaymentScreenSuccessful</td>\n",
       "      <td>33918</td>\n",
       "      <td>3539</td>\n",
       "      <td>47.00</td>\n",
       "    </tr>\n",
       "    <tr>\n",
       "      <th>4</th>\n",
       "      <td>Tutorial</td>\n",
       "      <td>1005</td>\n",
       "      <td>840</td>\n",
       "      <td>11.10</td>\n",
       "    </tr>\n",
       "  </tbody>\n",
       "</table>\n",
       "</div>"
      ],
      "text/plain": [
       "                event_name  events  users  percentage\n",
       "0         MainScreenAppear  117328   7419       98.50\n",
       "1       OffersScreenAppear   46333   4593       61.00\n",
       "2         CartScreenAppear   42303   3734       49.60\n",
       "3  PaymentScreenSuccessful   33918   3539       47.00\n",
       "4                 Tutorial    1005    840       11.10"
      ]
     },
     "execution_count": 35,
     "metadata": {},
     "output_type": "execute_result"
    }
   ],
   "source": [
    "events_users = logs.groupby('event_name').agg({'event_name':'count', 'user_id':'nunique'}).sort_values(by='user_id', ascending=False)\n",
    "events_users.columns = ['events', 'users']\n",
    "events_users = events_users.reset_index()\n",
    "events_users['percentage'] = (events_users['users'] / logs['user_id'].nunique() * 100).round(1)\n",
    "events_users"
   ]
  },
  {
   "cell_type": "code",
   "execution_count": 36,
   "metadata": {},
   "outputs": [
    {
     "data": {
      "image/png": "[encoded data removed]",
      "text/plain": [
       "<Figure size 1080x432 with 1 Axes>"
      ]
     },
     "metadata": {
      "needs_background": "light"
     },
     "output_type": "display_data"
    }
   ],
   "source": [
    "plt.figure(figsize=(15, 6))\n",
    "sns.barplot(data=events_users, x='event_name', y='users', palette = 'Pastel2')\n",
    "plt.title('Количество событий каждого типа на число уникальных пользователей')\n",
    "plt.xlabel('События')\n",
    "plt.ylabel('Количество пользователей')\n",
    "plt.show()"
   ]
  },
  {
   "cell_type": "markdown",
   "metadata": {},
   "source": [
    "Порядок событий линейный по уменьшению количества пользователей, как видно из графика, за исключением события Tutorial"
   ]
  },
  {
   "cell_type": "markdown",
   "metadata": {},
   "source": [
    "Порядок событий: появление главного экрана (событие А) -> появление экрана с предложениями (событие В) -> открытие корзины (событие С) -> оплата (событие D)"
   ]
  },
  {
   "cell_type": "markdown",
   "metadata": {},
   "source": [
    "<div class=\"alert alert-block alert-success\">\n",
    "    \n",
    "### Комментарий от ревьюера v_1\n",
    "\n",
    "Верные расчеты и рассуждения 👍\n",
    "    \n",
    "</div>"
   ]
  },
  {
   "cell_type": "code",
   "execution_count": 37,
   "metadata": {},
   "outputs": [
    {
     "name": "stdout",
     "output_type": "stream",
     "text": [
      "Потери пользователей на переходе от события А к событию В: (38.1%)\n",
      "Потери пользователей на переходе от события B к событию C: (18.7%)\n",
      "Потери пользователей на переходе от события C к событию D: (5.2%)\n"
     ]
    }
   ],
   "source": [
    "print('Потери пользователей на переходе от события А к событию В:',\n",
    "      '({:.1%})'.format(1 - (events_users.loc[1, 'users']/events_users.loc[0, 'users'])))\n",
    "print('Потери пользователей на переходе от события B к событию C:',\n",
    "      '({:.1%})'.format(1 - (events_users.loc[2, 'users']/events_users.loc[1, 'users'])))\n",
    "print('Потери пользователей на переходе от события C к событию D:',\n",
    "      '({:.1%})'.format(1 - (events_users.loc[3, 'users']/events_users.loc[2, 'users'])))"
   ]
  },
  {
   "cell_type": "markdown",
   "metadata": {},
   "source": [
    "<div class=\"alert alert-block alert-danger\">\n",
    "\n",
    "    \n",
    "### Комментарий от ревьюера v_1\n",
    "Критично\n",
    "\n",
    "Посчитать не долю переходов, а долю потерь тоже ОК 👍\n",
    "    \n",
    "Но расчеты следует оптимизировать. Если шагов будет не 3, а 50?)\n",
    "    \n",
    "К тому же это достаточно распространенная аналитическая задача, анализ метрики на основе своих предыдущих значений (например отношение среднего чека по сравнению с предыдущим заказом). Можно сделать с помощью цикла, а можно воспользоваться методом shift\n",
    "    \n",
    "</div>"
   ]
  },
  {
   "cell_type": "code",
   "execution_count": 38,
   "metadata": {},
   "outputs": [
    {
     "name": "stdout",
     "output_type": "stream",
     "text": [
      "Потери пользователей от первого события до оплаты: (52.3%)\n"
     ]
    }
   ],
   "source": [
    "print('Потери пользователей от первого события до оплаты:',\n",
    "      '({:.1%})'.format(1 - (events_users.loc[3, 'users']/events_users.loc[0, 'users'])))"
   ]
  },
  {
   "cell_type": "markdown",
   "metadata": {},
   "source": [
    "<div class=\"alert alert-block alert-info\">\n",
    "\n",
    "### Комментарий студента:\n",
    "Добавлю столбец с процентом потерь при помощи цикла\n",
    "</div>"
   ]
  },
  {
   "cell_type": "markdown",
   "metadata": {},
   "source": [
    "<div class=\"alert alert-block alert-success\">\n",
    "\n",
    "    \n",
    "### Комментарий от ревьюера v_2\n",
    "\n",
    "👍🏻\n",
    "    \n",
    "Обращаться к предыдущему значению еще можно с помощью метода shift\n",
    "    \n",
    "По ссылке отличное видео про применение оконок в пандасе. Про шифт тоже есть\n",
    "    \n",
    "https://www.youtube.com/watch?v=yQ7qHZBY5xI&t=1s&ab_channel=karpov.courses\n",
    "    \n",
    "</div>"
   ]
  },
  {
   "cell_type": "code",
   "execution_count": 39,
   "metadata": {},
   "outputs": [
    {
     "data": {
      "text/html": [
       "<div>\n",
       "<style scoped>\n",
       "    .dataframe tbody tr th:only-of-type {\n",
       "        vertical-align: middle;\n",
       "    }\n",
       "\n",
       "    .dataframe tbody tr th {\n",
       "        vertical-align: top;\n",
       "    }\n",
       "\n",
       "    .dataframe thead th {\n",
       "        text-align: right;\n",
       "    }\n",
       "</style>\n",
       "<table border=\"1\" class=\"dataframe\">\n",
       "  <thead>\n",
       "    <tr style=\"text-align: right;\">\n",
       "      <th></th>\n",
       "      <th>event_name</th>\n",
       "      <th>events</th>\n",
       "      <th>users</th>\n",
       "      <th>percentage</th>\n",
       "      <th>loss_percentage</th>\n",
       "    </tr>\n",
       "  </thead>\n",
       "  <tbody>\n",
       "    <tr>\n",
       "      <th>0</th>\n",
       "      <td>MainScreenAppear</td>\n",
       "      <td>117328</td>\n",
       "      <td>7419</td>\n",
       "      <td>98.50</td>\n",
       "      <td>0.00</td>\n",
       "    </tr>\n",
       "    <tr>\n",
       "      <th>1</th>\n",
       "      <td>OffersScreenAppear</td>\n",
       "      <td>46333</td>\n",
       "      <td>4593</td>\n",
       "      <td>61.00</td>\n",
       "      <td>0.38</td>\n",
       "    </tr>\n",
       "    <tr>\n",
       "      <th>2</th>\n",
       "      <td>CartScreenAppear</td>\n",
       "      <td>42303</td>\n",
       "      <td>3734</td>\n",
       "      <td>49.60</td>\n",
       "      <td>0.19</td>\n",
       "    </tr>\n",
       "    <tr>\n",
       "      <th>3</th>\n",
       "      <td>PaymentScreenSuccessful</td>\n",
       "      <td>33918</td>\n",
       "      <td>3539</td>\n",
       "      <td>47.00</td>\n",
       "      <td>0.05</td>\n",
       "    </tr>\n",
       "    <tr>\n",
       "      <th>4</th>\n",
       "      <td>Tutorial</td>\n",
       "      <td>1005</td>\n",
       "      <td>840</td>\n",
       "      <td>11.10</td>\n",
       "      <td>0.00</td>\n",
       "    </tr>\n",
       "  </tbody>\n",
       "</table>\n",
       "</div>"
      ],
      "text/plain": [
       "                event_name  events  users  percentage  loss_percentage\n",
       "0         MainScreenAppear  117328   7419       98.50             0.00\n",
       "1       OffersScreenAppear   46333   4593       61.00             0.38\n",
       "2         CartScreenAppear   42303   3734       49.60             0.19\n",
       "3  PaymentScreenSuccessful   33918   3539       47.00             0.05\n",
       "4                 Tutorial    1005    840       11.10             0.00"
      ]
     },
     "execution_count": 39,
     "metadata": {},
     "output_type": "execute_result"
    }
   ],
   "source": [
    "events_users['loss_percentage'] = 0\n",
    "for x in range(1, 4):\n",
    "    events_users.loc[x, 'loss_percentage'] = 1 - (events_users.loc[x, 'users'] /  (events_users.loc[x-1, 'users']))\n",
    "events_users"
   ]
  },
  {
   "cell_type": "markdown",
   "metadata": {},
   "source": [
    "Как мы видим основные потери пользователей происходят на этапе перехода от события А к событию В. В качестве рекомендации необходимо улучшить показатели на данном этапе. Убедиться, что максимальное количество пользователей перейдут на экран с предложениями, так как потери на следующих этапах минимальны."
   ]
  },
  {
   "cell_type": "markdown",
   "metadata": {},
   "source": [
    "<div class=\"alert alert-block alert-success\">\n",
    "\n",
    "    \n",
    "### Комментарий от ревьюера v_1\n",
    "\n",
    "Здорово, что в выводах есть рассуждения о природе результатов и рекомендации 👍\n",
    "    \n",
    "Но стоит также выдвинуть гипотезы как текущие показатели можно было бы улучшить\n",
    "    \n",
    "</div>"
   ]
  },
  {
   "cell_type": "markdown",
   "metadata": {},
   "source": [
    "### Анализ А/А/В теста"
   ]
  },
  {
   "cell_type": "markdown",
   "metadata": {},
   "source": [
    "Сколько пользователей в каждой группе?"
   ]
  },
  {
   "cell_type": "code",
   "execution_count": 40,
   "metadata": {},
   "outputs": [
    {
     "data": {
      "text/plain": [
       "group_id\n",
       "A     2484\n",
       "AA    2513\n",
       "B     2537\n",
       "Name: user_id, dtype: int64"
      ]
     },
     "execution_count": 40,
     "metadata": {},
     "output_type": "execute_result"
    }
   ],
   "source": [
    "logs.groupby('group_id')['user_id'].nunique()"
   ]
  },
  {
   "cell_type": "markdown",
   "metadata": {},
   "source": [
    "Какое самое популярное событие?"
   ]
  },
  {
   "cell_type": "code",
   "execution_count": 41,
   "metadata": {
    "scrolled": true
   },
   "outputs": [
    {
     "data": {
      "text/plain": [
       "MainScreenAppear           117328\n",
       "OffersScreenAppear          46333\n",
       "CartScreenAppear            42303\n",
       "PaymentScreenSuccessful     33918\n",
       "Tutorial                     1005\n",
       "Name: event_name, dtype: int64"
      ]
     },
     "execution_count": 41,
     "metadata": {},
     "output_type": "execute_result"
    }
   ],
   "source": [
    "logs['event_name'].value_counts()"
   ]
  },
  {
   "cell_type": "markdown",
   "metadata": {},
   "source": [
    "MainScreenAppear - самое популярное событие. Теперь посмотим в разбивке по группам. Для этого соберем таблицу."
   ]
  },
  {
   "cell_type": "code",
   "execution_count": 42,
   "metadata": {},
   "outputs": [
    {
     "data": {
      "text/html": [
       "<div>\n",
       "<style scoped>\n",
       "    .dataframe tbody tr th:only-of-type {\n",
       "        vertical-align: middle;\n",
       "    }\n",
       "\n",
       "    .dataframe tbody tr th {\n",
       "        vertical-align: top;\n",
       "    }\n",
       "\n",
       "    .dataframe thead th {\n",
       "        text-align: right;\n",
       "    }\n",
       "</style>\n",
       "<table border=\"1\" class=\"dataframe\">\n",
       "  <thead>\n",
       "    <tr style=\"text-align: right;\">\n",
       "      <th>group_id</th>\n",
       "      <th>event_name</th>\n",
       "      <th>A</th>\n",
       "      <th>AA</th>\n",
       "      <th>B</th>\n",
       "      <th>A+AA</th>\n",
       "      <th>all</th>\n",
       "      <th>percent_A</th>\n",
       "      <th>percent_AA</th>\n",
       "      <th>percent_B</th>\n",
       "      <th>percent_A+AA</th>\n",
       "    </tr>\n",
       "  </thead>\n",
       "  <tbody>\n",
       "    <tr>\n",
       "      <th>0</th>\n",
       "      <td>MainScreenAppear</td>\n",
       "      <td>2450</td>\n",
       "      <td>2476</td>\n",
       "      <td>2493</td>\n",
       "      <td>4926</td>\n",
       "      <td>7419</td>\n",
       "      <td>98.60</td>\n",
       "      <td>98.50</td>\n",
       "      <td>98.30</td>\n",
       "      <td>98.60</td>\n",
       "    </tr>\n",
       "    <tr>\n",
       "      <th>1</th>\n",
       "      <td>OffersScreenAppear</td>\n",
       "      <td>1542</td>\n",
       "      <td>1520</td>\n",
       "      <td>1531</td>\n",
       "      <td>3062</td>\n",
       "      <td>4593</td>\n",
       "      <td>62.10</td>\n",
       "      <td>60.50</td>\n",
       "      <td>60.30</td>\n",
       "      <td>61.30</td>\n",
       "    </tr>\n",
       "    <tr>\n",
       "      <th>2</th>\n",
       "      <td>CartScreenAppear</td>\n",
       "      <td>1266</td>\n",
       "      <td>1238</td>\n",
       "      <td>1230</td>\n",
       "      <td>2504</td>\n",
       "      <td>3734</td>\n",
       "      <td>51.00</td>\n",
       "      <td>49.30</td>\n",
       "      <td>48.50</td>\n",
       "      <td>50.10</td>\n",
       "    </tr>\n",
       "    <tr>\n",
       "      <th>3</th>\n",
       "      <td>PaymentScreenSuccessful</td>\n",
       "      <td>1200</td>\n",
       "      <td>1158</td>\n",
       "      <td>1181</td>\n",
       "      <td>2358</td>\n",
       "      <td>3539</td>\n",
       "      <td>48.30</td>\n",
       "      <td>46.10</td>\n",
       "      <td>46.60</td>\n",
       "      <td>47.20</td>\n",
       "    </tr>\n",
       "  </tbody>\n",
       "</table>\n",
       "</div>"
      ],
      "text/plain": [
       "group_id               event_name     A    AA     B  A+AA   all  percent_A  \\\n",
       "0                MainScreenAppear  2450  2476  2493  4926  7419      98.60   \n",
       "1              OffersScreenAppear  1542  1520  1531  3062  4593      62.10   \n",
       "2                CartScreenAppear  1266  1238  1230  2504  3734      51.00   \n",
       "3         PaymentScreenSuccessful  1200  1158  1181  2358  3539      48.30   \n",
       "\n",
       "group_id  percent_AA  percent_B  percent_A+AA  \n",
       "0              98.50      98.30         98.60  \n",
       "1              60.50      60.30         61.30  \n",
       "2              49.30      48.50         50.10  \n",
       "3              46.10      46.60         47.20  "
      ]
     },
     "execution_count": 42,
     "metadata": {},
     "output_type": "execute_result"
    }
   ],
   "source": [
    "group_data = logs.groupby('group_id')['user_id'].nunique()\n",
    "group_data['A+AA'] = group_data['A'] + group_data['AA']\n",
    "\n",
    "\n",
    "event_test = logs[logs['event_name']!='Tutorial'].pivot_table(\n",
    "    index='event_name', \n",
    "    columns='group_id', \n",
    "    values='user_id',\n",
    "    aggfunc='nunique').sort_values(by='A', ascending=False)\n",
    "\n",
    "event_test = event_test.reset_index()\n",
    "event_test['A+AA'] = event_test['A'] + event_test['AA']\n",
    "event_test['all'] = event_test['A+AA'] + event_test['B']\n",
    "\n",
    "event_test['percent_A'] = (event_test['A'] / group_data['A'] * 100).round(1)\n",
    "event_test['percent_AA'] = (event_test['AA'] / group_data['AA'] * 100).round(1)\n",
    "event_test['percent_B'] = (event_test['B'] / group_data['B'] * 100).round(1)\n",
    "event_test['percent_A+AA'] = ((event_test['A'] + event_test['AA']) / \\\n",
    "                                  (group_data['A'] + group_data['AA']) * 100).round(1)\n",
    "\n",
    "event_test"
   ]
  },
  {
   "cell_type": "markdown",
   "metadata": {},
   "source": [
    "<div class=\"alert alert-block alert-success\">\n",
    "\n",
    "    \n",
    "### Комментарий от ревьюера v_1\n",
    "\n",
    "Данные подготовлены 👍\n",
    "    \n",
    "Но чтобы не считать количество пользователей в группе в отдельной таблице, при расчете сводной можно добавить параметр `Margins=True`\n",
    "    \n",
    "Рекомендую почитать про сводные таблицы тут, и вообще ресурс отличный, кидай его в закладки\n",
    "    \n",
    "http://dfedorov.spb.ru/pandas/%D0%A1%D0%B2%D0%BE%D0%B4%D0%BD%D0%B0%D1%8F%20%D1%82%D0%B0%D0%B1%D0%BB%D0%B8%D1%86%D0%B0%20%D0%B2%20pandas.html\n",
    "    \n",
    "</div>"
   ]
  },
  {
   "cell_type": "markdown",
   "metadata": {},
   "source": [
    "Доля пользователей по группам для самого популярного события MainScreenAppear:\n",
    "\n",
    "Группа А - 98.6 %\n",
    "\n",
    "Группа АА - 98.5 %\n",
    "\n",
    "Группа В - 98.3%"
   ]
  },
  {
   "cell_type": "markdown",
   "metadata": {},
   "source": [
    "Зададим функцию для проведения статистического теста. В качестве порога статистической значимости будем использовать 0.01, так как контрольные группы должны быть предельно похожи"
   ]
  },
  {
   "cell_type": "markdown",
   "metadata": {},
   "source": [
    "<div class=\"alert alert-block alert-warning\">\n",
    "    \n",
    "\n",
    "### Комментарий от ревьюера v_1\n",
    "Рекомендация\n",
    "\n",
    "Почему для АА теста выбираешь меньший уровень значимости? Ведь различий наоборот не должно быть между контрольными группами\n",
    "    \n",
    "</div>"
   ]
  },
  {
   "cell_type": "markdown",
   "metadata": {},
   "source": [
    "<div class=\"alert alert-block alert-info\">\n",
    "\n",
    "### Комментарий студента:\n",
    "\n",
    "Да, действительно, надо было бы поставить 0.1, а не 0.01, потому что, чем выше значение p-value, тем меньше разницы между группами.\n",
    "\n",
    "Соответственно, нужно брать большее значение, а не меньшее. Однако, даже при уровне значимости 0.1 результат будет такой же.\n",
    "</div>"
   ]
  },
  {
   "cell_type": "markdown",
   "metadata": {},
   "source": [
    "<div class=\"alert alert-block alert-success\">\n",
    "\n",
    "    \n",
    "### Комментарий от ревьюера v_2\n",
    "\n",
    "Обычно для АА теста берут такую же альфу, как и для АБ\n",
    "    \n",
    "</div>"
   ]
  },
  {
   "cell_type": "code",
   "execution_count": 43,
   "metadata": {},
   "outputs": [],
   "source": [
    "def z_test(group1, group2, alpha):\n",
    "    for i in event_test.index:\n",
    "        p1 = event_test[group1][i] / group_data[group1]\n",
    "        \n",
    "        p2 = event_test[group2][i] / group_data[group2]\n",
    "        \n",
    "        p_combined = ((event_test[group1][i] + event_test[group2][i]) / \n",
    "                      (group_data[group1] + group_data[group2]))\n",
    "        \n",
    "        difference = p1 - p2\n",
    "        \n",
    "        z_value = difference / mth.sqrt(p_combined * (1 - p_combined) * \n",
    "                                        (1/group_data[group1] + 1/group_data[group2]))\n",
    "        \n",
    "        # задаем стандартное нормальное распределение (среднее 0, ст.отклонение 1)\n",
    "        distr = st.norm(0, 1) \n",
    "        p_value = (1 - distr.cdf(abs(z_value))) * 2\n",
    "        print('{} p-значение: {}'.format(event_test['event_name'][i], p_value))\n",
    "        if (p_value < alpha):\n",
    "            print(\"Отвергаем нулевую гипотезу: между долями есть значимая разница\")\n",
    "        else:\n",
    "            print(\"Не получилось отвергнуть нулевую гипотезу, нет оснований считать доли разными\")\n",
    "        print('')"
   ]
  },
  {
   "cell_type": "markdown",
   "metadata": {},
   "source": [
    "<div class=\"alert alert-block alert-warning\">\n",
    "    \n",
    "\n",
    "### Комментарий от ревьюера v_1\n",
    "Рекомендация\n",
    "\n",
    "Функция дает правильный результат, в этом проекте мы действительно проверяем стат значимость по всем событиям воронки, так будет не всегда. И было бы здорово написать универсальную функцию, которую можно использовать и в других проектах.\n",
    "    \n",
    "И аргументами функции следует передавать значения, по которым проводится тест (то есть в теле функции не вести никаких работ с датафреймом) Тогда функция будет универсальной и ее можно будет применять к любым данным\n",
    "    \n",
    "</div>"
   ]
  },
  {
   "cell_type": "markdown",
   "metadata": {},
   "source": [
    "<div class=\"alert alert-block alert-danger\">\n",
    "    \n",
    "### Комментарий от ревьюера v_1\n",
    "Критично\n",
    "\n",
    "Перед проведением тестов следует сформулировать нулевую и альтернативную гипотезы, указав в них в чем именно ищешь различия. Можно сформулировать один раз для всех тестов\n",
    "\n",
    "\n",
    "</div>"
   ]
  },
  {
   "cell_type": "markdown",
   "metadata": {},
   "source": [
    "<div class=\"alert alert-block alert-info\">\n",
    "\n",
    "### Комментарий студента:\n",
    "\n",
    "Добавил формулировки гипотез\n",
    "</div>"
   ]
  },
  {
   "cell_type": "markdown",
   "metadata": {},
   "source": [
    "<div class=\"alert alert-block alert-success\">\n",
    "\n",
    "    \n",
    "### Комментарий от ревьюера v_2\n",
    "\n",
    "👍🏻\n",
    "    \n",
    "</div>"
   ]
  },
  {
   "cell_type": "markdown",
   "metadata": {},
   "source": [
    "Нулевая гипотеза - доли уникальных посетителей на данном этапе воронки одинаковы\n",
    "\n",
    "Альтернативная гипотеза - доли уникальных посетителей на данном этапе воронки различны"
   ]
  },
  {
   "cell_type": "code",
   "execution_count": 44,
   "metadata": {},
   "outputs": [
    {
     "name": "stdout",
     "output_type": "stream",
     "text": [
      "MainScreenAppear p-значение: 0.7570597232046099\n",
      "Не получилось отвергнуть нулевую гипотезу, нет оснований считать доли разными\n",
      "\n",
      "OffersScreenAppear p-значение: 0.2480954578522181\n",
      "Не получилось отвергнуть нулевую гипотезу, нет оснований считать доли разными\n",
      "\n",
      "CartScreenAppear p-значение: 0.22883372237997213\n",
      "Не получилось отвергнуть нулевую гипотезу, нет оснований считать доли разными\n",
      "\n",
      "PaymentScreenSuccessful p-значение: 0.11456679313141849\n",
      "Не получилось отвергнуть нулевую гипотезу, нет оснований считать доли разными\n",
      "\n"
     ]
    }
   ],
   "source": [
    "z_test(\"A\", \"AA\", 0.01)"
   ]
  },
  {
   "cell_type": "markdown",
   "metadata": {},
   "source": [
    "Контрольные группы прошли тест успешно. Разницы между группами не обнаружено."
   ]
  },
  {
   "cell_type": "markdown",
   "metadata": {},
   "source": [
    "#### A/B тест"
   ]
  },
  {
   "cell_type": "markdown",
   "metadata": {},
   "source": [
    "Проведем тест А/В тест, выбрав стандартный порог статистической значимости в 0.05"
   ]
  },
  {
   "cell_type": "code",
   "execution_count": 45,
   "metadata": {},
   "outputs": [
    {
     "name": "stdout",
     "output_type": "stream",
     "text": [
      "MainScreenAppear p-значение: 0.2949721933554552\n",
      "Не получилось отвергнуть нулевую гипотезу, нет оснований считать доли разными\n",
      "\n",
      "OffersScreenAppear p-значение: 0.20836205402738917\n",
      "Не получилось отвергнуть нулевую гипотезу, нет оснований считать доли разными\n",
      "\n",
      "CartScreenAppear p-значение: 0.07842923237520116\n",
      "Не получилось отвергнуть нулевую гипотезу, нет оснований считать доли разными\n",
      "\n",
      "PaymentScreenSuccessful p-значение: 0.2122553275697796\n",
      "Не получилось отвергнуть нулевую гипотезу, нет оснований считать доли разными\n",
      "\n"
     ]
    }
   ],
   "source": [
    "z_test(\"A\", \"B\", 0.05)"
   ]
  },
  {
   "cell_type": "code",
   "execution_count": 46,
   "metadata": {},
   "outputs": [
    {
     "name": "stdout",
     "output_type": "stream",
     "text": [
      "MainScreenAppear p-значение: 0.4587053616621515\n",
      "Не получилось отвергнуть нулевую гипотезу, нет оснований считать доли разными\n",
      "\n",
      "OffersScreenAppear p-значение: 0.9197817830592261\n",
      "Не получилось отвергнуть нулевую гипотезу, нет оснований считать доли разными\n",
      "\n",
      "CartScreenAppear p-значение: 0.5786197879539783\n",
      "Не получилось отвергнуть нулевую гипотезу, нет оснований считать доли разными\n",
      "\n",
      "PaymentScreenSuccessful p-значение: 0.7373415053803964\n",
      "Не получилось отвергнуть нулевую гипотезу, нет оснований считать доли разными\n",
      "\n"
     ]
    }
   ],
   "source": [
    "z_test(\"AA\", \"B\", 0.05)"
   ]
  },
  {
   "cell_type": "code",
   "execution_count": 47,
   "metadata": {},
   "outputs": [
    {
     "name": "stdout",
     "output_type": "stream",
     "text": [
      "MainScreenAppear p-значение: 0.29424526837179577\n",
      "Не получилось отвергнуть нулевую гипотезу, нет оснований считать доли разными\n",
      "\n",
      "OffersScreenAppear p-значение: 0.43425549655188256\n",
      "Не получилось отвергнуть нулевую гипотезу, нет оснований считать доли разными\n",
      "\n",
      "CartScreenAppear p-значение: 0.18175875284404386\n",
      "Не получилось отвергнуть нулевую гипотезу, нет оснований считать доли разными\n",
      "\n",
      "PaymentScreenSuccessful p-значение: 0.6004294282308704\n",
      "Не получилось отвергнуть нулевую гипотезу, нет оснований считать доли разными\n",
      "\n"
     ]
    }
   ],
   "source": [
    "z_test(\"A+AA\", \"B\", 0.05)"
   ]
  },
  {
   "cell_type": "markdown",
   "metadata": {},
   "source": [
    "<div class=\"alert alert-block alert-success\">\n",
    "    \n",
    "### Комментарий от ревьюера v_1\n",
    "\n",
    "Все расчеты верны, различия между группами не обнаружены 👍\n",
    "\n",
    "</div>"
   ]
  },
  {
   "cell_type": "markdown",
   "metadata": {},
   "source": [
    "<div class=\"alert alert-block alert-danger\">\n",
    "    \n",
    "### Комментарий от ревьюера v_1\n",
    "Критично\n",
    "    \n",
    " На этом шаге очень важно порассуждать об оптимальном для тестов уровне статистической значимости, учитывая тот факт, что у нас идет множественная проверка гипотез, а значит увеличивается риск ложноположительного результата, найти различия там, где их на самом деле нет.\n",
    "    \n",
    "Вот здесь отлично разбирается этот момент и в целом рекомендую данный курс, мне он многое дал в свое время\n",
    "    \n",
    "https://stepik.org/lesson/8085/step/3?unit=1364\n",
    "    \n",
    " \n",
    "</div>"
   ]
  },
  {
   "cell_type": "markdown",
   "metadata": {},
   "source": [
    "<div class=\"alert alert-block alert-info\">\n",
    "\n",
    "### Комментарий студента:\n",
    "\n",
    "Я попробую порассуждать об уровнях статистической значимости, надеюсь, этого будет достаточно.\n",
    "    \n",
    "Кстати, большое спасибо за ссылку, действительно очень классные видеоуроки! Просмотрю их все как-нибудь.\n",
    "    \n",
    "С увеличением числа проверок действительно растет шанс случайно получить ложноположительный результат.\n",
    "Как наглядно показывает лектор в видео, если мы задаем большое количество проверок, то шанс того, что одна из этих проверок случайным образом даст неверный результат, возрастает.\n",
    "\n",
    "В таком случае логично использовать поправку Бонферрони (разделить принятое значение статистической значимости на количество сравнений (в нашем случае - 0.05 мы должны поделить на 3, так как у нас три сравнения - А-В, АА-В, А+АА - В).\n",
    "    \n",
    "В таком случае значение p-value уменьшится, соответственно, доказательств, чтобы отвергнуть нулевую теорию нужно будет собрать больше.\n",
    "    \n",
    "Однако, что мы видим в нашем случае? \n",
    "\n",
    "Во-первых, в нашем случае мы не задаем условие того, что провал одной из проверок по одному этапу воронки означает провал всего теста. \n",
    "    \n",
    "Во-вторых, даже с учетом того, что я не использовал поправку Бонферрони, ни одна из выборок ни в одном сравнении не достигла значений ниже 0.05. Соответственно, если поправка будет применена и мы поделим 0.05 на количество тестов, результат будет тот же.\n",
    "    \n",
    "Мне изначально следовало бы применить функцию, которая бы учитывала поправку Бонферрони в теле функции. Я видел такие функции, когда готовил проект, но я сделал выбор в пользу более простой. Чего необходимо будет избегать в будущем.\n",
    "\n",
    "</div>"
   ]
  },
  {
   "cell_type": "markdown",
   "metadata": {},
   "source": [
    "<div class=\"alert alert-block alert-success\">\n",
    "\n",
    "    \n",
    "### Комментарий от ревьюера v_2\n",
    "\n",
    "Все верно, в нашем случае поправки не повлияют на результат. \n",
    "    \n",
    "Но при каждом новом сравнении у нас увеличивается вероятность ложнопозитивного результата. Если использовать поправку Бонферрони, делить надо на количество сравнений, т.е. на 16\n",
    "    \n",
    "</div>"
   ]
  },
  {
   "cell_type": "markdown",
   "metadata": {},
   "source": [
    "### Вывод"
   ]
  },
  {
   "cell_type": "markdown",
   "metadata": {},
   "source": [
    "На этапе предобработки из данных были удалены 413 дубликатов, а также все записи, сделанные до 1 августа.\n",
    "\n",
    "Выделена последовательность действий пользователя и определена воронка продаж, оценены потери пользователей на каждом этапе.\n",
    "Наибольшие потери пользователей приложения происходят на переходе от 1 к 2 событию - то есть на этапе перехода с основного экрана на экран с предложениями. Необходимо поработать над увеличением конверсии на данном этапе.\n",
    "\n",
    "Был проведен анализ А/А/В теста по факту изменения шрифтов в приложении.\n",
    "Нулевой гипотезой было предположение, что выбранный дизайнерами шрифт не влияет на взаимодействие пользователей с приложением.\n",
    "В качестве порога статистической значимости для сравнения контрольной и основной группы выбрано значение p-value в 0.01, тогда как для сравнения основной и тестируемой группы - выбрано значение в 0.05.\n",
    "Так или иначе, сравнение ни одной из выборок не дало значение p-value ниже 0.05, минимальное значение - 0.0784.\n",
    "Отвергнуть нулевую гипотезу не удалось, по-видимому, шрифт действительно не влияет на поведение пользователей.\n",
    "\n",
    "Решение по результатам теста - остановить тест, признав остуствие различий между основной и тестируемой группами пользователей.\n"
   ]
  },
  {
   "cell_type": "markdown",
   "metadata": {},
   "source": [
    "<div class=\"alert alert-block alert-success\">\n",
    "\n",
    "    \n",
    "### Комментарий от ревьюера v_1\n",
    "\n",
    "Отличный вывод 👍🏻\n",
    "    \n",
    "Но он немного теряется в потоке текста, стоит структурировать свои мысли:\n",
    "    \n",
    "1.\n",
    "    \n",
    "2.\n",
    "    \n",
    "3.\n",
    "    \n",
    "</div>"
   ]
  },
  {
   "cell_type": "markdown",
   "metadata": {},
   "source": [
    "<div class=\"alert alert-block alert-info\">\n",
    "\n",
    "### Комментарий студента:\n",
    "\n",
    "Переформатировал и дополнил вывод\n",
    "    \n",
    "</div>"
   ]
  },
  {
   "cell_type": "markdown",
   "metadata": {},
   "source": [
    "<div class=\"alert alert-block alert-success\">\n",
    "\n",
    "    \n",
    "### Комментарий от ревьюера v_2\n",
    "\n",
    "👍🏻\n",
    "    \n",
    "</div>"
   ]
  },
  {
   "cell_type": "markdown",
   "metadata": {},
   "source": [
    "**ВЫВОД**\n",
    "\n",
    "1. **Предобработка данных**\n",
    "\n",
    "На этапе предобработки из данных были удалены 413 дубликатов, а также все записи, сделанные до 1 августа.\n",
    "\n",
    "2. **Воронка продаж**\n",
    "\n",
    "Выделена последовательность действий пользователя и определена воронка продаж, оценены потери пользователей на каждом этапе.\n",
    "Наибольшие потери пользователей приложения происходят на переходе от 1 к 2 событию - то есть на этапе перехода с основного экрана на экран с предложениями. Необходимо поработать над увеличением конверсии на данном этапе.\n",
    "\n",
    "**В качестве предложений можно внести - принудительно показывать экран с предложениям спустя N секунд использования приложения, или любой другой способ, который упростит переход от основного экрана приложения к экрану с предложенииями**\n",
    "\n",
    "**Также имеет смысл провести проверку на наличие техническим проблем на этапе перехода на страницу с предложениями для разных типов устройств**\n",
    "\n",
    "3. **Тест**\n",
    "\n",
    "Нулевой гипотезой было предположение, что выбранный дизайнерами шрифт не влияет на взаимодействие пользователей с приложением.\n",
    "В качестве порога статистической значимости для сравнения контрольной и основной группы выбрано значение p-value в 0.01, тогда как для сравнения основной и тестируемой группы - выбрано значение в 0.05.\n",
    "\n",
    "Сравнение ни одной из выборок не дало значение p-value ниже 0.05, минимальное значение - 0.0784.\n",
    "Отвергнуть нулевую гипотезу не удалось, по-видимому, шрифт действительно не влияет на поведение пользователей.\n",
    "\n",
    "4. **Решение**\n",
    "\n",
    "Остановить тест, признав остуствие различий между основной и тестируемой группами пользователей.\n",
    "\n"
   ]
  }
 ],
 "metadata": {
  "ExecuteTimeLog": [
   {
    "duration": 2274,
    "start_time": "2023-04-18T18:12:15.339Z"
   },
   {
    "duration": 11,
    "start_time": "2023-04-18T18:12:17.626Z"
   },
   {
    "duration": 2102,
    "start_time": "2023-04-18T18:12:17.639Z"
   },
   {
    "duration": 30,
    "start_time": "2023-04-18T18:12:19.748Z"
   },
   {
    "duration": 38,
    "start_time": "2023-04-18T18:55:45.210Z"
   },
   {
    "duration": 45,
    "start_time": "2023-04-18T18:56:11.819Z"
   },
   {
    "duration": 349,
    "start_time": "2023-04-18T18:56:34.118Z"
   },
   {
    "duration": 99,
    "start_time": "2023-04-18T18:56:49.517Z"
   },
   {
    "duration": 30,
    "start_time": "2023-04-18T18:56:54.544Z"
   },
   {
    "duration": 17,
    "start_time": "2023-04-18T18:57:44.018Z"
   },
   {
    "duration": 10,
    "start_time": "2023-04-18T18:57:52.335Z"
   },
   {
    "duration": 7,
    "start_time": "2023-04-18T18:58:10.520Z"
   },
   {
    "duration": 44,
    "start_time": "2023-04-18T18:58:10.531Z"
   },
   {
    "duration": 275,
    "start_time": "2023-04-18T18:58:14.241Z"
   },
   {
    "duration": 21,
    "start_time": "2023-04-18T18:58:14.518Z"
   },
   {
    "duration": 28,
    "start_time": "2023-04-18T18:58:14.541Z"
   },
   {
    "duration": 50,
    "start_time": "2023-04-18T18:58:14.571Z"
   },
   {
    "duration": 104,
    "start_time": "2023-04-18T18:58:14.624Z"
   },
   {
    "duration": 36,
    "start_time": "2023-04-18T18:59:14.851Z"
   },
   {
    "duration": 5,
    "start_time": "2023-04-18T19:29:59.856Z"
   },
   {
    "duration": 17,
    "start_time": "2023-04-18T19:29:59.863Z"
   },
   {
    "duration": 254,
    "start_time": "2023-04-18T19:29:59.882Z"
   },
   {
    "duration": 13,
    "start_time": "2023-04-18T19:30:02.037Z"
   },
   {
    "duration": 112,
    "start_time": "2023-04-18T19:30:02.053Z"
   },
   {
    "duration": 98,
    "start_time": "2023-04-18T19:30:02.168Z"
   },
   {
    "duration": 38,
    "start_time": "2023-04-18T19:30:05.723Z"
   },
   {
    "duration": 72,
    "start_time": "2023-04-18T19:30:05.763Z"
   },
   {
    "duration": 83,
    "start_time": "2023-04-18T19:30:05.837Z"
   },
   {
    "duration": 89,
    "start_time": "2023-04-18T19:30:05.922Z"
   },
   {
    "duration": 24,
    "start_time": "2023-04-18T19:31:24.677Z"
   },
   {
    "duration": 11,
    "start_time": "2023-04-18T19:33:02.321Z"
   },
   {
    "duration": 4,
    "start_time": "2023-04-18T19:34:06.549Z"
   },
   {
    "duration": 26,
    "start_time": "2023-04-18T19:34:06.556Z"
   },
   {
    "duration": 249,
    "start_time": "2023-04-18T19:34:06.585Z"
   },
   {
    "duration": 15,
    "start_time": "2023-04-18T19:34:08.931Z"
   },
   {
    "duration": 50,
    "start_time": "2023-04-18T19:34:08.949Z"
   },
   {
    "duration": 68,
    "start_time": "2023-04-18T19:34:09.004Z"
   },
   {
    "duration": 47,
    "start_time": "2023-04-18T19:34:10.176Z"
   },
   {
    "duration": 61,
    "start_time": "2023-04-18T19:34:10.225Z"
   },
   {
    "duration": 81,
    "start_time": "2023-04-18T19:34:10.294Z"
   },
   {
    "duration": 25,
    "start_time": "2023-04-18T19:34:10.377Z"
   },
   {
    "duration": 27,
    "start_time": "2023-04-18T19:34:10.410Z"
   },
   {
    "duration": 28,
    "start_time": "2023-04-18T19:46:39.218Z"
   },
   {
    "duration": 135,
    "start_time": "2023-04-18T19:47:14.860Z"
   },
   {
    "duration": 62,
    "start_time": "2023-04-18T19:56:18.960Z"
   },
   {
    "duration": 12,
    "start_time": "2023-04-18T20:07:16.542Z"
   },
   {
    "duration": 136,
    "start_time": "2023-04-18T20:09:18.862Z"
   },
   {
    "duration": 174,
    "start_time": "2023-04-18T20:09:37.629Z"
   },
   {
    "duration": 6,
    "start_time": "2023-04-18T20:09:57.058Z"
   },
   {
    "duration": 13,
    "start_time": "2023-04-18T20:09:57.066Z"
   },
   {
    "duration": 332,
    "start_time": "2023-04-18T20:09:57.082Z"
   },
   {
    "duration": 17,
    "start_time": "2023-04-18T20:09:57.418Z"
   },
   {
    "duration": 56,
    "start_time": "2023-04-18T20:09:57.815Z"
   },
   {
    "duration": 53,
    "start_time": "2023-04-18T20:09:57.875Z"
   },
   {
    "duration": 126,
    "start_time": "2023-04-18T20:09:57.931Z"
   },
   {
    "duration": 127,
    "start_time": "2023-04-18T20:09:58.062Z"
   },
   {
    "duration": 179,
    "start_time": "2023-04-18T20:09:58.191Z"
   },
   {
    "duration": 6,
    "start_time": "2023-04-18T20:09:58.372Z"
   },
   {
    "duration": 24,
    "start_time": "2023-04-18T20:09:58.379Z"
   },
   {
    "duration": 32,
    "start_time": "2023-04-18T20:09:58.405Z"
   },
   {
    "duration": 232,
    "start_time": "2023-04-18T20:09:58.439Z"
   },
   {
    "duration": 72,
    "start_time": "2023-04-18T20:09:58.676Z"
   },
   {
    "duration": 56,
    "start_time": "2023-04-18T20:09:58.753Z"
   },
   {
    "duration": 319,
    "start_time": "2023-04-18T20:09:58.811Z"
   },
   {
    "duration": 68,
    "start_time": "2023-04-18T20:10:15.219Z"
   },
   {
    "duration": 83,
    "start_time": "2023-04-18T20:10:47.432Z"
   },
   {
    "duration": 113,
    "start_time": "2023-04-18T20:11:37.840Z"
   },
   {
    "duration": 63,
    "start_time": "2023-04-18T20:11:49.534Z"
   },
   {
    "duration": 22,
    "start_time": "2023-04-18T20:30:19.842Z"
   },
   {
    "duration": 7,
    "start_time": "2023-04-18T20:30:57.808Z"
   },
   {
    "duration": 58,
    "start_time": "2023-04-18T20:30:57.817Z"
   },
   {
    "duration": 313,
    "start_time": "2023-04-18T20:30:57.877Z"
   },
   {
    "duration": 22,
    "start_time": "2023-04-18T20:30:58.192Z"
   },
   {
    "duration": 124,
    "start_time": "2023-04-18T20:30:58.216Z"
   },
   {
    "duration": 138,
    "start_time": "2023-04-18T20:30:58.342Z"
   },
   {
    "duration": 147,
    "start_time": "2023-04-18T20:30:58.482Z"
   },
   {
    "duration": 153,
    "start_time": "2023-04-18T20:30:58.631Z"
   },
   {
    "duration": 128,
    "start_time": "2023-04-18T20:30:58.800Z"
   },
   {
    "duration": 28,
    "start_time": "2023-04-18T20:30:58.942Z"
   },
   {
    "duration": 112,
    "start_time": "2023-04-18T20:30:58.972Z"
   },
   {
    "duration": 123,
    "start_time": "2023-04-18T20:30:59.086Z"
   },
   {
    "duration": 246,
    "start_time": "2023-04-18T20:30:59.217Z"
   },
   {
    "duration": 87,
    "start_time": "2023-04-18T20:30:59.469Z"
   },
   {
    "duration": 16,
    "start_time": "2023-04-18T20:30:59.561Z"
   },
   {
    "duration": 206,
    "start_time": "2023-04-18T20:30:59.580Z"
   },
   {
    "duration": 58,
    "start_time": "2023-04-18T20:30:59.799Z"
   },
   {
    "duration": 142,
    "start_time": "2023-04-18T20:30:59.863Z"
   },
   {
    "duration": 190,
    "start_time": "2023-04-18T20:31:00.008Z"
   },
   {
    "duration": 33,
    "start_time": "2023-04-18T20:31:00.202Z"
   },
   {
    "duration": 68,
    "start_time": "2023-04-19T07:23:56.734Z"
   },
   {
    "duration": 1343,
    "start_time": "2023-04-19T07:23:59.909Z"
   },
   {
    "duration": 8,
    "start_time": "2023-04-19T07:24:01.255Z"
   },
   {
    "duration": 791,
    "start_time": "2023-04-19T07:24:01.265Z"
   },
   {
    "duration": 13,
    "start_time": "2023-04-19T07:24:02.058Z"
   },
   {
    "duration": 36,
    "start_time": "2023-04-19T07:24:02.074Z"
   },
   {
    "duration": 26,
    "start_time": "2023-04-19T07:24:02.112Z"
   },
   {
    "duration": 55,
    "start_time": "2023-04-19T07:24:02.140Z"
   },
   {
    "duration": 89,
    "start_time": "2023-04-19T07:24:02.198Z"
   },
   {
    "duration": 76,
    "start_time": "2023-04-19T07:24:02.288Z"
   },
   {
    "duration": 4,
    "start_time": "2023-04-19T07:24:02.366Z"
   },
   {
    "duration": 24,
    "start_time": "2023-04-19T07:24:02.371Z"
   },
   {
    "duration": 25,
    "start_time": "2023-04-19T07:24:02.397Z"
   },
   {
    "duration": 111,
    "start_time": "2023-04-19T07:24:02.424Z"
   },
   {
    "duration": 54,
    "start_time": "2023-04-19T07:24:02.538Z"
   },
   {
    "duration": 7,
    "start_time": "2023-04-19T07:24:02.594Z"
   },
   {
    "duration": 72,
    "start_time": "2023-04-19T07:24:02.602Z"
   },
   {
    "duration": 22,
    "start_time": "2023-04-19T07:24:02.676Z"
   },
   {
    "duration": 49,
    "start_time": "2023-04-19T07:24:02.700Z"
   },
   {
    "duration": 85,
    "start_time": "2023-04-19T07:24:02.751Z"
   },
   {
    "duration": 13,
    "start_time": "2023-04-19T07:24:02.838Z"
   },
   {
    "duration": 8,
    "start_time": "2023-04-19T07:24:02.863Z"
   },
   {
    "duration": 51,
    "start_time": "2023-04-19T07:25:41.486Z"
   },
   {
    "duration": 42,
    "start_time": "2023-04-19T07:28:37.560Z"
   },
   {
    "duration": 48,
    "start_time": "2023-04-19T07:29:49.957Z"
   },
   {
    "duration": 67,
    "start_time": "2023-04-19T07:30:18.294Z"
   },
   {
    "duration": 25,
    "start_time": "2023-04-19T07:30:25.773Z"
   },
   {
    "duration": 62,
    "start_time": "2023-04-19T07:30:39.870Z"
   },
   {
    "duration": 65,
    "start_time": "2023-04-19T08:05:04.459Z"
   },
   {
    "duration": 35,
    "start_time": "2023-04-19T08:05:27.643Z"
   },
   {
    "duration": 146,
    "start_time": "2023-04-19T08:06:31.051Z"
   },
   {
    "duration": 128,
    "start_time": "2023-04-19T08:06:45.259Z"
   },
   {
    "duration": 3,
    "start_time": "2023-04-19T08:07:29.436Z"
   },
   {
    "duration": 112,
    "start_time": "2023-04-19T08:07:39.052Z"
   },
   {
    "duration": 75,
    "start_time": "2023-04-19T08:08:29.692Z"
   },
   {
    "duration": 21,
    "start_time": "2023-04-19T08:09:21.323Z"
   },
   {
    "duration": 122,
    "start_time": "2023-04-19T08:10:01.777Z"
   },
   {
    "duration": 99,
    "start_time": "2023-04-19T08:10:09.377Z"
   },
   {
    "duration": 20,
    "start_time": "2023-04-19T08:10:47.917Z"
   },
   {
    "duration": 141,
    "start_time": "2023-04-19T08:11:52.139Z"
   },
   {
    "duration": 21,
    "start_time": "2023-04-19T08:13:08.884Z"
   },
   {
    "duration": 6,
    "start_time": "2023-04-19T08:23:26.444Z"
   },
   {
    "duration": 55,
    "start_time": "2023-04-19T08:23:59.899Z"
   },
   {
    "duration": 782,
    "start_time": "2023-04-19T08:26:04.867Z"
   },
   {
    "duration": 255,
    "start_time": "2023-04-19T08:26:15.116Z"
   },
   {
    "duration": 197,
    "start_time": "2023-04-19T08:26:26.643Z"
   },
   {
    "duration": 189,
    "start_time": "2023-04-19T08:26:39.275Z"
   },
   {
    "duration": 346,
    "start_time": "2023-04-19T08:27:09.101Z"
   },
   {
    "duration": 193,
    "start_time": "2023-04-19T08:38:30.139Z"
   },
   {
    "duration": 244,
    "start_time": "2023-04-19T08:38:53.192Z"
   },
   {
    "duration": 14,
    "start_time": "2023-04-19T08:41:51.063Z"
   },
   {
    "duration": 378,
    "start_time": "2023-04-19T08:48:54.113Z"
   },
   {
    "duration": 8,
    "start_time": "2023-04-19T08:53:45.552Z"
   },
   {
    "duration": 20,
    "start_time": "2023-04-19T08:55:46.256Z"
   },
   {
    "duration": 16,
    "start_time": "2023-04-19T08:57:51.856Z"
   },
   {
    "duration": 35,
    "start_time": "2023-04-19T08:59:12.304Z"
   },
   {
    "duration": 22,
    "start_time": "2023-04-19T08:59:19.574Z"
   },
   {
    "duration": 22,
    "start_time": "2023-04-19T08:59:30.336Z"
   },
   {
    "duration": 36,
    "start_time": "2023-04-19T09:03:30.600Z"
   },
   {
    "duration": 42,
    "start_time": "2023-04-19T09:08:01.033Z"
   },
   {
    "duration": 406,
    "start_time": "2023-04-19T09:10:39.727Z"
   },
   {
    "duration": 10,
    "start_time": "2023-04-19T09:23:17.790Z"
   },
   {
    "duration": 8,
    "start_time": "2023-04-19T09:23:26.190Z"
   },
   {
    "duration": 25,
    "start_time": "2023-04-19T09:23:34.222Z"
   },
   {
    "duration": 1860,
    "start_time": "2023-04-19T09:26:13.454Z"
   },
   {
    "duration": 45,
    "start_time": "2023-04-19T09:27:27.903Z"
   },
   {
    "duration": 28,
    "start_time": "2023-04-19T09:27:34.494Z"
   },
   {
    "duration": 18,
    "start_time": "2023-04-19T09:27:46.815Z"
   },
   {
    "duration": 23,
    "start_time": "2023-04-19T09:27:53.409Z"
   },
   {
    "duration": 157,
    "start_time": "2023-04-19T09:28:27.197Z"
   },
   {
    "duration": 29,
    "start_time": "2023-04-19T09:28:56.910Z"
   },
   {
    "duration": 214,
    "start_time": "2023-04-19T09:29:12.255Z"
   },
   {
    "duration": 23,
    "start_time": "2023-04-19T09:36:06.920Z"
   },
   {
    "duration": 9,
    "start_time": "2023-04-19T09:37:25.094Z"
   },
   {
    "duration": 19,
    "start_time": "2023-04-19T09:37:33.502Z"
   },
   {
    "duration": 89,
    "start_time": "2023-04-19T09:37:41.806Z"
   },
   {
    "duration": 65,
    "start_time": "2023-04-19T09:37:49.534Z"
   },
   {
    "duration": 69,
    "start_time": "2023-04-19T09:38:57.134Z"
   },
   {
    "duration": 14,
    "start_time": "2023-04-19T09:40:34.624Z"
   },
   {
    "duration": 263,
    "start_time": "2023-04-19T09:40:54.495Z"
   },
   {
    "duration": 48,
    "start_time": "2023-04-19T09:41:05.374Z"
   },
   {
    "duration": 51,
    "start_time": "2023-04-19T09:41:11.950Z"
   },
   {
    "duration": 181,
    "start_time": "2023-04-19T09:41:19.071Z"
   },
   {
    "duration": 207,
    "start_time": "2023-04-19T09:46:54.734Z"
   },
   {
    "duration": 189,
    "start_time": "2023-04-19T09:47:29.272Z"
   },
   {
    "duration": 189,
    "start_time": "2023-04-19T09:56:02.689Z"
   },
   {
    "duration": 199,
    "start_time": "2023-04-19T09:56:11.247Z"
   },
   {
    "duration": 45,
    "start_time": "2023-04-19T10:15:54.191Z"
   },
   {
    "duration": 51,
    "start_time": "2023-04-19T10:16:22.190Z"
   },
   {
    "duration": 73,
    "start_time": "2023-04-19T10:16:30.129Z"
   },
   {
    "duration": 53,
    "start_time": "2023-04-19T10:17:25.953Z"
   },
   {
    "duration": 47,
    "start_time": "2023-04-19T10:17:35.170Z"
   },
   {
    "duration": 50,
    "start_time": "2023-04-19T10:17:40.305Z"
   },
   {
    "duration": 49,
    "start_time": "2023-04-19T10:18:06.737Z"
   },
   {
    "duration": 50,
    "start_time": "2023-04-19T10:18:34.771Z"
   },
   {
    "duration": 54,
    "start_time": "2023-04-19T10:18:43.760Z"
   },
   {
    "duration": 3,
    "start_time": "2023-04-19T10:20:29.393Z"
   },
   {
    "duration": 5,
    "start_time": "2023-04-19T10:20:57.904Z"
   },
   {
    "duration": 5,
    "start_time": "2023-04-19T10:21:50.751Z"
   },
   {
    "duration": 4,
    "start_time": "2023-04-19T10:22:32.014Z"
   },
   {
    "duration": 50,
    "start_time": "2023-04-19T10:23:27.264Z"
   },
   {
    "duration": 48,
    "start_time": "2023-04-19T10:24:01.599Z"
   },
   {
    "duration": 3,
    "start_time": "2023-04-19T10:24:11.847Z"
   },
   {
    "duration": 4,
    "start_time": "2023-04-19T10:25:06.222Z"
   },
   {
    "duration": 48,
    "start_time": "2023-04-19T10:25:51.337Z"
   },
   {
    "duration": 46,
    "start_time": "2023-04-19T10:26:04.638Z"
   },
   {
    "duration": 3,
    "start_time": "2023-04-19T10:26:19.751Z"
   },
   {
    "duration": 5,
    "start_time": "2023-04-19T10:26:36.662Z"
   },
   {
    "duration": 4,
    "start_time": "2023-04-19T10:27:45.657Z"
   },
   {
    "duration": 4,
    "start_time": "2023-04-19T10:57:48.646Z"
   },
   {
    "duration": 4,
    "start_time": "2023-04-19T10:58:15.828Z"
   },
   {
    "duration": 4,
    "start_time": "2023-04-19T11:00:52.162Z"
   },
   {
    "duration": 49,
    "start_time": "2023-04-19T11:07:15.267Z"
   },
   {
    "duration": 12,
    "start_time": "2023-04-19T11:15:05.348Z"
   },
   {
    "duration": 46,
    "start_time": "2023-04-19T11:15:15.987Z"
   },
   {
    "duration": 46,
    "start_time": "2023-04-19T11:16:42.003Z"
   },
   {
    "duration": 8,
    "start_time": "2023-04-19T11:19:31.547Z"
   },
   {
    "duration": 750,
    "start_time": "2023-04-19T11:19:43.555Z"
   },
   {
    "duration": 41,
    "start_time": "2023-04-19T11:19:54.171Z"
   },
   {
    "duration": 43,
    "start_time": "2023-04-19T11:20:33.746Z"
   },
   {
    "duration": 171,
    "start_time": "2023-04-19T11:27:06.344Z"
   },
   {
    "duration": 164,
    "start_time": "2023-04-19T11:27:55.845Z"
   },
   {
    "duration": 8,
    "start_time": "2023-04-19T11:41:18.482Z"
   },
   {
    "duration": 4,
    "start_time": "2023-04-19T11:41:22.484Z"
   },
   {
    "duration": 21,
    "start_time": "2023-04-19T11:41:22.490Z"
   },
   {
    "duration": 169,
    "start_time": "2023-04-19T11:41:22.512Z"
   },
   {
    "duration": 11,
    "start_time": "2023-04-19T11:41:22.683Z"
   },
   {
    "duration": 23,
    "start_time": "2023-04-19T11:41:22.696Z"
   },
   {
    "duration": 53,
    "start_time": "2023-04-19T11:41:22.721Z"
   },
   {
    "duration": 52,
    "start_time": "2023-04-19T11:41:22.776Z"
   },
   {
    "duration": 55,
    "start_time": "2023-04-19T11:41:22.829Z"
   },
   {
    "duration": 83,
    "start_time": "2023-04-19T11:41:22.885Z"
   },
   {
    "duration": 3,
    "start_time": "2023-04-19T11:41:22.970Z"
   },
   {
    "duration": 17,
    "start_time": "2023-04-19T11:41:22.975Z"
   },
   {
    "duration": 18,
    "start_time": "2023-04-19T11:41:22.993Z"
   },
   {
    "duration": 97,
    "start_time": "2023-04-19T11:41:23.012Z"
   },
   {
    "duration": 56,
    "start_time": "2023-04-19T11:41:23.112Z"
   },
   {
    "duration": 6,
    "start_time": "2023-04-19T11:41:23.170Z"
   },
   {
    "duration": 55,
    "start_time": "2023-04-19T11:41:23.177Z"
   },
   {
    "duration": 43,
    "start_time": "2023-04-19T11:41:23.234Z"
   },
   {
    "duration": 47,
    "start_time": "2023-04-19T11:41:23.279Z"
   },
   {
    "duration": 145,
    "start_time": "2023-04-19T11:41:23.328Z"
   },
   {
    "duration": 14,
    "start_time": "2023-04-19T11:41:23.476Z"
   },
   {
    "duration": 10,
    "start_time": "2023-04-19T11:41:23.492Z"
   },
   {
    "duration": 71,
    "start_time": "2023-04-19T11:41:23.503Z"
   },
   {
    "duration": 38,
    "start_time": "2023-04-19T11:41:23.576Z"
   },
   {
    "duration": 162,
    "start_time": "2023-04-19T11:41:23.616Z"
   },
   {
    "duration": 22,
    "start_time": "2023-04-19T11:41:23.779Z"
   },
   {
    "duration": 7,
    "start_time": "2023-04-19T11:41:23.803Z"
   },
   {
    "duration": 237,
    "start_time": "2023-04-19T11:41:23.812Z"
   },
   {
    "duration": 24,
    "start_time": "2023-04-19T11:41:24.051Z"
   },
   {
    "duration": 520,
    "start_time": "2023-04-19T11:41:24.077Z"
   },
   {
    "duration": 66,
    "start_time": "2023-04-19T11:41:24.599Z"
   },
   {
    "duration": 58,
    "start_time": "2023-04-19T11:41:24.666Z"
   },
   {
    "duration": 41,
    "start_time": "2023-04-19T11:41:24.726Z"
   },
   {
    "duration": 29,
    "start_time": "2023-04-19T11:41:24.769Z"
   },
   {
    "duration": 85,
    "start_time": "2023-04-19T11:41:24.800Z"
   },
   {
    "duration": 179,
    "start_time": "2023-04-19T11:41:24.887Z"
   },
   {
    "duration": 5,
    "start_time": "2023-04-19T11:41:25.068Z"
   },
   {
    "duration": 15,
    "start_time": "2023-04-19T11:41:25.076Z"
   },
   {
    "duration": 44,
    "start_time": "2023-04-19T11:41:25.093Z"
   },
   {
    "duration": 40,
    "start_time": "2023-04-19T11:41:25.140Z"
   },
   {
    "duration": 166,
    "start_time": "2023-04-19T11:41:25.182Z"
   },
   {
    "duration": 6,
    "start_time": "2023-04-19T11:41:25.349Z"
   },
   {
    "duration": 16,
    "start_time": "2023-04-19T11:41:25.364Z"
   },
   {
    "duration": 4,
    "start_time": "2023-04-19T11:42:06.189Z"
   },
   {
    "duration": 5,
    "start_time": "2023-04-19T11:42:11.775Z"
   },
   {
    "duration": 715,
    "start_time": "2023-04-19T11:42:13.341Z"
   },
   {
    "duration": 8,
    "start_time": "2023-04-19T11:42:26.262Z"
   },
   {
    "duration": 6,
    "start_time": "2023-04-19T11:42:28.909Z"
   },
   {
    "duration": 791,
    "start_time": "2023-04-19T11:42:30.574Z"
   },
   {
    "duration": 6,
    "start_time": "2023-04-19T11:42:40.389Z"
   },
   {
    "duration": 10,
    "start_time": "2023-04-19T11:42:41.875Z"
   },
   {
    "duration": 3,
    "start_time": "2023-04-19T11:45:16.854Z"
   },
   {
    "duration": 9,
    "start_time": "2023-04-19T11:46:26.977Z"
   },
   {
    "duration": 14,
    "start_time": "2023-04-19T11:46:30.158Z"
   },
   {
    "duration": 9,
    "start_time": "2023-04-19T11:46:32.317Z"
   },
   {
    "duration": 63,
    "start_time": "2023-04-19T11:47:28.366Z"
   },
   {
    "duration": 1307,
    "start_time": "2023-04-19T13:18:13.805Z"
   },
   {
    "duration": 4,
    "start_time": "2023-04-19T13:18:15.114Z"
   },
   {
    "duration": 195,
    "start_time": "2023-04-19T13:18:15.120Z"
   },
   {
    "duration": 15,
    "start_time": "2023-04-19T13:18:15.319Z"
   },
   {
    "duration": 26,
    "start_time": "2023-04-19T13:18:15.336Z"
   },
   {
    "duration": 32,
    "start_time": "2023-04-19T13:18:15.364Z"
   },
   {
    "duration": 23,
    "start_time": "2023-04-19T13:18:15.397Z"
   },
   {
    "duration": 74,
    "start_time": "2023-04-19T13:18:15.422Z"
   },
   {
    "duration": 74,
    "start_time": "2023-04-19T13:18:15.498Z"
   },
   {
    "duration": 4,
    "start_time": "2023-04-19T13:18:15.575Z"
   },
   {
    "duration": 34,
    "start_time": "2023-04-19T13:18:15.581Z"
   },
   {
    "duration": 25,
    "start_time": "2023-04-19T13:18:15.617Z"
   },
   {
    "duration": 88,
    "start_time": "2023-04-19T13:18:15.644Z"
   },
   {
    "duration": 50,
    "start_time": "2023-04-19T13:18:15.735Z"
   },
   {
    "duration": 6,
    "start_time": "2023-04-19T13:18:15.786Z"
   },
   {
    "duration": 88,
    "start_time": "2023-04-19T13:18:15.793Z"
   },
   {
    "duration": 39,
    "start_time": "2023-04-19T13:18:15.883Z"
   },
   {
    "duration": 43,
    "start_time": "2023-04-19T13:18:15.924Z"
   },
   {
    "duration": 136,
    "start_time": "2023-04-19T13:18:15.969Z"
   },
   {
    "duration": 22,
    "start_time": "2023-04-19T13:18:16.107Z"
   },
   {
    "duration": 10,
    "start_time": "2023-04-19T13:18:16.131Z"
   },
   {
    "duration": 47,
    "start_time": "2023-04-19T13:18:16.143Z"
   },
   {
    "duration": 62,
    "start_time": "2023-04-19T13:18:16.192Z"
   },
   {
    "duration": 150,
    "start_time": "2023-04-19T13:18:16.256Z"
   },
   {
    "duration": 26,
    "start_time": "2023-04-19T13:18:16.407Z"
   },
   {
    "duration": 9,
    "start_time": "2023-04-19T13:18:16.434Z"
   },
   {
    "duration": 339,
    "start_time": "2023-04-19T13:18:16.445Z"
   },
   {
    "duration": 36,
    "start_time": "2023-04-19T13:18:16.788Z"
   },
   {
    "duration": 482,
    "start_time": "2023-04-19T13:18:16.826Z"
   },
   {
    "duration": 45,
    "start_time": "2023-04-19T13:18:17.310Z"
   },
   {
    "duration": 79,
    "start_time": "2023-04-19T13:18:17.356Z"
   },
   {
    "duration": 26,
    "start_time": "2023-04-19T13:18:17.436Z"
   },
   {
    "duration": 39,
    "start_time": "2023-04-19T13:18:17.464Z"
   },
   {
    "duration": 88,
    "start_time": "2023-04-19T13:18:17.505Z"
   },
   {
    "duration": 205,
    "start_time": "2023-04-19T13:18:17.595Z"
   },
   {
    "duration": 6,
    "start_time": "2023-04-19T13:18:17.803Z"
   },
   {
    "duration": 9,
    "start_time": "2023-04-19T13:18:17.818Z"
   },
   {
    "duration": 51,
    "start_time": "2023-04-19T13:18:17.829Z"
   },
   {
    "duration": 40,
    "start_time": "2023-04-19T13:18:17.882Z"
   },
   {
    "duration": 184,
    "start_time": "2023-04-19T13:18:17.924Z"
   },
   {
    "duration": 8,
    "start_time": "2023-04-19T13:18:18.109Z"
   },
   {
    "duration": 22,
    "start_time": "2023-04-19T13:18:18.119Z"
   },
   {
    "duration": 16,
    "start_time": "2023-04-19T13:18:18.143Z"
   },
   {
    "duration": 14,
    "start_time": "2023-04-19T13:18:18.161Z"
   },
   {
    "duration": 12,
    "start_time": "2023-04-19T13:18:18.177Z"
   },
   {
    "duration": 56,
    "start_time": "2023-04-19T15:20:08.883Z"
   },
   {
    "duration": 1595,
    "start_time": "2023-04-19T15:20:14.835Z"
   },
   {
    "duration": 10,
    "start_time": "2023-04-19T15:20:16.432Z"
   },
   {
    "duration": 586,
    "start_time": "2023-04-19T15:20:16.445Z"
   },
   {
    "duration": 18,
    "start_time": "2023-04-19T15:20:17.033Z"
   },
   {
    "duration": 61,
    "start_time": "2023-04-19T15:20:17.053Z"
   },
   {
    "duration": 40,
    "start_time": "2023-04-19T15:20:17.116Z"
   },
   {
    "duration": 16,
    "start_time": "2023-04-19T15:20:17.159Z"
   },
   {
    "duration": 111,
    "start_time": "2023-04-19T15:20:17.178Z"
   },
   {
    "duration": 95,
    "start_time": "2023-04-19T15:20:17.291Z"
   },
   {
    "duration": 3,
    "start_time": "2023-04-19T15:20:17.388Z"
   },
   {
    "duration": 18,
    "start_time": "2023-04-19T15:20:17.393Z"
   },
   {
    "duration": 39,
    "start_time": "2023-04-19T15:20:17.413Z"
   },
   {
    "duration": 96,
    "start_time": "2023-04-19T15:20:17.455Z"
   },
   {
    "duration": 55,
    "start_time": "2023-04-19T15:20:17.556Z"
   },
   {
    "duration": 31,
    "start_time": "2023-04-19T15:20:17.613Z"
   },
   {
    "duration": 60,
    "start_time": "2023-04-19T15:20:17.646Z"
   },
   {
    "duration": 42,
    "start_time": "2023-04-19T15:20:17.707Z"
   },
   {
    "duration": 44,
    "start_time": "2023-04-19T15:20:17.752Z"
   },
   {
    "duration": 115,
    "start_time": "2023-04-19T15:20:17.798Z"
   },
   {
    "duration": 37,
    "start_time": "2023-04-19T15:20:17.916Z"
   },
   {
    "duration": 33,
    "start_time": "2023-04-19T15:20:17.955Z"
   },
   {
    "duration": 67,
    "start_time": "2023-04-19T15:20:17.990Z"
   },
   {
    "duration": 53,
    "start_time": "2023-04-19T15:20:18.059Z"
   },
   {
    "duration": 153,
    "start_time": "2023-04-19T15:20:18.114Z"
   },
   {
    "duration": 25,
    "start_time": "2023-04-19T15:20:18.269Z"
   },
   {
    "duration": 9,
    "start_time": "2023-04-19T15:20:18.296Z"
   },
   {
    "duration": 345,
    "start_time": "2023-04-19T15:20:18.307Z"
   },
   {
    "duration": 252,
    "start_time": "2023-04-19T15:20:18.654Z"
   },
   {
    "duration": 39,
    "start_time": "2023-04-19T15:20:18.908Z"
   },
   {
    "duration": 493,
    "start_time": "2023-04-19T15:20:18.949Z"
   },
   {
    "duration": 38,
    "start_time": "2023-04-19T15:20:19.444Z"
   },
   {
    "duration": 84,
    "start_time": "2023-04-19T15:20:19.484Z"
   },
   {
    "duration": 26,
    "start_time": "2023-04-19T15:20:19.571Z"
   },
   {
    "duration": 51,
    "start_time": "2023-04-19T15:20:19.599Z"
   },
   {
    "duration": 89,
    "start_time": "2023-04-19T15:20:19.652Z"
   },
   {
    "duration": 303,
    "start_time": "2023-04-19T15:20:19.743Z"
   },
   {
    "duration": 7,
    "start_time": "2023-04-19T15:20:20.048Z"
   },
   {
    "duration": 20,
    "start_time": "2023-04-19T15:20:20.057Z"
   },
   {
    "duration": 61,
    "start_time": "2023-04-19T15:20:20.079Z"
   },
   {
    "duration": 23,
    "start_time": "2023-04-19T15:20:20.143Z"
   },
   {
    "duration": 212,
    "start_time": "2023-04-19T15:20:20.171Z"
   },
   {
    "duration": 6,
    "start_time": "2023-04-19T15:20:20.385Z"
   },
   {
    "duration": 35,
    "start_time": "2023-04-19T15:20:20.393Z"
   },
   {
    "duration": 19,
    "start_time": "2023-04-19T15:20:20.430Z"
   },
   {
    "duration": 11,
    "start_time": "2023-04-19T15:20:20.451Z"
   },
   {
    "duration": 35,
    "start_time": "2023-04-19T15:20:20.476Z"
   },
   {
    "duration": 681,
    "start_time": "2023-04-19T15:20:29.481Z"
   },
   {
    "duration": 5,
    "start_time": "2023-04-19T15:20:58.219Z"
   },
   {
    "duration": 50,
    "start_time": "2023-04-19T15:20:58.227Z"
   },
   {
    "duration": 222,
    "start_time": "2023-04-19T15:20:58.279Z"
   },
   {
    "duration": 13,
    "start_time": "2023-04-19T15:20:58.503Z"
   },
   {
    "duration": 39,
    "start_time": "2023-04-19T15:20:58.518Z"
   },
   {
    "duration": 36,
    "start_time": "2023-04-19T15:20:58.559Z"
   },
   {
    "duration": 18,
    "start_time": "2023-04-19T15:20:58.597Z"
   },
   {
    "duration": 91,
    "start_time": "2023-04-19T15:20:58.617Z"
   },
   {
    "duration": 77,
    "start_time": "2023-04-19T15:20:58.710Z"
   },
   {
    "duration": 4,
    "start_time": "2023-04-19T15:20:58.788Z"
   },
   {
    "duration": 34,
    "start_time": "2023-04-19T15:20:58.794Z"
   },
   {
    "duration": 24,
    "start_time": "2023-04-19T15:20:58.829Z"
   },
   {
    "duration": 105,
    "start_time": "2023-04-19T15:20:58.855Z"
   },
   {
    "duration": 64,
    "start_time": "2023-04-19T15:20:58.962Z"
   },
   {
    "duration": 14,
    "start_time": "2023-04-19T15:20:59.028Z"
   },
   {
    "duration": 86,
    "start_time": "2023-04-19T15:20:59.044Z"
   },
   {
    "duration": 22,
    "start_time": "2023-04-19T15:20:59.142Z"
   },
   {
    "duration": 65,
    "start_time": "2023-04-19T15:20:59.166Z"
   },
   {
    "duration": 126,
    "start_time": "2023-04-19T15:20:59.234Z"
   },
   {
    "duration": 21,
    "start_time": "2023-04-19T15:20:59.365Z"
   },
   {
    "duration": 9,
    "start_time": "2023-04-19T15:20:59.389Z"
   },
   {
    "duration": 90,
    "start_time": "2023-04-19T15:20:59.400Z"
   },
   {
    "duration": 70,
    "start_time": "2023-04-19T15:20:59.492Z"
   },
   {
    "duration": 157,
    "start_time": "2023-04-19T15:20:59.564Z"
   },
   {
    "duration": 36,
    "start_time": "2023-04-19T15:20:59.724Z"
   },
   {
    "duration": 11,
    "start_time": "2023-04-19T15:20:59.763Z"
   },
   {
    "duration": 298,
    "start_time": "2023-04-19T15:20:59.776Z"
   },
   {
    "duration": 998,
    "start_time": "2023-04-19T15:21:00.076Z"
   },
   {
    "duration": 33,
    "start_time": "2023-04-19T15:21:01.077Z"
   },
   {
    "duration": 501,
    "start_time": "2023-04-19T15:21:01.112Z"
   },
   {
    "duration": 56,
    "start_time": "2023-04-19T15:21:01.615Z"
   },
   {
    "duration": 89,
    "start_time": "2023-04-19T15:21:01.673Z"
   },
   {
    "duration": 27,
    "start_time": "2023-04-19T15:21:01.764Z"
   },
   {
    "duration": 59,
    "start_time": "2023-04-19T15:21:01.793Z"
   },
   {
    "duration": 140,
    "start_time": "2023-04-19T15:21:01.855Z"
   },
   {
    "duration": 230,
    "start_time": "2023-04-19T15:21:01.997Z"
   },
   {
    "duration": 14,
    "start_time": "2023-04-19T15:21:02.229Z"
   },
   {
    "duration": 143,
    "start_time": "2023-04-19T15:21:02.245Z"
   },
   {
    "duration": 115,
    "start_time": "2023-04-19T15:21:02.390Z"
   },
   {
    "duration": 44,
    "start_time": "2023-04-19T15:21:02.507Z"
   },
   {
    "duration": 223,
    "start_time": "2023-04-19T15:21:02.553Z"
   },
   {
    "duration": 8,
    "start_time": "2023-04-19T15:21:02.778Z"
   },
   {
    "duration": 51,
    "start_time": "2023-04-19T15:21:02.788Z"
   },
   {
    "duration": 40,
    "start_time": "2023-04-19T15:21:02.841Z"
   },
   {
    "duration": 44,
    "start_time": "2023-04-19T15:21:02.883Z"
   },
   {
    "duration": 36,
    "start_time": "2023-04-19T15:21:02.930Z"
   },
   {
    "duration": 108,
    "start_time": "2023-04-19T15:25:56.206Z"
   },
   {
    "duration": 15,
    "start_time": "2023-04-19T15:26:00.392Z"
   },
   {
    "duration": 15,
    "start_time": "2023-04-19T15:26:04.955Z"
   },
   {
    "duration": 87,
    "start_time": "2023-04-19T16:10:21.206Z"
   },
   {
    "duration": 13,
    "start_time": "2023-04-19T18:21:31.199Z"
   },
   {
    "duration": 11,
    "start_time": "2023-04-19T18:21:39.455Z"
   },
   {
    "duration": 12,
    "start_time": "2023-04-19T18:21:44.992Z"
   },
   {
    "duration": 13,
    "start_time": "2023-04-19T18:22:11.415Z"
   },
   {
    "duration": 4,
    "start_time": "2023-04-19T18:22:16.859Z"
   },
   {
    "duration": 40,
    "start_time": "2023-04-19T18:22:16.865Z"
   },
   {
    "duration": 183,
    "start_time": "2023-04-19T18:22:16.907Z"
   },
   {
    "duration": 12,
    "start_time": "2023-04-19T18:22:17.092Z"
   },
   {
    "duration": 36,
    "start_time": "2023-04-19T18:22:17.107Z"
   },
   {
    "duration": 24,
    "start_time": "2023-04-19T18:22:17.145Z"
   },
   {
    "duration": 9,
    "start_time": "2023-04-19T18:22:17.171Z"
   },
   {
    "duration": 97,
    "start_time": "2023-04-19T18:22:17.182Z"
   },
   {
    "duration": 81,
    "start_time": "2023-04-19T18:22:17.280Z"
   },
   {
    "duration": 3,
    "start_time": "2023-04-19T18:22:17.363Z"
   },
   {
    "duration": 19,
    "start_time": "2023-04-19T18:22:17.368Z"
   },
   {
    "duration": 33,
    "start_time": "2023-04-19T18:22:17.389Z"
   },
   {
    "duration": 89,
    "start_time": "2023-04-19T18:22:17.424Z"
   },
   {
    "duration": 51,
    "start_time": "2023-04-19T18:22:17.517Z"
   },
   {
    "duration": 6,
    "start_time": "2023-04-19T18:22:17.570Z"
   },
   {
    "duration": 90,
    "start_time": "2023-04-19T18:22:17.578Z"
   },
   {
    "duration": 21,
    "start_time": "2023-04-19T18:22:17.670Z"
   },
   {
    "duration": 63,
    "start_time": "2023-04-19T18:22:17.692Z"
   },
   {
    "duration": 98,
    "start_time": "2023-04-19T18:22:17.757Z"
   },
   {
    "duration": 16,
    "start_time": "2023-04-19T18:22:17.857Z"
   },
   {
    "duration": 16,
    "start_time": "2023-04-19T18:22:17.875Z"
   },
   {
    "duration": 64,
    "start_time": "2023-04-19T18:22:17.893Z"
   },
   {
    "duration": 36,
    "start_time": "2023-04-19T18:22:17.960Z"
   },
   {
    "duration": 154,
    "start_time": "2023-04-19T18:22:17.998Z"
   },
   {
    "duration": 23,
    "start_time": "2023-04-19T18:22:18.154Z"
   },
   {
    "duration": 9,
    "start_time": "2023-04-19T18:22:18.178Z"
   },
   {
    "duration": 249,
    "start_time": "2023-04-19T18:22:18.190Z"
   },
   {
    "duration": 633,
    "start_time": "2023-04-19T18:22:18.441Z"
   },
   {
    "duration": 27,
    "start_time": "2023-04-19T18:22:19.076Z"
   },
   {
    "duration": 639,
    "start_time": "2023-04-19T18:22:19.105Z"
   },
   {
    "duration": 37,
    "start_time": "2023-04-19T18:22:19.746Z"
   },
   {
    "duration": 71,
    "start_time": "2023-04-19T18:22:19.785Z"
   },
   {
    "duration": 23,
    "start_time": "2023-04-19T18:22:19.858Z"
   },
   {
    "duration": 28,
    "start_time": "2023-04-19T18:22:19.883Z"
   },
   {
    "duration": 94,
    "start_time": "2023-04-19T18:22:19.912Z"
   },
   {
    "duration": 191,
    "start_time": "2023-04-19T18:22:20.008Z"
   },
   {
    "duration": 5,
    "start_time": "2023-04-19T18:22:20.201Z"
   },
   {
    "duration": 10,
    "start_time": "2023-04-19T18:22:20.208Z"
   },
   {
    "duration": 22,
    "start_time": "2023-04-19T18:22:20.220Z"
   },
   {
    "duration": 46,
    "start_time": "2023-04-19T18:22:20.244Z"
   },
   {
    "duration": 22,
    "start_time": "2023-04-19T18:22:20.294Z"
   },
   {
    "duration": 202,
    "start_time": "2023-04-19T18:22:20.318Z"
   },
   {
    "duration": 7,
    "start_time": "2023-04-19T18:22:20.522Z"
   },
   {
    "duration": 13,
    "start_time": "2023-04-19T18:22:20.541Z"
   },
   {
    "duration": 13,
    "start_time": "2023-04-19T18:22:20.556Z"
   },
   {
    "duration": 21,
    "start_time": "2023-04-19T18:22:20.571Z"
   },
   {
    "duration": 26,
    "start_time": "2023-04-19T18:22:20.594Z"
   },
   {
    "duration": 12,
    "start_time": "2023-04-19T18:22:40.087Z"
   },
   {
    "duration": 5,
    "start_time": "2023-04-19T18:22:43.713Z"
   },
   {
    "duration": 20,
    "start_time": "2023-04-19T18:22:43.721Z"
   },
   {
    "duration": 199,
    "start_time": "2023-04-19T18:22:43.743Z"
   },
   {
    "duration": 12,
    "start_time": "2023-04-19T18:22:43.944Z"
   },
   {
    "duration": 25,
    "start_time": "2023-04-19T18:22:43.959Z"
   },
   {
    "duration": 23,
    "start_time": "2023-04-19T18:22:43.986Z"
   },
   {
    "duration": 32,
    "start_time": "2023-04-19T18:22:44.011Z"
   },
   {
    "duration": 72,
    "start_time": "2023-04-19T18:22:44.045Z"
   },
   {
    "duration": 68,
    "start_time": "2023-04-19T18:22:44.119Z"
   },
   {
    "duration": 4,
    "start_time": "2023-04-19T18:22:44.190Z"
   },
   {
    "duration": 22,
    "start_time": "2023-04-19T18:22:44.196Z"
   },
   {
    "duration": 39,
    "start_time": "2023-04-19T18:22:44.221Z"
   },
   {
    "duration": 126,
    "start_time": "2023-04-19T18:22:44.263Z"
   },
   {
    "duration": 75,
    "start_time": "2023-04-19T18:22:44.394Z"
   },
   {
    "duration": 10,
    "start_time": "2023-04-19T18:22:44.472Z"
   },
   {
    "duration": 99,
    "start_time": "2023-04-19T18:22:44.484Z"
   },
   {
    "duration": 23,
    "start_time": "2023-04-19T18:22:44.585Z"
   },
   {
    "duration": 54,
    "start_time": "2023-04-19T18:22:44.610Z"
   },
   {
    "duration": 92,
    "start_time": "2023-04-19T18:22:44.667Z"
   },
   {
    "duration": 16,
    "start_time": "2023-04-19T18:22:44.762Z"
   },
   {
    "duration": 73,
    "start_time": "2023-04-19T18:22:44.780Z"
   },
   {
    "duration": 105,
    "start_time": "2023-04-19T18:22:44.855Z"
   },
   {
    "duration": 37,
    "start_time": "2023-04-19T18:22:44.962Z"
   },
   {
    "duration": 152,
    "start_time": "2023-04-19T18:22:45.001Z"
   },
   {
    "duration": 24,
    "start_time": "2023-04-19T18:22:45.155Z"
   },
   {
    "duration": 7,
    "start_time": "2023-04-19T18:22:45.181Z"
   },
   {
    "duration": 248,
    "start_time": "2023-04-19T18:22:45.190Z"
   },
   {
    "duration": 753,
    "start_time": "2023-04-19T18:22:45.441Z"
   },
   {
    "duration": 45,
    "start_time": "2023-04-19T18:22:46.196Z"
   },
   {
    "duration": 588,
    "start_time": "2023-04-19T18:22:46.244Z"
   },
   {
    "duration": 40,
    "start_time": "2023-04-19T18:22:46.841Z"
   },
   {
    "duration": 72,
    "start_time": "2023-04-19T18:22:46.883Z"
   },
   {
    "duration": 31,
    "start_time": "2023-04-19T18:22:46.956Z"
   },
   {
    "duration": 54,
    "start_time": "2023-04-19T18:22:46.990Z"
   },
   {
    "duration": 98,
    "start_time": "2023-04-19T18:22:47.047Z"
   },
   {
    "duration": 191,
    "start_time": "2023-04-19T18:22:47.146Z"
   },
   {
    "duration": 6,
    "start_time": "2023-04-19T18:22:47.340Z"
   },
   {
    "duration": 12,
    "start_time": "2023-04-19T18:22:47.347Z"
   },
   {
    "duration": 17,
    "start_time": "2023-04-19T18:22:47.361Z"
   },
   {
    "duration": 71,
    "start_time": "2023-04-19T18:22:47.380Z"
   },
   {
    "duration": 23,
    "start_time": "2023-04-19T18:22:47.455Z"
   },
   {
    "duration": 209,
    "start_time": "2023-04-19T18:22:47.480Z"
   },
   {
    "duration": 19,
    "start_time": "2023-04-19T18:22:47.691Z"
   },
   {
    "duration": 21,
    "start_time": "2023-04-19T18:22:47.716Z"
   },
   {
    "duration": 21,
    "start_time": "2023-04-19T18:22:47.739Z"
   },
   {
    "duration": 25,
    "start_time": "2023-04-19T18:22:47.762Z"
   },
   {
    "duration": 23,
    "start_time": "2023-04-19T18:22:47.788Z"
   },
   {
    "duration": 12,
    "start_time": "2023-04-19T18:23:02.400Z"
   },
   {
    "duration": 92,
    "start_time": "2023-04-19T18:23:40.704Z"
   },
   {
    "duration": 12,
    "start_time": "2023-04-19T18:23:54.386Z"
   },
   {
    "duration": 28,
    "start_time": "2023-04-19T18:24:05.183Z"
   },
   {
    "duration": 12,
    "start_time": "2023-04-19T18:24:14.232Z"
   },
   {
    "duration": 12,
    "start_time": "2023-04-19T18:25:10.096Z"
   },
   {
    "duration": 11,
    "start_time": "2023-04-19T18:26:04.256Z"
   },
   {
    "duration": 12,
    "start_time": "2023-04-19T18:26:18.775Z"
   },
   {
    "duration": 20,
    "start_time": "2023-04-19T18:26:58.543Z"
   },
   {
    "duration": 1126,
    "start_time": "2023-04-20T10:19:03.813Z"
   },
   {
    "duration": 3,
    "start_time": "2023-04-20T10:19:04.941Z"
   },
   {
    "duration": 208,
    "start_time": "2023-04-20T10:19:04.945Z"
   },
   {
    "duration": 15,
    "start_time": "2023-04-20T10:19:05.155Z"
   },
   {
    "duration": 24,
    "start_time": "2023-04-20T10:19:05.173Z"
   },
   {
    "duration": 24,
    "start_time": "2023-04-20T10:19:05.217Z"
   },
   {
    "duration": 39,
    "start_time": "2023-04-20T10:19:05.243Z"
   },
   {
    "duration": 74,
    "start_time": "2023-04-20T10:19:05.284Z"
   },
   {
    "duration": 90,
    "start_time": "2023-04-20T10:19:05.359Z"
   },
   {
    "duration": 3,
    "start_time": "2023-04-20T10:19:05.451Z"
   },
   {
    "duration": 40,
    "start_time": "2023-04-20T10:19:05.455Z"
   },
   {
    "duration": 38,
    "start_time": "2023-04-20T10:19:05.496Z"
   },
   {
    "duration": 112,
    "start_time": "2023-04-20T10:19:05.536Z"
   },
   {
    "duration": 49,
    "start_time": "2023-04-20T10:19:05.652Z"
   },
   {
    "duration": 17,
    "start_time": "2023-04-20T10:19:05.702Z"
   },
   {
    "duration": 64,
    "start_time": "2023-04-20T10:19:05.721Z"
   },
   {
    "duration": 31,
    "start_time": "2023-04-20T10:19:05.787Z"
   },
   {
    "duration": 40,
    "start_time": "2023-04-20T10:19:05.820Z"
   },
   {
    "duration": 100,
    "start_time": "2023-04-20T10:19:05.862Z"
   },
   {
    "duration": 16,
    "start_time": "2023-04-20T10:19:05.964Z"
   },
   {
    "duration": 18,
    "start_time": "2023-04-20T10:19:05.982Z"
   },
   {
    "duration": 44,
    "start_time": "2023-04-20T10:19:06.017Z"
   },
   {
    "duration": 35,
    "start_time": "2023-04-20T10:19:06.062Z"
   },
   {
    "duration": 154,
    "start_time": "2023-04-20T10:19:06.098Z"
   },
   {
    "duration": 22,
    "start_time": "2023-04-20T10:19:06.254Z"
   },
   {
    "duration": 6,
    "start_time": "2023-04-20T10:19:06.278Z"
   },
   {
    "duration": 313,
    "start_time": "2023-04-20T10:19:06.285Z"
   },
   {
    "duration": 607,
    "start_time": "2023-04-20T10:19:06.600Z"
   },
   {
    "duration": 30,
    "start_time": "2023-04-20T10:19:07.209Z"
   },
   {
    "duration": 484,
    "start_time": "2023-04-20T10:19:07.241Z"
   },
   {
    "duration": 36,
    "start_time": "2023-04-20T10:19:07.727Z"
   },
   {
    "duration": 66,
    "start_time": "2023-04-20T10:19:07.765Z"
   },
   {
    "duration": 24,
    "start_time": "2023-04-20T10:19:07.833Z"
   },
   {
    "duration": 26,
    "start_time": "2023-04-20T10:19:07.859Z"
   },
   {
    "duration": 92,
    "start_time": "2023-04-20T10:19:07.887Z"
   },
   {
    "duration": 181,
    "start_time": "2023-04-20T10:19:07.981Z"
   },
   {
    "duration": 5,
    "start_time": "2023-04-20T10:19:08.164Z"
   },
   {
    "duration": 10,
    "start_time": "2023-04-20T10:19:08.171Z"
   },
   {
    "duration": 16,
    "start_time": "2023-04-20T10:19:08.183Z"
   },
   {
    "duration": 68,
    "start_time": "2023-04-20T10:19:08.200Z"
   },
   {
    "duration": 24,
    "start_time": "2023-04-20T10:19:08.271Z"
   },
   {
    "duration": 180,
    "start_time": "2023-04-20T10:19:08.297Z"
   },
   {
    "duration": 5,
    "start_time": "2023-04-20T10:19:08.479Z"
   },
   {
    "duration": 22,
    "start_time": "2023-04-20T10:19:08.486Z"
   },
   {
    "duration": 15,
    "start_time": "2023-04-20T10:19:08.510Z"
   },
   {
    "duration": 9,
    "start_time": "2023-04-20T10:19:08.527Z"
   },
   {
    "duration": 11,
    "start_time": "2023-04-20T10:19:08.537Z"
   }
  ],
  "kernelspec": {
   "display_name": "Python 3 (ipykernel)",
   "language": "python",
   "name": "python3"
  },
  "language_info": {
   "codemirror_mode": {
    "name": "ipython",
    "version": 3
   },
   "file_extension": ".py",
   "mimetype": "text/x-python",
   "name": "python",
   "nbconvert_exporter": "python",
   "pygments_lexer": "ipython3",
   "version": "3.9.13"
  },
  "toc": {
   "base_numbering": 1,
   "nav_menu": {},
   "number_sections": false,
   "sideBar": true,
   "skip_h1_title": false,
   "title_cell": "Table of Contents",
   "title_sidebar": "Contents",
   "toc_cell": false,
   "toc_position": {
    "height": "calc(100% - 180px)",
    "left": "10px",
    "top": "150px",
    "width": "267.273px"
   },
   "toc_section_display": true,
   "toc_window_display": true
  }
 },
 "nbformat": 4,
 "nbformat_minor": 2
}
